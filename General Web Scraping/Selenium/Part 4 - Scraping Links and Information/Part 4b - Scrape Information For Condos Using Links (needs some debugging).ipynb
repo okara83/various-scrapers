{
 "cells": [
  {
   "cell_type": "code",
   "execution_count": null,
   "metadata": {},
   "outputs": [],
   "source": [
    "from datetime import datetime\n",
    "import time\n",
    "import pandas as pd\n",
    "import pickle as pk"
   ]
  },
  {
   "cell_type": "markdown",
   "metadata": {},
   "source": [
    "# Scraping data \n",
    "\n",
    "### from the .txt file created with `1.4a Scrape Condo Links.ipynb.ipynb`\n"
   ]
  },
  {
   "cell_type": "code",
   "execution_count": null,
   "metadata": {},
   "outputs": [],
   "source": [
    "with open('condo_links_all.txt') as f:\n",
    "    condo_links_all = f.read().splitlines()\n",
    "condo_links_all"
   ]
  },
  {
   "cell_type": "code",
   "execution_count": 4,
   "metadata": {},
   "outputs": [],
   "source": [
    "# Be very careful in order to extract the specific info you want\n",
    "from bs4 import BeautifulSoup\n",
    "import requests\n",
    "\n",
    "def retrieve(link):\n",
    "    '''function to retrive info'''\n",
    "    page = requests.get(link)\n",
    "    print(link)\n",
    "    soup = BeautifulSoup(page.content, 'html.parser')\n",
    "    \n",
    "    graph_data=soup.find(id=\"graph1\").get_text().strip()\n",
    "    \n",
    "    # If there is no price chart in the page, return 'None'\n",
    "    if graph_data != \"Not enough data to build the graph\":\n",
    "        name=soup.find(itemprop=\"name\").get_text().strip()\n",
    "        district=soup.find(itemprop=\"streetAddress\").get_text().strip().split(\",\")[-1].strip()\n",
    "        latitude=str(soup.find(itemprop=\"latitude\")).split(\"=\")[1].split()[0]\n",
    "        longitude=str(soup.find(itemprop=\"longitude\")).split(\"=\")[1].split()[0]\n",
    "    \n",
    "        description=str(soup.find(class_=\"property-description__content\"))\n",
    "        year_built=description.split(\". Condominium\")[0].split()[-1]\n",
    "        buildings=description.split(\"building\")[0].split()[-1]\n",
    "        floors=description.split(\"floors\")[0].split()[-1]\n",
    "        units=description.split(\"units\")[0].split()[-1]\n",
    "        print(name,district,latitude,longitude,\"\\n\",year_built,buildings,floors,units)\n",
    "        \n",
    "        neighborhood=[]\n",
    "        for i in range(0,15):\n",
    "            x=soup.find(class_=\"property-description__content\").findAll('li')[i].get_text()\n",
    "            neighborhood.append(x)\n",
    "        \n",
    "        shops=neighborhood[0:5]\n",
    "        #for x in shops: print(x)\n",
    "            \n",
    "        schools=neighborhood[5:10]\n",
    "        #for x in schools: print(x)\n",
    "        \n",
    "        restaurants=neighborhood[10:15]\n",
    "        #for x in restaurants: print(x)\n",
    "        \n",
    "        hospital=soup.find(class_=\"property-description__content\").findAll('p')[-3].get_text()\n",
    "        #print(hospital)\n",
    "        \n",
    "        # Amenities section\n",
    "        # Elevator,Parking,Security,CCTV,Pool,Sauna,Gym,Garden,Playground,Shop,Restaurant,Wifi\n",
    "        amenities=[]\n",
    "        for i in range(0,12):\n",
    "            if ('yes' in str(soup.find(class_=\"amenities\").findAll('li')[i])):\n",
    "                amenities.append(1)\n",
    "            else:\n",
    "                amenities.append(0)\n",
    "        #print(amenities)\n",
    "        \n",
    "        # Location and Neighborhood\n",
    "        transportation=[]\n",
    "        for i in range(0,5):\n",
    "            tran_type=soup.findAll(class_=\"media neighborhood-destination\")[i].find(class_=\"icon\").i['class'][1]\n",
    "            trans_name=soup.findAll(class_=\"media-heading\")[i].get_text()\n",
    "            trans_dist=soup.findAll(class_=\"media neighborhood-destination\")[i].find('small').get_text()\n",
    "            transportation.append((tran_type,trans_name,trans_dist))\n",
    "            \n",
    "        # Market Stats\n",
    "        price_sqm=soup.find(class_=\"indicator__amount\").find(class_=\"money\").get_text().strip('฿').replace(',',\"\")\n",
    "        change_last_q=soup.findAll(class_=\"indicator__amount\")[1].get_text().replace('\\n',\"\").strip()\n",
    "        change_last_y=soup.findAll(class_=\"indicator__amount\")[2].get_text().replace('\\n',\"\").strip()\n",
    "        rental_yield=soup.findAll(class_=\"indicator__amount\")[3].get_text().replace('\\n',\"\").strip()\n",
    "        change_last_y_rental_price=soup.findAll(class_=\"indicator__amount\")[4].get_text().replace('\\n',\"\").strip()\n",
    "        #print(price_sqm,change_last_q,change_last_y,rental_yield,change_last_y_rental_price)\n",
    "        \n",
    "        # price history graph\n",
    "        price_hist=soup.find(class_=\"row-fluid background-color-gray project__graph-container\").find('script').get_text().split('\\n')[3].strip().strip(',').replace('data: ',\"\")\n",
    "        #print(price_hist)\n",
    "        \n",
    "        return (name,district,latitude,longitude,year_built,buildings,floors,units,\\\n",
    "           shops,schools,restaurants,hospital,amenities,transportation,\\\n",
    "           price_sqm,change_last_q,change_last_y,rental_yield,change_last_y_rental_price,price_hist)\n",
    "    else:\n",
    "        print(\"---------Not enough data to build the graph----------\",'\\n')"
   ]
  },
  {
   "cell_type": "code",
   "execution_count": 5,
   "metadata": {},
   "outputs": [
    {
     "name": "stdout",
     "output_type": "stream",
     "text": [
      "https://www.hipflat.co.th/en/projects/baan-lalin-in-the-park-rama-2-ekachai-wcnynk\n",
      "0\n",
      "Time elapsed (hh:mm:ss.ms) 0:00:00.565957\n",
      "https://www.hipflat.co.th/en/projects/baan-mantika-fhiqfw\n",
      "1\n",
      "Time elapsed (hh:mm:ss.ms) 0:00:05.640503\n",
      "https://www.hipflat.co.th/en/projects/baan-phet-wongwaen-vlkaic\n",
      "2\n",
      "Time elapsed (hh:mm:ss.ms) 0:00:10.697468\n",
      "https://www.hipflat.co.th/en/projects/baan-phrapin-5-qwmptu\n",
      "3\n",
      "Time elapsed (hh:mm:ss.ms) 0:00:15.775698\n",
      "https://www.hipflat.co.th/en/projects/baan-sunthorn-7-aefyds\n",
      "4\n",
      "Time elapsed (hh:mm:ss.ms) 0:00:20.863091\n",
      "------------------------ dump @ i =  5 0\n",
      "https://www.hipflat.co.th/en/projects/baan-thaweethong-2-kwexqe\n",
      "5\n",
      "Time elapsed (hh:mm:ss.ms) 0:00:25.952566\n",
      "https://www.hipflat.co.th/en/projects/baan-nawarin-hgcvyi\n",
      "6\n",
      "Time elapsed (hh:mm:ss.ms) 0:00:31.030973\n",
      "https://www.hipflat.co.th/en/projects/bangbon-garden-ville-jawexj\n",
      "7\n",
      "Time elapsed (hh:mm:ss.ms) 0:00:36.089818\n",
      "https://www.hipflat.co.th/en/projects/centro-sukhumvit-113-uggfpo\n",
      "8\n",
      "Time elapsed (hh:mm:ss.ms) 0:00:41.162031\n",
      "https://www.hipflat.co.th/en/projects/chuan-chuen-ekkachaibangbon-4-ophjay\n",
      "9\n",
      "Time elapsed (hh:mm:ss.ms) 0:00:46.241231\n",
      "------------------------ dump @ i =  10 0\n",
      "https://www.hipflat.co.th/en/projects/condo-u-at-phaholyothin-station-vtkjvc\n",
      "10\n",
      "Time elapsed (hh:mm:ss.ms) 0:00:51.294959\n",
      "https://www.hipflat.co.th/en/projects/golden-prestige-ekachai-wongwaen-qzzlpi\n",
      "11\n",
      "Time elapsed (hh:mm:ss.ms) 0:00:56.356572\n",
      "https://www.hipflat.co.th/en/projects/golden-prestige-ekkachaiwongwaen-jacinx\n",
      "12\n",
      "Time elapsed (hh:mm:ss.ms) 0:01:01.425159\n",
      "https://www.hipflat.co.th/en/projects/keha-bangbon-igdbhp\n",
      "13\n",
      "Time elapsed (hh:mm:ss.ms) 0:01:06.480730\n",
      "https://www.hipflat.co.th/en/projects/kluai-mai-bang-bon-zhtcqi\n",
      "14\n",
      "Time elapsed (hh:mm:ss.ms) 0:01:11.546874\n"
     ]
    },
    {
     "ename": "KeyboardInterrupt",
     "evalue": "",
     "output_type": "error",
     "traceback": [
      "\u001b[0;31m---------------------------------------------------------------------------\u001b[0m",
      "\u001b[0;31mKeyboardInterrupt\u001b[0m                         Traceback (most recent call last)",
      "\u001b[0;32m/var/folders/sd/1vc_q83x5rn9jjrd0x47_cc00000gn/T/ipykernel_21149/2668292385.py\u001b[0m in \u001b[0;36m<module>\u001b[0;34m\u001b[0m\n\u001b[1;32m     16\u001b[0m \u001b[0;34m\u001b[0m\u001b[0m\n\u001b[1;32m     17\u001b[0m     \u001b[0;31m### Give the 'sleep' time. Space out each request so the server isn’t overwhelmed.\u001b[0m\u001b[0;34m\u001b[0m\u001b[0;34m\u001b[0m\u001b[0m\n\u001b[0;32m---> 18\u001b[0;31m     \u001b[0mtime\u001b[0m\u001b[0;34m.\u001b[0m\u001b[0msleep\u001b[0m\u001b[0;34m(\u001b[0m\u001b[0;36m5\u001b[0m\u001b[0;34m)\u001b[0m\u001b[0;34m\u001b[0m\u001b[0;34m\u001b[0m\u001b[0m\n\u001b[0m\u001b[1;32m     19\u001b[0m     \u001b[0mi\u001b[0m\u001b[0;34m=\u001b[0m\u001b[0mi\u001b[0m\u001b[0;34m+\u001b[0m\u001b[0;36m1\u001b[0m\u001b[0;34m\u001b[0m\u001b[0;34m\u001b[0m\u001b[0m\n\u001b[1;32m     20\u001b[0m \u001b[0;34m\u001b[0m\u001b[0m\n",
      "\u001b[0;31mKeyboardInterrupt\u001b[0m: "
     ]
    }
   ],
   "source": [
    "# Run the loop to retrieve data and store data as DataFrame, save as pickle.\n",
    "\n",
    "start_time = datetime.now()\n",
    "\n",
    "condo_list=[]\n",
    "i=0\n",
    "\n",
    "for link in condo_links_all:\n",
    "    try:\n",
    "        condo_list.append(retrieve(link))\n",
    "    except Exception: # Let the codes go if there is any error.\n",
    "        pass\n",
    "    print(i)\n",
    "    time_elapsed = datetime.now() - start_time\n",
    "    print('Time elapsed (hh:mm:ss.ms) {}'.format(time_elapsed))\n",
    "    \n",
    "    ### Give the 'sleep' time. Space out each request so the server isn’t overwhelmed.\n",
    "    time.sleep(5)\n",
    "    i=i+1\n",
    "\n",
    "    # This is the preventive step...\n",
    "    # You can even clear the list and name a new file to save processing memory.\n",
    "    # Dump the data periodically every 5 iterations.\n",
    "    if (i%5==0):\n",
    "        # Delete 'None' elements from the list.\n",
    "        condo_list = [c for c in condo_list if c is not None]\n",
    "        df = pd.DataFrame(condo_list)\n",
    "        with open('df.pkl', 'wb') as f:\n",
    "            pk.dump(df, f)\n",
    "        # Print out i,len(condo_list), so we can trace back if error occur.\n",
    "        # i is the index of 'condo_links_all'\n",
    "        print('------------------------ dump @ i = ',i,len(condo_list))         \n",
    "print(\"completed\")"
   ]
  },
  {
   "cell_type": "code",
   "execution_count": 6,
   "metadata": {},
   "outputs": [],
   "source": [
    "# Once complete, dump to pickle and save\n",
    "condo_list = [c for c in condo_list if c is not None]\n",
    "df_completed = pd.DataFrame(condo_list)\n",
    "with open('output_data_completed.pkl', 'wb') as f:\n",
    "    pk.dump(df_completed, f) "
   ]
  },
  {
   "cell_type": "code",
   "execution_count": 8,
   "metadata": {},
   "outputs": [],
   "source": [
    "# Read the output file, verify we got the info we wanted\n",
    "with open('output_data_completed.pkl','rb') as f:\n",
    "    (df) = pk.load(f)"
   ]
  },
  {
   "cell_type": "code",
   "execution_count": 9,
   "metadata": {},
   "outputs": [
    {
     "data": {
      "text/html": [
       "<div>\n",
       "<style scoped>\n",
       "    .dataframe tbody tr th:only-of-type {\n",
       "        vertical-align: middle;\n",
       "    }\n",
       "\n",
       "    .dataframe tbody tr th {\n",
       "        vertical-align: top;\n",
       "    }\n",
       "\n",
       "    .dataframe thead th {\n",
       "        text-align: right;\n",
       "    }\n",
       "</style>\n",
       "<table border=\"1\" class=\"dataframe\">\n",
       "  <thead>\n",
       "    <tr style=\"text-align: right;\">\n",
       "      <th></th>\n",
       "    </tr>\n",
       "  </thead>\n",
       "  <tbody>\n",
       "  </tbody>\n",
       "</table>\n",
       "</div>"
      ],
      "text/plain": [
       "Empty DataFrame\n",
       "Columns: []\n",
       "Index: []"
      ]
     },
     "execution_count": 9,
     "metadata": {},
     "output_type": "execute_result"
    }
   ],
   "source": []
  },
  {
   "cell_type": "code",
   "execution_count": null,
   "metadata": {},
   "outputs": [],
   "source": []
  }
 ],
 "metadata": {
  "kernelspec": {
   "display_name": "Python 3 (ipykernel)",
   "language": "python",
   "name": "python3"
  },
  "language_info": {
   "codemirror_mode": {
    "name": "ipython",
    "version": 3
   },
   "file_extension": ".py",
   "mimetype": "text/x-python",
   "name": "python",
   "nbconvert_exporter": "python",
   "pygments_lexer": "ipython3",
   "version": "3.9.10"
  }
 },
 "nbformat": 4,
 "nbformat_minor": 2
}
