{
 "cells": [
  {
   "cell_type": "markdown",
   "id": "eee483e3",
   "metadata": {},
   "source": [
    "# What is Selenium?\n",
    "Selenium Python bindings provides a simple API to write functional/acceptance tests using Selenium WebDriver. Through Selenium Python API you can access all functionalities of Selenium WebDriver in an intuitive way.\n",
    "\n",
    "Selenium Python bindings provide a convenient API to access Selenium WebDrivers like Firefox, Ie, Chrome, Remote etc. The current supported Python versions are 3.5 and above.\n",
    "\n",
    "This documentation explains Selenium 2 WebDriver API. Selenium 1 / Selenium RC API is not covered here."
   ]
  },
  {
   "cell_type": "markdown",
   "id": "575c7055",
   "metadata": {},
   "source": [
    "## Installing Python bindings for Selenium\n",
    "Use pip to install the selenium package. Python 3 has pip available in the standard library. Using pip, you can install selenium like this:\n",
    "\n",
    "`pip install selenium`<br><br>\n",
    "You may consider using virtualenv to create isolated Python environments. Python 3 has venv which is almost the same as virtualenv.\n",
    "\n",
    "You can also download Python bindings for Selenium from the PyPI page for selenium package. and install manually."
   ]
  },
  {
   "cell_type": "markdown",
   "id": "f0175630",
   "metadata": {},
   "source": [
    "## Instructions for Windows users\n",
    "Install Python 3 using the MSI available in python.org download page.\n",
    "\n",
    "Start a command prompt using the cmd.exe program and run the pip command as given below to install selenium.\n",
    "\n",
    "`C:\\Python39\\Scripts\\pip.exe install selenium`<br><br>\n",
    "Now you can run your test scripts using Python. For example, if you have created a Selenium based script and saved it inside C:\\my_selenium_script.py, you can run it like this:<br>\n",
    "\n",
    "`C:\\Python39\\python.exe C:\\my_selenium_script.py`"
   ]
  },
  {
   "cell_type": "markdown",
   "id": "85fe75b4",
   "metadata": {},
   "source": [
    "## Drivers\n",
    "Selenium requires a driver to interface with the chosen browser. Firefox, for example, requires geckodriver, which needs to be installed before the below examples can be run. Make sure it’s in your PATH, e. g., place it in `/usr/bin` or `/usr/local/bin`.\n",
    "\n",
    "Failure to observe this step will give you an error selenium.common.exceptions.WebDriverException: Message: ‘geckodriver’ executable needs to be in PATH.\n",
    "\n",
    "Other supported browsers will have their own drivers available. Links to some of the more popular browser drivers follow.\n",
    "<ul>\n",
    "<li>Chrome:\t<a href=\"https://sites.google.com/chromium.org/driver/\">Download Chrome Driver</a></li>\n",
    "<li>Edge:\t<a href=\"https://developer.microsoft.com/en-us/microsoft-edge/tools/webdriver/\">Download Edge Driver</a></li>\n",
    "<li>Firefox:\t<a href=\"https://github.com/mozilla/geckodriver/releases\">Download Firefox Driver</a></li>\n",
    "<li>Safari:\t<a href=\"https://webkit.org/blog/6900/webdriver-support-in-safari-10/\">Download Safari Driver</a></li>\n",
    "</ul><br>\n",
    "\n",
    "### On Mac and Linux System, I might be easiest to just `brew` install the drivers\n",
    "\n",
    "As long as ou already have brew, this is simple as typing the following command in the terminal:<br>\n",
    "`brew install chrome`\n",
    "\n",
    "For more information about driver installation, please refer the <a href=\"https://www.selenium.dev/documentation/en/webdriver/driver_requirements/\">official documentation</a>."
   ]
  },
  {
   "cell_type": "markdown",
   "id": "033865e7",
   "metadata": {},
   "source": [
    "# **Optional\n",
    "\n",
    "## Downloading Selenium server\n",
    "\n",
    "### Note:\n",
    "The Selenium server is only required if you want to use the remote WebDriver. See the Using Selenium with remote WebDriver section for more details. If you are a beginner learning Selenium, you can skip this section and proceed with next chapter.\n",
    "\n",
    "Selenium server is a Java program. Java Runtime Environment (JRE) 1.6 or newer version is recommended to run Selenium server.\n",
    "\n",
    "You can download Selenium server 2.x from the download page of selenium website. The file name should be something like this: selenium-server-standalone-2.x.x.jar. You can always download the latest 2.x version of Selenium server.\n",
    "\n",
    "If Java Runtime Environment (JRE) is not installed in your system, you can download the JRE from the Oracle website. If you are using a GNU/Linux system and have root access in your system, you can also use your operating system instructions to install JRE.\n",
    "\n",
    "If java command is available in the PATH (environment variable), you can start the Selenium server using this command:<br>\n",
    "<br>\n",
    "`java -jar selenium-server-standalone-2.x.x.jar`<br><br>\n",
    "Replace 2.x.x with the actual version of Selenium server you downloaded from the site.\n",
    "\n",
    "If JRE is installed as a non-root user and/or if it is not available in the PATH (environment variable), you can type the relative or absolute path to the java command. Similarly, you can provide a relative or absolute path to Selenium server jar file. Then, the command will look something like this\n",
    "<br><br>\n",
    "`/path/to/java -jar /path/to/selenium-server-standalone-2.x.x.jar`"
   ]
  },
  {
   "cell_type": "code",
   "execution_count": null,
   "id": "09cd426d",
   "metadata": {},
   "outputs": [],
   "source": []
  },
  {
   "cell_type": "code",
   "execution_count": null,
   "id": "8086e58a",
   "metadata": {},
   "outputs": [],
   "source": []
  }
 ],
 "metadata": {
  "kernelspec": {
   "display_name": "Python 3 (ipykernel)",
   "language": "python",
   "name": "python3"
  },
  "language_info": {
   "codemirror_mode": {
    "name": "ipython",
    "version": 3
   },
   "file_extension": ".py",
   "mimetype": "text/x-python",
   "name": "python",
   "nbconvert_exporter": "python",
   "pygments_lexer": "ipython3",
   "version": "3.9.10"
  }
 },
 "nbformat": 4,
 "nbformat_minor": 5
}
