{
 "cells": [
  {
   "cell_type": "markdown",
   "id": "f3802437",
   "metadata": {},
   "source": [
    "# Debugging Installed Driver Errors"
   ]
  },
  {
   "cell_type": "markdown",
   "id": "0be94e45",
   "metadata": {},
   "source": [
    "## MacOS and Linux"
   ]
  },
  {
   "cell_type": "markdown",
   "id": "70fec5c9",
   "metadata": {},
   "source": [
    "If you get the following error when attemping to instantiate the Webdriver object from the selenium library;<br>\n",
    "`“chromedriver” cannot be opened because the developer cannot be verified.`<br>\n",
    "<br>\n",
    "Try the following steps to resolve this issue:"
   ]
  },
  {
   "cell_type": "markdown",
   "id": "a1e75671",
   "metadata": {},
   "source": [
    "## Step 1 -- Locate the `chromedriver binary path` \n",
    "To find chromedriver binary path, run the following command in the terminal:\n"
   ]
  },
  {
   "cell_type": "markdown",
   "id": "3e9117c8",
   "metadata": {},
   "source": [
    "`which chromedriver`"
   ]
  },
  {
   "cell_type": "markdown",
   "id": "a046684b",
   "metadata": {},
   "source": [
    "You should see an output similar to the following text:\n",
    "`/usr/local/bin/chromedriver`"
   ]
  },
  {
   "cell_type": "markdown",
   "id": "6534a2e8",
   "metadata": {},
   "source": [
    "## Step 2 -- Lift the quarantine for the chromedriver binary\n",
    "\n",
    "We need to allow the binary file to be trusted by MacOS and this is done by `lifting the quarantine`.<br> Do this by the following terminal command:\n"
   ]
  },
  {
   "cell_type": "markdown",
   "id": "2ab2aae2",
   "metadata": {},
   "source": [
    "`xattr -d com.apple.quarantine /usr/local/bin/chromedriver`"
   ]
  },
  {
   "cell_type": "markdown",
   "id": "ca65a706",
   "metadata": {},
   "source": [
    "## Step 3 -- Restart the terminal or your Jupyter kernal and rerun the code that was crashing.\n",
    " \n",
    "You should be able to run chromedriver without the error.\n",
    "\n"
   ]
  },
  {
   "cell_type": "code",
   "execution_count": null,
   "id": "2d24b4f4",
   "metadata": {},
   "outputs": [],
   "source": []
  },
  {
   "cell_type": "code",
   "execution_count": null,
   "id": "0f67ca0d",
   "metadata": {},
   "outputs": [],
   "source": []
  }
 ],
 "metadata": {
  "kernelspec": {
   "display_name": "Python 3 (ipykernel)",
   "language": "python",
   "name": "python3"
  },
  "language_info": {
   "codemirror_mode": {
    "name": "ipython",
    "version": 3
   },
   "file_extension": ".py",
   "mimetype": "text/x-python",
   "name": "python",
   "nbconvert_exporter": "python",
   "pygments_lexer": "ipython3",
   "version": "3.9.10"
  }
 },
 "nbformat": 4,
 "nbformat_minor": 5
}
