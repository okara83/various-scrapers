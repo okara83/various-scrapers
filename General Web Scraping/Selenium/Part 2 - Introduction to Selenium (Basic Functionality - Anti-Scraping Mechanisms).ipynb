{
 "cells": [
  {
   "cell_type": "markdown",
   "id": "524547bc",
   "metadata": {},
   "source": [
    "# Selenium Web Scraping \n",
    "We will collect a range of fuel prices from a price comparison website"
   ]
  },
  {
   "cell_type": "code",
   "execution_count": 1,
   "id": "5c137834",
   "metadata": {},
   "outputs": [],
   "source": [
    "import time\n",
    "import pandas as pd\n",
    "import csv\n",
    "import random\n",
    "import string\n",
    "from bs4 import BeautifulSoup\n",
    "from selenium import webdriver\n",
    "from selenium.webdriver.chrome.options import Options\n",
    "from selenium.webdriver.common.keys import Keys"
   ]
  },
  {
   "cell_type": "code",
   "execution_count": 3,
   "id": "c53c1722",
   "metadata": {},
   "outputs": [],
   "source": [
    "driver = webdriver.Chrome(\"chromedriver\")"
   ]
  },
  {
   "cell_type": "code",
   "execution_count": null,
   "id": "62ba9127",
   "metadata": {},
   "outputs": [],
   "source": [
    "# attempt to collect a range of fuel prices from a price comparison website into a single dataframe"
   ]
  },
  {
   "cell_type": "markdown",
   "id": "6363c58e",
   "metadata": {},
   "source": [
    "### Headless Mode\n",
    "To speed up our scraping task, we can initialise the browser in `headless mode` and"
   ]
  },
  {
   "cell_type": "code",
   "execution_count": null,
   "id": "f1205f5e",
   "metadata": {},
   "outputs": [],
   "source": [
    "chrome_options = Options()\n",
    "chrome_options.add_argument(\"--headless\")"
   ]
  },
  {
   "cell_type": "markdown",
   "id": "5ac43880",
   "metadata": {},
   "source": [
    "Instantiate the webdriver just as before, but now pass the options with the `--headless` option indicating our preference"
   ]
  },
  {
   "cell_type": "code",
   "execution_count": null,
   "id": "63367bbd",
   "metadata": {},
   "outputs": [],
   "source": [
    "driver = webdriver.Chrome(options=chrome_options, executable_path=r\"chromedriver\")"
   ]
  },
  {
   "cell_type": "markdown",
   "id": "a26e58b1",
   "metadata": {},
   "source": [
    "### Trying To Mimic Human Browsing"
   ]
  },
  {
   "cell_type": "code",
   "execution_count": 4,
   "id": "d2d2e89d",
   "metadata": {},
   "outputs": [],
   "source": [
    "def slow_typing(element, text):\n",
    "    '''Function attempting to imitate\n",
    "    slow typing and in order to avoid\n",
    "    detection by anti-bot software'''\n",
    "    for character in text:\n",
    "        element.send_keys(character)\n",
    "        time.sleep(0.3)"
   ]
  },
  {
   "cell_type": "code",
   "execution_count": 5,
   "id": "0cc90626",
   "metadata": {},
   "outputs": [],
   "source": [
    "driver.get(\"https://www.allstarcard.co.uk/tools/uk-fuel-prices/\")"
   ]
  },
  {
   "cell_type": "markdown",
   "id": "23810b6a",
   "metadata": {},
   "source": [
    "We note that this page has a common `anti-scraping measure` implemented, in which it asks to;<br>\n",
    "\n",
    "`register with a name and email address`\n",
    "\n",
    "This particular anti-scraping measure `does not require email address confirmation` so you can add arbitrary information and then access the target content"
   ]
  },
  {
   "cell_type": "markdown",
   "id": "5c1ad179",
   "metadata": {},
   "source": [
    "### Fill in the `Name` field as `MyArbitraryName` through the `css_selector` labeled as `#Name`\n",
    "We first need to locate that field, and we do that by its `CSS Selector` as follows, the we send the information using `send_keys(MyArbitraryName)`"
   ]
  },
  {
   "cell_type": "code",
   "execution_count": 6,
   "id": "d24925c8",
   "metadata": {},
   "outputs": [
    {
     "name": "stderr",
     "output_type": "stream",
     "text": [
      "/var/folders/sd/1vc_q83x5rn9jjrd0x47_cc00000gn/T/ipykernel_20117/2682149096.py:1: DeprecationWarning: find_element_by_* commands are deprecated. Please use find_element() instead\n",
      "  element = driver.find_element_by_css_selector(\"#Name\")\n"
     ]
    }
   ],
   "source": [
    "element = driver.find_element_by_css_selector(\"#Name\")\n",
    "element.send_keys('MyArbitraryName')"
   ]
  },
  {
   "cell_type": "markdown",
   "id": "449238f6",
   "metadata": {},
   "source": [
    "Next we find the `Email` field.<br>\n",
    "NOTE: Each email only allows a limited number of searches, so we will need to create a new one everytime\n",
    "<br>\n",
    "<br>generate a random string and enter it in email format using string interpolation."
   ]
  },
  {
   "cell_type": "code",
   "execution_count": 8,
   "id": "d9c56ee1",
   "metadata": {},
   "outputs": [],
   "source": [
    "def randomString(stringLength=8):\n",
    "    '''function to generate a random \n",
    "    string and enter it in email format \n",
    "    using string interpolation'''\n",
    "    letters = string.ascii_lowercase\n",
    "    return ''.join(random.choice(letters) for i in range(stringLength))"
   ]
  },
  {
   "cell_type": "code",
   "execution_count": 9,
   "id": "2f95085e",
   "metadata": {},
   "outputs": [],
   "source": [
    "email = randomString(8)"
   ]
  },
  {
   "cell_type": "code",
   "execution_count": 11,
   "id": "deeeed22",
   "metadata": {},
   "outputs": [
    {
     "name": "stderr",
     "output_type": "stream",
     "text": [
      "/var/folders/sd/1vc_q83x5rn9jjrd0x47_cc00000gn/T/ipykernel_20117/3521542417.py:1: DeprecationWarning: find_element_by_* commands are deprecated. Please use find_element() instead\n",
      "  element = driver.find_element_by_css_selector(\"#Email\")\n"
     ]
    },
    {
     "ename": "ElementNotInteractableException",
     "evalue": "Message: element not interactable\n  (Session info: chrome=98.0.4758.80)\nStacktrace:\n0   chromedriver                        0x000000010a7e83c9 chromedriver + 5018569\n1   chromedriver                        0x000000010a773333 chromedriver + 4539187\n2   chromedriver                        0x000000010a34893f chromedriver + 170303\n3   chromedriver                        0x000000010a37787e chromedriver + 362622\n4   chromedriver                        0x000000010a376e7b chromedriver + 360059\n5   chromedriver                        0x000000010a39a7e2 chromedriver + 505826\n6   chromedriver                        0x000000010a371de5 chromedriver + 339429\n7   chromedriver                        0x000000010a39a8ee chromedriver + 506094\n8   chromedriver                        0x000000010a3ad604 chromedriver + 583172\n9   chromedriver                        0x000000010a39a6d3 chromedriver + 505555\n10  chromedriver                        0x000000010a37095e chromedriver + 334174\n11  chromedriver                        0x000000010a371935 chromedriver + 338229\n12  chromedriver                        0x000000010a7a41ee chromedriver + 4739566\n13  chromedriver                        0x000000010a7bdf51 chromedriver + 4845393\n14  chromedriver                        0x000000010a7c3928 chromedriver + 4868392\n15  chromedriver                        0x000000010a7bea7a chromedriver + 4848250\n16  chromedriver                        0x000000010a798c31 chromedriver + 4693041\n17  chromedriver                        0x000000010a7d9978 chromedriver + 4958584\n18  chromedriver                        0x000000010a7d9b01 chromedriver + 4958977\n19  chromedriver                        0x000000010a7ef795 chromedriver + 5048213\n20  libsystem_pthread.dylib             0x00007ff805e6f4f4 _pthread_start + 125\n21  libsystem_pthread.dylib             0x00007ff805e6b00f thread_start + 15\n",
     "output_type": "error",
     "traceback": [
      "\u001b[0;31m---------------------------------------------------------------------------\u001b[0m",
      "\u001b[0;31mElementNotInteractableException\u001b[0m           Traceback (most recent call last)",
      "\u001b[0;32m/var/folders/sd/1vc_q83x5rn9jjrd0x47_cc00000gn/T/ipykernel_20117/3521542417.py\u001b[0m in \u001b[0;36m<module>\u001b[0;34m\u001b[0m\n\u001b[1;32m      1\u001b[0m \u001b[0melement\u001b[0m \u001b[0;34m=\u001b[0m \u001b[0mdriver\u001b[0m\u001b[0;34m.\u001b[0m\u001b[0mfind_element_by_css_selector\u001b[0m\u001b[0;34m(\u001b[0m\u001b[0;34m\"#Email\"\u001b[0m\u001b[0;34m)\u001b[0m\u001b[0;34m\u001b[0m\u001b[0;34m\u001b[0m\u001b[0m\n\u001b[0;32m----> 2\u001b[0;31m \u001b[0melement\u001b[0m\u001b[0;34m.\u001b[0m\u001b[0msend_keys\u001b[0m\u001b[0;34m(\u001b[0m\u001b[0;34mf'{email}@gmail.com'\u001b[0m\u001b[0;34m)\u001b[0m\u001b[0;34m\u001b[0m\u001b[0;34m\u001b[0m\u001b[0m\n\u001b[0m\u001b[1;32m      3\u001b[0m \u001b[0;31m# We now send the return key from the keyboard to initiate our search\u001b[0m\u001b[0;34m\u001b[0m\u001b[0;34m\u001b[0m\u001b[0m\n\u001b[1;32m      4\u001b[0m \u001b[0melement\u001b[0m\u001b[0;34m.\u001b[0m\u001b[0msend_keys\u001b[0m\u001b[0;34m(\u001b[0m\u001b[0mKeys\u001b[0m\u001b[0;34m.\u001b[0m\u001b[0mRETURN\u001b[0m\u001b[0;34m)\u001b[0m\u001b[0;34m\u001b[0m\u001b[0;34m\u001b[0m\u001b[0m\n\u001b[1;32m      5\u001b[0m \u001b[0;31m# Allow a brief pause for the web page to load\u001b[0m\u001b[0;34m\u001b[0m\u001b[0;34m\u001b[0m\u001b[0m\n",
      "\u001b[0;32m/usr/local/lib/python3.9/site-packages/selenium/webdriver/remote/webelement.py\u001b[0m in \u001b[0;36msend_keys\u001b[0;34m(self, *value)\u001b[0m\n\u001b[1;32m    538\u001b[0m                 \u001b[0mvalue\u001b[0m \u001b[0;34m=\u001b[0m \u001b[0;34m'\\n'\u001b[0m\u001b[0;34m.\u001b[0m\u001b[0mjoin\u001b[0m\u001b[0;34m(\u001b[0m\u001b[0mremote_files\u001b[0m\u001b[0;34m)\u001b[0m\u001b[0;34m\u001b[0m\u001b[0;34m\u001b[0m\u001b[0m\n\u001b[1;32m    539\u001b[0m \u001b[0;34m\u001b[0m\u001b[0m\n\u001b[0;32m--> 540\u001b[0;31m         self._execute(Command.SEND_KEYS_TO_ELEMENT,\n\u001b[0m\u001b[1;32m    541\u001b[0m                       {'text': \"\".join(keys_to_typing(value)),\n\u001b[1;32m    542\u001b[0m                        'value': keys_to_typing(value)})\n",
      "\u001b[0;32m/usr/local/lib/python3.9/site-packages/selenium/webdriver/remote/webelement.py\u001b[0m in \u001b[0;36m_execute\u001b[0;34m(self, command, params)\u001b[0m\n\u001b[1;32m    708\u001b[0m             \u001b[0mparams\u001b[0m \u001b[0;34m=\u001b[0m \u001b[0;34m{\u001b[0m\u001b[0;34m}\u001b[0m\u001b[0;34m\u001b[0m\u001b[0;34m\u001b[0m\u001b[0m\n\u001b[1;32m    709\u001b[0m         \u001b[0mparams\u001b[0m\u001b[0;34m[\u001b[0m\u001b[0;34m'id'\u001b[0m\u001b[0;34m]\u001b[0m \u001b[0;34m=\u001b[0m \u001b[0mself\u001b[0m\u001b[0;34m.\u001b[0m\u001b[0m_id\u001b[0m\u001b[0;34m\u001b[0m\u001b[0;34m\u001b[0m\u001b[0m\n\u001b[0;32m--> 710\u001b[0;31m         \u001b[0;32mreturn\u001b[0m \u001b[0mself\u001b[0m\u001b[0;34m.\u001b[0m\u001b[0m_parent\u001b[0m\u001b[0;34m.\u001b[0m\u001b[0mexecute\u001b[0m\u001b[0;34m(\u001b[0m\u001b[0mcommand\u001b[0m\u001b[0;34m,\u001b[0m \u001b[0mparams\u001b[0m\u001b[0;34m)\u001b[0m\u001b[0;34m\u001b[0m\u001b[0;34m\u001b[0m\u001b[0m\n\u001b[0m\u001b[1;32m    711\u001b[0m \u001b[0;34m\u001b[0m\u001b[0m\n\u001b[1;32m    712\u001b[0m     \u001b[0;32mdef\u001b[0m \u001b[0mfind_element\u001b[0m\u001b[0;34m(\u001b[0m\u001b[0mself\u001b[0m\u001b[0;34m,\u001b[0m \u001b[0mby\u001b[0m\u001b[0;34m=\u001b[0m\u001b[0mBy\u001b[0m\u001b[0;34m.\u001b[0m\u001b[0mID\u001b[0m\u001b[0;34m,\u001b[0m \u001b[0mvalue\u001b[0m\u001b[0;34m=\u001b[0m\u001b[0;32mNone\u001b[0m\u001b[0;34m)\u001b[0m\u001b[0;34m:\u001b[0m\u001b[0;34m\u001b[0m\u001b[0;34m\u001b[0m\u001b[0m\n",
      "\u001b[0;32m/usr/local/lib/python3.9/site-packages/selenium/webdriver/remote/webdriver.py\u001b[0m in \u001b[0;36mexecute\u001b[0;34m(self, driver_command, params)\u001b[0m\n\u001b[1;32m    422\u001b[0m         \u001b[0mresponse\u001b[0m \u001b[0;34m=\u001b[0m \u001b[0mself\u001b[0m\u001b[0;34m.\u001b[0m\u001b[0mcommand_executor\u001b[0m\u001b[0;34m.\u001b[0m\u001b[0mexecute\u001b[0m\u001b[0;34m(\u001b[0m\u001b[0mdriver_command\u001b[0m\u001b[0;34m,\u001b[0m \u001b[0mparams\u001b[0m\u001b[0;34m)\u001b[0m\u001b[0;34m\u001b[0m\u001b[0;34m\u001b[0m\u001b[0m\n\u001b[1;32m    423\u001b[0m         \u001b[0;32mif\u001b[0m \u001b[0mresponse\u001b[0m\u001b[0;34m:\u001b[0m\u001b[0;34m\u001b[0m\u001b[0;34m\u001b[0m\u001b[0m\n\u001b[0;32m--> 424\u001b[0;31m             \u001b[0mself\u001b[0m\u001b[0;34m.\u001b[0m\u001b[0merror_handler\u001b[0m\u001b[0;34m.\u001b[0m\u001b[0mcheck_response\u001b[0m\u001b[0;34m(\u001b[0m\u001b[0mresponse\u001b[0m\u001b[0;34m)\u001b[0m\u001b[0;34m\u001b[0m\u001b[0;34m\u001b[0m\u001b[0m\n\u001b[0m\u001b[1;32m    425\u001b[0m             response['value'] = self._unwrap_value(\n\u001b[1;32m    426\u001b[0m                 response.get('value', None))\n",
      "\u001b[0;32m/usr/local/lib/python3.9/site-packages/selenium/webdriver/remote/errorhandler.py\u001b[0m in \u001b[0;36mcheck_response\u001b[0;34m(self, response)\u001b[0m\n\u001b[1;32m    245\u001b[0m                 \u001b[0malert_text\u001b[0m \u001b[0;34m=\u001b[0m \u001b[0mvalue\u001b[0m\u001b[0;34m[\u001b[0m\u001b[0;34m'alert'\u001b[0m\u001b[0;34m]\u001b[0m\u001b[0;34m.\u001b[0m\u001b[0mget\u001b[0m\u001b[0;34m(\u001b[0m\u001b[0;34m'text'\u001b[0m\u001b[0;34m)\u001b[0m\u001b[0;34m\u001b[0m\u001b[0;34m\u001b[0m\u001b[0m\n\u001b[1;32m    246\u001b[0m             \u001b[0;32mraise\u001b[0m \u001b[0mexception_class\u001b[0m\u001b[0;34m(\u001b[0m\u001b[0mmessage\u001b[0m\u001b[0;34m,\u001b[0m \u001b[0mscreen\u001b[0m\u001b[0;34m,\u001b[0m \u001b[0mstacktrace\u001b[0m\u001b[0;34m,\u001b[0m \u001b[0malert_text\u001b[0m\u001b[0;34m)\u001b[0m  \u001b[0;31m# type: ignore[call-arg]  # mypy is not smart enough here\u001b[0m\u001b[0;34m\u001b[0m\u001b[0;34m\u001b[0m\u001b[0m\n\u001b[0;32m--> 247\u001b[0;31m         \u001b[0;32mraise\u001b[0m \u001b[0mexception_class\u001b[0m\u001b[0;34m(\u001b[0m\u001b[0mmessage\u001b[0m\u001b[0;34m,\u001b[0m \u001b[0mscreen\u001b[0m\u001b[0;34m,\u001b[0m \u001b[0mstacktrace\u001b[0m\u001b[0;34m)\u001b[0m\u001b[0;34m\u001b[0m\u001b[0;34m\u001b[0m\u001b[0m\n\u001b[0m\u001b[1;32m    248\u001b[0m \u001b[0;34m\u001b[0m\u001b[0m\n\u001b[1;32m    249\u001b[0m     \u001b[0;32mdef\u001b[0m \u001b[0m_value_or_default\u001b[0m\u001b[0;34m(\u001b[0m\u001b[0mself\u001b[0m\u001b[0;34m,\u001b[0m \u001b[0mobj\u001b[0m\u001b[0;34m:\u001b[0m \u001b[0mMapping\u001b[0m\u001b[0;34m[\u001b[0m\u001b[0m_KT\u001b[0m\u001b[0;34m,\u001b[0m \u001b[0m_VT\u001b[0m\u001b[0;34m]\u001b[0m\u001b[0;34m,\u001b[0m \u001b[0mkey\u001b[0m\u001b[0;34m:\u001b[0m \u001b[0m_KT\u001b[0m\u001b[0;34m,\u001b[0m \u001b[0mdefault\u001b[0m\u001b[0;34m:\u001b[0m \u001b[0m_VT\u001b[0m\u001b[0;34m)\u001b[0m \u001b[0;34m->\u001b[0m \u001b[0m_VT\u001b[0m\u001b[0;34m:\u001b[0m\u001b[0;34m\u001b[0m\u001b[0;34m\u001b[0m\u001b[0m\n",
      "\u001b[0;31mElementNotInteractableException\u001b[0m: Message: element not interactable\n  (Session info: chrome=98.0.4758.80)\nStacktrace:\n0   chromedriver                        0x000000010a7e83c9 chromedriver + 5018569\n1   chromedriver                        0x000000010a773333 chromedriver + 4539187\n2   chromedriver                        0x000000010a34893f chromedriver + 170303\n3   chromedriver                        0x000000010a37787e chromedriver + 362622\n4   chromedriver                        0x000000010a376e7b chromedriver + 360059\n5   chromedriver                        0x000000010a39a7e2 chromedriver + 505826\n6   chromedriver                        0x000000010a371de5 chromedriver + 339429\n7   chromedriver                        0x000000010a39a8ee chromedriver + 506094\n8   chromedriver                        0x000000010a3ad604 chromedriver + 583172\n9   chromedriver                        0x000000010a39a6d3 chromedriver + 505555\n10  chromedriver                        0x000000010a37095e chromedriver + 334174\n11  chromedriver                        0x000000010a371935 chromedriver + 338229\n12  chromedriver                        0x000000010a7a41ee chromedriver + 4739566\n13  chromedriver                        0x000000010a7bdf51 chromedriver + 4845393\n14  chromedriver                        0x000000010a7c3928 chromedriver + 4868392\n15  chromedriver                        0x000000010a7bea7a chromedriver + 4848250\n16  chromedriver                        0x000000010a798c31 chromedriver + 4693041\n17  chromedriver                        0x000000010a7d9978 chromedriver + 4958584\n18  chromedriver                        0x000000010a7d9b01 chromedriver + 4958977\n19  chromedriver                        0x000000010a7ef795 chromedriver + 5048213\n20  libsystem_pthread.dylib             0x00007ff805e6f4f4 _pthread_start + 125\n21  libsystem_pthread.dylib             0x00007ff805e6b00f thread_start + 15\n"
     ]
    }
   ],
   "source": [
    "element = driver.find_element_by_css_selector(\"#Email\")\n",
    "element.send_keys(f'{email}@gmail.com')\n",
    "# We now send the return key from the keyboard to initiate our search\n",
    "element.send_keys(Keys.RETURN)\n",
    "# Allow a brief pause for the web page to load\n",
    "time.sleep(5)"
   ]
  },
  {
   "cell_type": "code",
   "execution_count": null,
   "id": "ab9c7de5",
   "metadata": {},
   "outputs": [],
   "source": [
    "# Next we find the 'Email' field as. As each email only allows a limited number of searches, we will need to create a new one everytime\n"
   ]
  },
  {
   "cell_type": "code",
   "execution_count": 12,
   "id": "0f8637a5",
   "metadata": {},
   "outputs": [
    {
     "name": "stderr",
     "output_type": "stream",
     "text": [
      "/var/folders/sd/1vc_q83x5rn9jjrd0x47_cc00000gn/T/ipykernel_20117/2550671485.py:1: DeprecationWarning: find_element_by_* commands are deprecated. Please use find_element() instead\n",
      "  driver.find_element_by_class_name('ub-emb-close').click()\n"
     ]
    }
   ],
   "source": [
    "driver.find_element_by_class_name('ub-emb-close').click()"
   ]
  },
  {
   "cell_type": "code",
   "execution_count": null,
   "id": "5fb61717",
   "metadata": {},
   "outputs": [],
   "source": []
  },
  {
   "cell_type": "code",
   "execution_count": null,
   "id": "1b3bb697",
   "metadata": {},
   "outputs": [],
   "source": []
  }
 ],
 "metadata": {
  "kernelspec": {
   "display_name": "Python 3 (ipykernel)",
   "language": "python",
   "name": "python3"
  },
  "language_info": {
   "codemirror_mode": {
    "name": "ipython",
    "version": 3
   },
   "file_extension": ".py",
   "mimetype": "text/x-python",
   "name": "python",
   "nbconvert_exporter": "python",
   "pygments_lexer": "ipython3",
   "version": "3.9.10"
  }
 },
 "nbformat": 4,
 "nbformat_minor": 5
}
