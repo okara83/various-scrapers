{
 "cells": [
  {
   "cell_type": "markdown",
   "metadata": {},
   "source": [
    "# Flows on graphs\n",
    "In this lab we present the Ford Fulkerson algorithm for finding the maximum admissible flow on a capacitated network and we explore its connections with the Max Flow - Min Cut theorem. \n",
    "\n",
    "Then we present network flow optimization problems, which consist in finding a flow vector that maximize/minimize some objective subject to network constraints, and we see how to use CVXPY to solve them. "
   ]
  },
  {
   "cell_type": "markdown",
   "metadata": {},
   "source": [
    "## Max Flow - Min Cut Theorem and the Ford Fulkerson algorithm\n",
    "It is given a graph $G = (V, E)$ which represents a flow network and two vertices source ‘s’ and sink ‘t’ in it. Every edge $(u,v)$ has a capacity $c(u,v)$. We want to find the maximum possible flow from s to t with the following constraints:\n",
    "\n",
    "1. Flow on an edge doesn’t exceed the given capacity of the edge.\n",
    "2. Incoming flow is equal to outgoing flow for every vertex except s and t.\n",
    "\n",
    "The desired flow $f$ is constructed iteratively starting from a zero-flow vector: at each round of the algorithm $f$ is updated in such a way that the capacity and balance constraints are not violated.\n",
    "\n",
    "To do this, at each round, given the current flow vector $f$, we define the **residual network** $G_{f}(V,E_{f})$ to be the network with capacity $c_{f}(u,v)=c(u,v)-f(u,v)$. A search on the residual graph $G_f$ is performed to find an **augmenting path**: an origin-destination path that possess some residual capacity. If an augmenting path is found, this means that the current flow $f$ on that path can be increased.\n",
    "\n",
    "### Ford–Fulkerson Algorithm \n",
    "**Inputs**: a graph $G=(V,E)$, a vector of flow capacities $c = (c(u,v))_{(u,v) \\in E}$, a source node s, and a sink node t\n",
    "\n",
    "**Output**: a flow $f = (f(u,v))_{(u,v) \\in E}$ from s to t of maximum throughput\n",
    "\n",
    "1. $f(u,v)\\leftarrow 0$ for all edges $(u,v)$\n",
    "2. While there is a path p from s to t in $G_{f}$, such that $c_{f}(u,v)=c(u,v)-f(u,v)>0$ for all edges $(u,v)\\in p$:\n",
    " 1. Find $c_{f}(p)=\\min\\{c_{f}(u,v):(u,v)\\in p\\}$\n",
    " 2. For each edge $(u,v)\\in p$\n",
    "  1. $f(u,v)\\leftarrow f(u,v)+c_{f}(p)$ (Increase the flow along the path)\n",
    "  2. $f(v,u)\\leftarrow f(v,u)-c_{f}(p)$ (Impose the symmetry of the flow)\n",
    "\n",
    "The path in step 2 can be found, for example, with a breadth-first search (BFS) or a depth-first search in $G_{f}(V,E_{f})$. If you use the former, the algorithm is called Edmonds–Karp.\n",
    "\n",
    "### Edmonds-Karp Algorithm\n",
    "The Edmonds–Karp algorithm is identical to the Ford–Fulkerson algorithm, except that the search order when finding the augmenting path is defined. A shortest path that has available capacit is found by a breadth-first search."
   ]
  },
  {
   "cell_type": "code",
   "execution_count": 1,
   "metadata": {},
   "outputs": [],
   "source": [
    "import collections\n",
    "\n",
    "# This class represents a directed graph using adjacency matrix representation\n",
    "class Graph:\n",
    "    # __init__ is a reseved method in python classes.\n",
    "    # In object oriented terminology, it is the constructor of the class.\n",
    "    def __init__(self, graph): \n",
    "        # the Graph object represents the flow network and the graph\n",
    "        # attribute will be updated by the Edmonds-Karp Algorithm to \n",
    "        # represent the residual graph.\n",
    "        # Entry [u][v] of graph array stores the capacity of link (u,v).\n",
    "        self.graph = graph  \n",
    "        # Number of nodes:\n",
    "        self.ROW = len(graph)\n",
    "\n",
    "    def bfs(self, s, t, parent):\n",
    "        \"\"\"Returns true if there is a path from source 's' to sink 't' in the\n",
    "        residual graph. Also fills parent[] to store the path \"\"\"\n",
    "\n",
    "        # Mark all the vertices as not visited\n",
    "        visited = [False] * (self.ROW)\n",
    "\n",
    "        # Create a double-ended queue for BFS\n",
    "        queue = collections.deque()\n",
    "\n",
    "        # Mark the source node as visited and enqueue it\n",
    "        # When visited, nodes are appended \"to the right end\" of the queue.\n",
    "        queue.append(s)\n",
    "        visited[s] = True\n",
    "\n",
    "        # Standard BFS loop\n",
    "        while queue: # while there are still elements in the queue\n",
    "            # Nodes are extracted from \"the left end\" of the queue\n",
    "            u = queue.popleft()\n",
    "\n",
    "            # Get all adjacent vertices of the dequeued vertex u\n",
    "            # If an adjacent vertex has not been visited, then mark \n",
    "            # it as visited and enqueue it.\n",
    "            \n",
    "            # Enumerate() method adds a counter to an iterable\n",
    "            # to keep a count of iterations. We cycle over row\n",
    "            # u of graph array: ind is the index of the node,\n",
    "            # val is >0 if node ind is adjacent to u, i.e. if \n",
    "            # there is residual capacity on the link (u,ind),\n",
    "            # it is 0 otherwise.\n",
    "            for ind, val in enumerate(self.graph[u]): \n",
    "                if (visited[ind] == False) and (val > 0):\n",
    "                    queue.append(ind)\n",
    "                    visited[ind] = True\n",
    "                    parent[ind] = u\n",
    "\n",
    "        # If sink is reached by BFS starting from source, then return\n",
    "        # true, else return false\n",
    "        return visited[t]\n",
    "\n",
    "    # Returns the maximum flow from s to t in the given graph\n",
    "    def edmonds_karp(self, source, sink):\n",
    "\n",
    "        # parent array is filled by bfs() and it is used \n",
    "        # to compute augmenting paths.\n",
    "        # It is initialized with the sentinel value -1\n",
    "        parent = [-1] * (self.ROW)\n",
    "\n",
    "        # Both max flow value and max flow vector are \n",
    "        # initialized to 0\n",
    "        max_flow = 0  \n",
    "        flow = [[0] * (self.ROW)] * (self.ROW)\n",
    "\n",
    "        # Augment the flow while there is a path from source to sink\n",
    "        # in the residual graph\n",
    "        while self.bfs(source, sink, parent): \n",
    "            # now parent stores the augmenting path found by bfs\n",
    "\n",
    "            # Find the minimum residual capacity of the edges along the\n",
    "            # origin-destination path found by BFS.\n",
    "            res_capacity = float(\"Inf\")\n",
    "            # start from the endpoint of the path\n",
    "            n = sink\n",
    "            # travel the path backwards until you reach the source\n",
    "            # and update the minimal residual capacity of links\n",
    "            while n != source:\n",
    "                res_capacity = min(res_capacity, self.graph[parent[n]][n])\n",
    "                n = parent[n]\n",
    "\n",
    "            # Add the residual capacity to the maximal throughput\n",
    "            max_flow += res_capacity\n",
    "\n",
    "            # Update the flow vector by adding the residual capacity\n",
    "            # of the augmenting path to each edge in the path (to preserve\n",
    "            # symmetry, subtract it to each reverse edge).\n",
    "            # Compute the new residual network by updating\n",
    "            # the residual capacities of the edges and reverse edges\n",
    "            # along the augmenting path.\n",
    "            v = sink\n",
    "            while v != source:\n",
    "                u = parent[v]\n",
    "                flow[u][v] += res_capacity\n",
    "                flow[v][u] -= res_capacity\n",
    "                self.graph[u][v] -= res_capacity\n",
    "                self.graph[v][u] += res_capacity\n",
    "                v = parent[v]\n",
    "\n",
    "        return max_flow, flow"
   ]
  },
  {
   "cell_type": "markdown",
   "metadata": {},
   "source": [
    "Networkx implements the Edmonds-Karp algorithm. \n",
    "\n",
    "The `networkx.algorithms.flow.edmonds_karp` function returns the residual network resulting after computing the maximum flow.\n",
    "\n",
    "Networkx also provides the functions `networkx.algorithms.flow.maximum_flow` and `networkx.algorithms.flow.min_cut` which compute the maximun throughput and  the value and the node partition of a minimum cut, respectively."
   ]
  },
  {
   "cell_type": "markdown",
   "metadata": {},
   "source": [
    "### Exercise\n",
    "1. Construct the graph of Ex.3/Exercise Session 2 and assume the link capacities defined therin.\n",
    "2. Apply the above implementation of the Edmond-Karp algorithm to find the maximum throughput between the origin and destination nodes.\n",
    "3. Compare the result to the flow found with `maximum_flow` and check that it is equal to the min-cut capacity of the graph found with `min_cut`.\n",
    "4. Compare the residual network returned by `edmonds_karp` function with the nodes partition provided by `min_cut`, checking whether the two structure represent the same graph cut."
   ]
  },
  {
   "cell_type": "code",
   "execution_count": 27,
   "metadata": {},
   "outputs": [],
   "source": [
    "# TODO"
   ]
  },
  {
   "cell_type": "markdown",
   "metadata": {},
   "source": [
    "## Network Flow optimization\n",
    "For this exercise, we will use CVXPY which is a Python-embedded modeling language for convex optimization problems. It allows to express problems in a natural way that follows the math, rather than in the restrictive standard form required by solvers.\n",
    "\n",
    "If CVXPY is not already in your environment, you can install it following the instructions reported [here](https://www.cvxpy.org/install/index.html)."
   ]
  },
  {
   "cell_type": "markdown",
   "metadata": {},
   "source": [
    "We will consider the same problem as analyzed analytically in Exercise 5/Exercise Session 2. We consider the traffic network with delay functions shown in figure below which is assumed to\n",
    "have a unit exogenous inflow at node o and a unit exogenous outflow at node d.\n",
    "\n",
    "![figure](netopt.png)\n"
   ]
  },
  {
   "cell_type": "markdown",
   "metadata": {},
   "source": [
    "1.  Determine the social optimum flow using CVXPY. The social optimum flow is defined as the one minimizing the total delay $\\sum_{e\\in \\mathcal{E}} c_e(f_e)$, where on every link $e \\in \\mathcal{E}$, the cost is $c_e(f_e) = f_e d_e(f_e)$ with $d_e(f_e)$ being the delay function.\n",
    "2. Determine the flow vector $f$ corresponding to a Wardrop equilibrium by using CVXPY.\n",
    "3. Replace the delay functions by $\\widehat{d}_e(f_e) = d_e(f_e) + \\omega_e$, where $\\omega_e$ are the tolls computed in Exercise 5-c), i.e., $\\omega_1 = 1$, $\\omega_2=\\omega_3 = 0$, $\\omega_4 = 3/2$, and compute by CVXPY the new Wardrop equilibrium with respect to these new delay functions. Compare the resulting flow vector with the socially optimal flow vector for the original delay functions, which was computed in 1. Are the flow vectors equal?"
   ]
  },
  {
   "cell_type": "markdown",
   "metadata": {},
   "source": [
    "### Solution\n",
    "First we represent the given graph as a networkx `DiGraph`."
   ]
  },
  {
   "cell_type": "code",
   "execution_count": 3,
   "metadata": {},
   "outputs": [
    {
     "data": {
      "image/png": "[encoded data removed]",
      "text/plain": [
       "<Figure size 432x288 with 1 Axes>"
      ]
     },
     "metadata": {},
     "output_type": "display_data"
    }
   ],
   "source": [
    "import networkx as nx\n",
    "\n",
    "G = nx.DiGraph()\n",
    "G.add_edges_from([('o','a'),('o','b'),('a','d'),('b','d')])\n",
    "nx.draw(G, with_labels=True)"
   ]
  },
  {
   "cell_type": "markdown",
   "metadata": {},
   "source": [
    "1.  **Compute social optimum.** The social optimum of the network flow problem can be computed with CVXPY using the following code.\n"
   ]
  },
  {
   "cell_type": "code",
   "execution_count": 4,
   "metadata": {},
   "outputs": [
    {
     "name": "stdout",
     "output_type": "stream",
     "text": [
      "Social optimal flow: [0.5 0.5 0.5 0.5]\n"
     ]
    }
   ],
   "source": [
    "import cvxpy as cp\n",
    "import numpy as np\n",
    "\n",
    "# Problem data.\n",
    "\n",
    "# incidence_matrix(G, oriented=True).toarray() returns  \n",
    "# the incidence matrix of G as a numpy array. \n",
    "# In the matrix returned by incidence_matrix \n",
    "# a -1 appears for the source (tail) of an edge \n",
    "# and +1 for the destination (head) of the edge.\n",
    "# This sign convention is opposite to the one we adopt\n",
    "# for the node-link incidence matrix, so we \n",
    "# add a minus sign in front.\n",
    "B = - nx.linalg.graphmatrix.incidence_matrix(G, oriented=True).toarray() \n",
    "n_edges = len(G.edges)\n",
    "# exogenous flow vector: one unit of flow enters the origin and \n",
    "# exits the destination node\n",
    "nu = np.array([ 1, 0, 0, -1])\n",
    "# Q and l store the coefficients of the quadratic\n",
    "# and linear terms of the objective function.\n",
    "# In this case, the objective function is\n",
    "# 2 f_1^2 + 2 f_2 + 3 f_3 + 3 f_4^2\n",
    "Q = np.diag([2,0,0,3]) # diagonal matrix\n",
    "l = np.array([0,2,3,0]) # 1d array\n",
    "\n",
    "# Construct the problem.\n",
    "f = cp.Variable(n_edges)\n",
    "objective = cp.Minimize(cp.quad_form(f, Q) + l.T @ f)\n",
    "constraints = [B @ f == nu, f >=0]\n",
    "prob = cp.Problem(objective, constraints)\n",
    "\n",
    "# The optimal objective value is returned by `prob.solve()`.\n",
    "result = prob.solve()\n",
    "# The optimal value for f is stored in `f.value`.\n",
    "print(\"Social optimal flow:\", f.value)"
   ]
  },
  {
   "cell_type": "markdown",
   "metadata": {},
   "source": [
    "The obtained flow vector is $f = (1/2, 1/2, 1/2, 1/2)'$, which confirms the result obtained in Exercise 5.\n",
    "\n",
    "2.  **Compute Wardrop equilibrium with tolls.** The flow vector $f^{(0)}$ corresponding to a Wardrop equilibrium can be obtained as a solution of the social optimum problem given that the link cost functions are chosen as\n",
    "$$\n",
    "c_e(f_e) = \\int_0^{f_e} d_e(s)~\\mathrm{d}s.\n",
    "$$\n",
    "Computing these cost functions we have\n",
    "$$\n",
    "c_1(f_1) = f_1^2, \\; c_2(f_2) = 2f_2, \\; c_3(f_3) = 3 f_3, \\; c_4(f_4) = \\frac{3}{2}f_4^2\n",
    "$$\n",
    "and again taking the sum of the link costs as the total cost to minimize, the code for finding the Wardrop equilibrium becomes"
   ]
  },
  {
   "cell_type": "code",
   "execution_count": 5,
   "metadata": {},
   "outputs": [
    {
     "name": "stdout",
     "output_type": "stream",
     "text": [
      "Wardrop equilibrium: [0.4 0.6 0.4 0.6]\n"
     ]
    }
   ],
   "source": [
    "# Problem data.\n",
    "B = - nx.linalg.graphmatrix.incidence_matrix(G, oriented=True).toarray() \n",
    "# incidence_matrix(G, oriented=True).toarray() returns  \n",
    "# the incidence matrix of G as a numpy array. \n",
    "# For an oriented incidence matrix each edge is assigned \n",
    "# an orientation. A -1 appears for the source (tail) \n",
    "# of an edge and +1 for the destination (head) of the edge.\n",
    "# This sign convention is opposite to the one we adopt, so we \n",
    "# add a minus sign in front.\n",
    "n_edges = len(G.edges)\n",
    "nu = np.array([ 1, 0, 0, -1])\n",
    "Q = np.diag([1,0,0,3/2])\n",
    "l = np.array([0,2,3,0])\n",
    "\n",
    "# Construct the problem.\n",
    "f = cp.Variable(n_edges)\n",
    "objective = cp.Minimize(cp.quad_form(f, Q) + l.T @ f)\n",
    "constraints = [B @ f == nu, f >=0]\n",
    "prob = cp.Problem(objective, constraints)\n",
    "\n",
    "# The optimal objective value is returned by `prob.solve()`.\n",
    "result = prob.solve()\n",
    "# The optimal value for f is stored in `f.value`.\n",
    "print(\"Wardrop equilibrium:\", f.value)"
   ]
  },
  {
   "cell_type": "markdown",
   "metadata": {},
   "source": [
    "The result is $f^{(0)} = (0.4, 0.6, 0.4, 0.6)'$, which again confirms the analytically computed result.\n",
    "\n",
    "3. **Compute Wardrop equilibrium with tolls.** Computing the Wardrop equilibrium as in 2., but with the link delays $d_e(f_e)$ replaced by $\\widehat{d}_e(f_e) = d_e(f_e) + \\omega_e$, a CVXPY solution can be obtained by the following code:"
   ]
  },
  {
   "cell_type": "code",
   "execution_count": 6,
   "metadata": {},
   "outputs": [
    {
     "name": "stdout",
     "output_type": "stream",
     "text": [
      "Wardrop equilibrium with tolls: [0.5 0.5 0.5 0.5]\n"
     ]
    }
   ],
   "source": [
    "# Problem data.\n",
    "B = - nx.linalg.graphmatrix.incidence_matrix(G, oriented=True).toarray()\n",
    "n_edges = len(G.edges)\n",
    "nu = np.array([ 1, 0, 0, -1])\n",
    "omega = np.array([ 1, 0, 0, 3/2 ])\n",
    "\n",
    "Q = np.diag([1,2,3,3/2])\n",
    "l = omega\n",
    "\n",
    "# Construct the problem.\n",
    "f = cp.Variable(n_edges)\n",
    "objective = cp.Minimize(cp.quad_form(f, Q) + l.T @ f)\n",
    "constraints = [B @ f == nu, f >=0]\n",
    "prob = cp.Problem(objective, constraints)\n",
    "\n",
    "# The optimal objective value is returned by `prob.solve()`.\n",
    "result = prob.solve()\n",
    "# The optimal value for f is stored in `f.value`.\n",
    "print(\"Wardrop equilibrium with tolls:\", f.value)"
   ]
  },
  {
   "cell_type": "markdown",
   "metadata": {},
   "source": [
    "The resulting flow vector is $f^{(\\omega)} = (1/2, 1/2, 1/2, 1/2)'$. This Wardrop equilibrium is equivalent to the social optimum in **1**. We have thus managed to regulate the Wardrop equilibrium so that it corresponds to the social optimum by introducing the road tolls $\\omega_e$."
   ]
  }
 ],
 "metadata": {
  "kernelspec": {
   "display_name": "Python 3",
   "language": "python",
   "name": "python3"
  },
  "language_info": {
   "codemirror_mode": {
    "name": "ipython",
    "version": 3
   },
   "file_extension": ".py",
   "mimetype": "text/x-python",
   "name": "python",
   "nbconvert_exporter": "python",
   "pygments_lexer": "ipython3",
   "version": "3.8.3"
  }
 },
 "nbformat": 4,
 "nbformat_minor": 4
}
