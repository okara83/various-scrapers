{
 "cells": [
  {
   "cell_type": "markdown",
   "metadata": {},
   "source": [
    "# Scraping Winemag with scrapy"
   ]
  },
  {
   "cell_type": "markdown",
   "metadata": {},
   "source": [
    "## A prove of concept"
   ]
  },
  {
   "cell_type": "markdown",
   "metadata": {},
   "source": [
    "As a prove of concept, we scrape all reviews of wines from California. We separate the observations into some arbitrary groups via the start urls, because we can only retrieve 50,000 observations at once. The links column of the dataset that we create could be piped into another parse function to retrieve the full review of each individual wine. Also, we are using a dictionary to hold the entries, using lists instead would be more efficient, but this approach renders more readable text for now."
   ]
  },
  {
   "cell_type": "markdown",
   "metadata": {},
   "source": [
    "### Define Spider"
   ]
  },
  {
   "cell_type": "code",
   "execution_count": 1,
   "metadata": {},
   "outputs": [],
   "source": [
    "from scrapy import Spider\n",
    "from scrapy.http import Request\n",
    "import re\n",
    "\n",
    "class WinemagSpider(Spider):\n",
    "    name = 'WinemagSpider'\n",
    "    allowed_domains = ['www.winemag.com']\n",
    "    start_urls = ['https://www.winemag.com/?s=&drink_type=wine&country=US&state=California&region=Central%20Coast&page=1', \n",
    "                  'https://www.winemag.com/?s=&drink_type=wine&country=US&state=California&region=Sonoma&page=1', \n",
    "                  'https://www.winemag.com/?s=&drink_type=wine&country=US&state=California&region=Napa&page=1', \n",
    "                  'https://www.winemag.com/?s=&drink_type=wine&country=US&state=California&region=California%20Other&page=1', \n",
    "                  'https://www.winemag.com/?s=&drink_type=wine&country=US&state=California&region=Mendocino%20County&page=1', \n",
    "                  'https://www.winemag.com/?s=&drink_type=wine&country=US&state=California&region=Sierra%20Foothills&page=1', \n",
    "                  'https://www.winemag.com/?s=&drink_type=wine&country=US&state=California&region=Napa-Sonoma&page=1', \n",
    "                  'https://www.winemag.com/?s=&drink_type=wine&country=US&state=California&region=Central%20Valley&page=1', \n",
    "                  'https://www.winemag.com/?s=&drink_type=wine&country=US&state=California&region=North%20Coast&page=1', \n",
    "                  'https://www.winemag.com/?s=&drink_type=wine&country=US&state=California&region=Lake%20County&page=1', \n",
    "                  'https://www.winemag.com/?s=&drink_type=wine&country=US&state=California&region=South%20Coast&page=1', \n",
    "                  'https://www.winemag.com/?s=&drink_type=wine&country=US&state=California&appellation=California-Washington&page=1', \n",
    "                  'https://www.winemag.com/?s=&drink_type=wine&country=US&state=California&appellation=California-Oregon&page=1', \n",
    "                  'https://www.winemag.com/?s=&drink_type=wine&country=US&state=California&appellation=Napa-Monterey-Mendocino&page=1', \n",
    "                  'https://www.winemag.com/?s=&drink_type=wine&country=US&state=California&appellation=Santa%20Barbara%20County-Sonoma%20County-Monterey%20County&page=1',\n",
    "                  'https://www.winemag.com/?s=&drink_type=wine&country=US&state=California&region=Mendocino/Lake%20Counties&page=1']\n",
    "\n",
    "    global wineries \n",
    "    wineries = []\n",
    "    \n",
    "    def parse(self, response):\n",
    "        \n",
    "        organizations = response.xpath('//*[@class=\"review-item \"]')\n",
    "        for organization in organizations:\n",
    "            title = organization.xpath('.//*[@class=\"title\"]/text()').extract_first()\n",
    "            appelation = organization.xpath('.//*[@class=\"appellation\"]//text()').extract_first()\n",
    "            excerpt = organization.xpath('.//*[@class=\"excerpt\"]//text()').extract_first()\n",
    "            rating = organization.xpath('.//*[@class=\"rating\"]//text()').extract_first()\n",
    "            price = organization.xpath('.//*[@class=\"price\"]//text()').extract_first()\n",
    "            referer = response.url\n",
    "            link = organization.xpath('.//a/@href').extract_first()\n",
    "            \n",
    "            wineries.append({'title': title, 'appelation': appelation, 'excerpt': excerpt, \n",
    "                             'rating': rating, 'price': price, 'referer': referer, 'link': link})\n",
    "        \n",
    "        page_n = int(re.search(r'\\d+$', response.url).group())\n",
    "        next_pages = response.xpath('//*[@class=\"pagination\"]//a/text()').extract()\n",
    "                \n",
    "        if page_n == 1 and next_pages:\n",
    "            max_page = int(next_pages[-1])\n",
    "            \n",
    "            url = re.search(r'.*[^\\d+$]', response.url).group()\n",
    "            \n",
    "            for i in range(2, max_page + 1):\n",
    "                absolute_url = url + str(i)\n",
    "                yield Request(absolute_url, callback=self.parse)\n"
   ]
  },
  {
   "cell_type": "markdown",
   "metadata": {},
   "source": [
    "### Initiate process and crawl website"
   ]
  },
  {
   "cell_type": "code",
   "execution_count": 2,
   "metadata": {},
   "outputs": [],
   "source": [
    "from scrapy.crawler import CrawlerProcess\n",
    "from datetime import date\n",
    "\n",
    "process = CrawlerProcess({\n",
    "    'USER_AGENT': 'Mozilla/5.0 (X11; Ubuntu; Linux x86_64; rv:67.0) Gecko/20100101 Firefox/67.0', \n",
    "    'DOWNLOAD_DELAY': '0.05', \n",
    "#     'CONCURRENT_REQUESTS': 2,\n",
    "    'LOG_FILE': 'log_{}.txt'.format(date.today().isoformat())\n",
    "})"
   ]
  },
  {
   "cell_type": "code",
   "execution_count": 3,
   "metadata": {},
   "outputs": [
    {
     "data": {
      "text/plain": [
       "<Deferred at 0x105455d90>"
      ]
     },
     "execution_count": 3,
     "metadata": {},
     "output_type": "execute_result"
    }
   ],
   "source": [
    "process.crawl(WinemagSpider)"
   ]
  },
  {
   "cell_type": "code",
   "execution_count": 4,
   "metadata": {},
   "outputs": [],
   "source": [
    "process.start()"
   ]
  },
  {
   "cell_type": "code",
   "execution_count": 5,
   "metadata": {},
   "outputs": [
    {
     "data": {
      "text/plain": [
       "<DeferredList at 0x1084e2910 current result: []>"
      ]
     },
     "execution_count": 5,
     "metadata": {},
     "output_type": "execute_result"
    }
   ],
   "source": [
    "process.stop()"
   ]
  },
  {
   "cell_type": "markdown",
   "metadata": {},
   "source": [
    "### Verify results"
   ]
  },
  {
   "cell_type": "code",
   "execution_count": 6,
   "metadata": {},
   "outputs": [
    {
     "data": {
      "text/plain": [
       "1427"
      ]
     },
     "execution_count": 6,
     "metadata": {},
     "output_type": "execute_result"
    }
   ],
   "source": [
    "import pandas as pd\n",
    "\n",
    "wineries = pd.DataFrame(wineries)\n",
    "len(wineries)"
   ]
  },
  {
   "cell_type": "code",
   "execution_count": 7,
   "metadata": {},
   "outputs": [
    {
     "data": {
      "text/html": [
       "<div>\n",
       "<style scoped>\n",
       "    .dataframe tbody tr th:only-of-type {\n",
       "        vertical-align: middle;\n",
       "    }\n",
       "\n",
       "    .dataframe tbody tr th {\n",
       "        vertical-align: top;\n",
       "    }\n",
       "\n",
       "    .dataframe thead th {\n",
       "        text-align: right;\n",
       "    }\n",
       "</style>\n",
       "<table border=\"1\" class=\"dataframe\">\n",
       "  <thead>\n",
       "    <tr style=\"text-align: right;\">\n",
       "      <th></th>\n",
       "      <th>title</th>\n",
       "      <th>appelation</th>\n",
       "      <th>excerpt</th>\n",
       "      <th>rating</th>\n",
       "      <th>price</th>\n",
       "      <th>referer</th>\n",
       "      <th>link</th>\n",
       "    </tr>\n",
       "  </thead>\n",
       "  <tbody>\n",
       "    <tr>\n",
       "      <th>0</th>\n",
       "      <td>Hartford Court 2021 Rosé of Pinot Noir (Russia...</td>\n",
       "      <td>Sonoma</td>\n",
       "      <td>Quenching in acid-driven flavors of Meyer lemo...</td>\n",
       "      <td>94</td>\n",
       "      <td>$32</td>\n",
       "      <td>https://www.winemag.com/?s=&amp;drink_type=wine&amp;co...</td>\n",
       "      <td>https://www.winemag.com/buying-guide/hartford-...</td>\n",
       "    </tr>\n",
       "    <tr>\n",
       "      <th>1</th>\n",
       "      <td>Marimar 2018 La Masía Don Miguel Vineyard Esta...</td>\n",
       "      <td>Sonoma</td>\n",
       "      <td>Perfumed in rose and violet, this wine offers ...</td>\n",
       "      <td>92</td>\n",
       "      <td>$49</td>\n",
       "      <td>https://www.winemag.com/?s=&amp;drink_type=wine&amp;co...</td>\n",
       "      <td>https://www.winemag.com/buying-guide/marimar-2...</td>\n",
       "    </tr>\n",
       "    <tr>\n",
       "      <th>2</th>\n",
       "      <td>Rodney Strong 2021 Rosé of Pinot Noir (Sonoma ...</td>\n",
       "      <td>Sonoma</td>\n",
       "      <td>This perennially delicious wine continues its ...</td>\n",
       "      <td>91</td>\n",
       "      <td>$25</td>\n",
       "      <td>https://www.winemag.com/?s=&amp;drink_type=wine&amp;co...</td>\n",
       "      <td>https://www.winemag.com/buying-guide/rodney-st...</td>\n",
       "    </tr>\n",
       "    <tr>\n",
       "      <th>3</th>\n",
       "      <td>Davies 2019 Nobles Vineyard Pinot Noir (Fort R...</td>\n",
       "      <td>Sonoma</td>\n",
       "      <td>Rich and thick in sweet red fruit, this wine o...</td>\n",
       "      <td>91</td>\n",
       "      <td>$75</td>\n",
       "      <td>https://www.winemag.com/?s=&amp;drink_type=wine&amp;co...</td>\n",
       "      <td>https://www.winemag.com/buying-guide/davies-20...</td>\n",
       "    </tr>\n",
       "    <tr>\n",
       "      <th>4</th>\n",
       "      <td>Marimar 2017 Don Miguel Vineyard Earthquake Bl...</td>\n",
       "      <td>Sonoma</td>\n",
       "      <td>High acid underscores the wealth of tart red f...</td>\n",
       "      <td>91</td>\n",
       "      <td>$66</td>\n",
       "      <td>https://www.winemag.com/?s=&amp;drink_type=wine&amp;co...</td>\n",
       "      <td>https://www.winemag.com/buying-guide/marimar-2...</td>\n",
       "    </tr>\n",
       "  </tbody>\n",
       "</table>\n",
       "</div>"
      ],
      "text/plain": [
       "                                               title appelation  \\\n",
       "0  Hartford Court 2021 Rosé of Pinot Noir (Russia...     Sonoma   \n",
       "1  Marimar 2018 La Masía Don Miguel Vineyard Esta...     Sonoma   \n",
       "2  Rodney Strong 2021 Rosé of Pinot Noir (Sonoma ...     Sonoma   \n",
       "3  Davies 2019 Nobles Vineyard Pinot Noir (Fort R...     Sonoma   \n",
       "4  Marimar 2017 Don Miguel Vineyard Earthquake Bl...     Sonoma   \n",
       "\n",
       "                                             excerpt rating price  \\\n",
       "0  Quenching in acid-driven flavors of Meyer lemo...     94   $32   \n",
       "1  Perfumed in rose and violet, this wine offers ...     92   $49   \n",
       "2  This perennially delicious wine continues its ...     91   $25   \n",
       "3  Rich and thick in sweet red fruit, this wine o...     91   $75   \n",
       "4  High acid underscores the wealth of tart red f...     91   $66   \n",
       "\n",
       "                                             referer  \\\n",
       "0  https://www.winemag.com/?s=&drink_type=wine&co...   \n",
       "1  https://www.winemag.com/?s=&drink_type=wine&co...   \n",
       "2  https://www.winemag.com/?s=&drink_type=wine&co...   \n",
       "3  https://www.winemag.com/?s=&drink_type=wine&co...   \n",
       "4  https://www.winemag.com/?s=&drink_type=wine&co...   \n",
       "\n",
       "                                                link  \n",
       "0  https://www.winemag.com/buying-guide/hartford-...  \n",
       "1  https://www.winemag.com/buying-guide/marimar-2...  \n",
       "2  https://www.winemag.com/buying-guide/rodney-st...  \n",
       "3  https://www.winemag.com/buying-guide/davies-20...  \n",
       "4  https://www.winemag.com/buying-guide/marimar-2...  "
      ]
     },
     "execution_count": 7,
     "metadata": {},
     "output_type": "execute_result"
    }
   ],
   "source": [
    "wineries.head()"
   ]
  },
  {
   "cell_type": "code",
   "execution_count": 8,
   "metadata": {},
   "outputs": [],
   "source": [
    "wineries.to_csv('winemag_archive_{}.csv'.format(date.today().isoformat()))"
   ]
  }
 ],
 "metadata": {
  "kernelspec": {
   "display_name": "Python 3 (ipykernel)",
   "language": "python",
   "name": "python3"
  },
  "language_info": {
   "codemirror_mode": {
    "name": "ipython",
    "version": 3
   },
   "file_extension": ".py",
   "mimetype": "text/x-python",
   "name": "python",
   "nbconvert_exporter": "python",
   "pygments_lexer": "ipython3",
   "version": "3.9.10"
  }
 },
 "nbformat": 4,
 "nbformat_minor": 4
}
