{
 "cells": [
  {
   "cell_type": "code",
   "execution_count": 5,
   "metadata": {},
   "outputs": [],
   "source": [
    "from selenium import webdriver\n",
    "from pyvirtualdisplay import Display\n",
    "from bs4 import BeautifulSoup\n",
    "import os\n",
    "import re\n",
    "from random import  shuffle\n",
    "import pandas as pd\n",
    "import time\n",
    "import dbm\n",
    "from random_user_agent.user_agent import UserAgent\n",
    "from random_user_agent.params import SoftwareName, OperatingSystem"
   ]
  },
  {
   "cell_type": "code",
   "execution_count": null,
   "metadata": {},
   "outputs": [],
   "source": []
  },
  {
   "cell_type": "code",
   "execution_count": 6,
   "metadata": {},
   "outputs": [],
   "source": [
    "# import requests, lxml.html, csv\n",
    "# headers = {'User-Agent':'Mozilla/5.0 (Windows NT 10.0; Win64; x64) AppleWebKit/537.36 (KHTML, like Gecko) Chrome/59.0.3071.115 Safari/537.36'} \n",
    "# page = requests.get('http://www.cellartracker.com/wine.asp?iWine=91411',headers=headers)\n",
    "# print(page.status_code)\n",
    "# html = lxml.html.fromstring(page.content)\n",
    "# content_divs = html.xpath('//a[@title=\"Source: Community\"]/text()')\n",
    "# print(content_divs)"
   ]
  },
  {
   "cell_type": "code",
   "execution_count": 7,
   "metadata": {},
   "outputs": [],
   "source": [
    "# display = Display(visible=0, size=(1024, 768))\n",
    "# display.start()"
   ]
  },
  {
   "cell_type": "code",
   "execution_count": 8,
   "metadata": {},
   "outputs": [],
   "source": [
    "from selenium.webdriver import Firefox\n",
    "from selenium.webdriver.common.by import By\n",
    "from selenium.webdriver.common.keys import Keys\n",
    "from selenium.webdriver.firefox.options import Options\n",
    "from selenium.webdriver.support import expected_conditions as expected\n",
    "from selenium.webdriver.support.wait import WebDriverWait\n",
    "from selenium.common.exceptions import TimeoutException\n",
    "options = Options()\n",
    "options.add_argument(\"--headless\")\n",
    "options.add_argument(\"--start-maximized\")\n",
    "options.add_argument(\"--disable-infobars\")\n",
    "options.add_argument(\"--disable-extensions\")\n",
    "options.add_argument('--incognito')\n",
    "#options.set_preference('permissions.default.image', 2)\n",
    "driver = Firefox(executable_path=\"geckodriver\",options=options)"
   ]
  },
  {
   "cell_type": "code",
   "execution_count": 9,
   "metadata": {},
   "outputs": [],
   "source": [
    "# driver.get(\"https://www.winemag.com/?s=&search_type=reviews&drink_type=wine&varietal=Chardonnay&price=40\")\n",
    "# driver.execute_script(\"window.scrollTo(0,document.body.scrollHeight)\")"
   ]
  },
  {
   "cell_type": "code",
   "execution_count": 10,
   "metadata": {},
   "outputs": [],
   "source": [
    "# tablerowlist=[]"
   ]
  },
  {
   "cell_type": "code",
   "execution_count": 11,
   "metadata": {
    "scrolled": true
   },
   "outputs": [],
   "source": [
    "# tables = driver.find_element_by_class_name(\"results\")\n",
    "# tables.find_elements_by_class_name(\"review-item \")"
   ]
  },
  {
   "cell_type": "code",
   "execution_count": 12,
   "metadata": {},
   "outputs": [],
   "source": [
    "# page_str =tables.get_attribute('innerHTML')\n",
    "# page_str= \" \".join(\" \".join(page_str.split(\"\\n\")).split()).replace(\"review-item \",\"review-item\")\n",
    "# #     tablerowlist.append(i.get_attribute('innerHTML'))"
   ]
  },
  {
   "cell_type": "code",
   "execution_count": 13,
   "metadata": {},
   "outputs": [],
   "source": [
    "# soup = BeautifulSoup(page_str,\"html.parser\")"
   ]
  },
  {
   "cell_type": "code",
   "execution_count": 14,
   "metadata": {},
   "outputs": [],
   "source": [
    "# find_elemnds=soup.findAll(\"li\", {\"class\": \"review-item\"})\n",
    "# for i in find_elemnds:\n",
    "#     tablerowlist.append(i)"
   ]
  },
  {
   "cell_type": "code",
   "execution_count": 15,
   "metadata": {},
   "outputs": [],
   "source": [
    "# driver.find_element_by_class_name(\"main\")\n",
    "# classes2 = driver.find_elements_by_xpath('//*[@class]')\n",
    "# for ii in classes2:\n",
    "#     #print ii.tag_name\n",
    "#     print(ii.get_attribute('class'))"
   ]
  },
  {
   "cell_type": "code",
   "execution_count": 16,
   "metadata": {},
   "outputs": [],
   "source": [
    "# page1=2\n",
    "# while True:\n",
    "#     pages=\"https://www.winemag.com/?s=&price=40&varietal=Chardonnay&drink_type=wine&page=\"+str(page1)+\"&search_type=reviews\"\n",
    "#     driver.close()\n",
    "#     driver = Firefox(executable_path=\"geckodriver\",options=options)\n",
    "#     driver.get(pages)\n",
    "#     page1+=1\n",
    "#     tables = driver.find_element_by_class_name(\"results\")\n",
    "#     tables.find_elements_by_class_name(\"review-item \")\n",
    "    \n",
    "#     page_str =tables.get_attribute('innerHTML')\n",
    "#     page_str= \" \".join(\" \".join(page_str.split(\"\\n\")).split()).replace(\"review-item \",\"review-item\")\n",
    "# #     tablerowlist.append(i.get_attribute('innerHTML'))\n",
    "#     soup = BeautifulSoup(page_str,\"html.parser\")\n",
    "#     find_elemnds=soup.findAll(\"li\", {\"class\": \"review-item\"})\n",
    "#     for i in find_elemnds:\n",
    "#         tablerowlist.append(i)\n",
    "#     print(len(set(tablerowlist)))"
   ]
  },
  {
   "cell_type": "code",
   "execution_count": null,
   "metadata": {},
   "outputs": [],
   "source": []
  },
  {
   "cell_type": "code",
   "execution_count": null,
   "metadata": {},
   "outputs": [],
   "source": []
  },
  {
   "cell_type": "code",
   "execution_count": 17,
   "metadata": {},
   "outputs": [],
   "source": [
    "v=\"\"\"<option value=\"Albariño\">Albariño</option><option value=\"Barbera\">Barbera</option><option value=\"Bordeaux-style Red Blend\">Bordeaux-style Red Blend</option><option value=\"Cabernet Franc\">Cabernet Franc</option><option value=\"Cabernet Sauvignon\">Cabernet Sauvignon</option><option value=\"Carignan\">Carignan</option><option value=\"Carmenère\">Carmenère</option><option value=\"Chardonnay\">Chardonnay</option><option value=\"Chenin Blanc\">Chenin Blanc</option><option value=\"Frühburgunder\">Frühburgunder</option><option value=\"Gamay\">Gamay</option><option value=\"Gewürztraminer\">Gewürztraminer</option><option value=\"Greek Red\">Greek Red</option><option value=\"Greek White\">Greek White</option><option value=\"Grenache\">Grenache</option><option value=\"Grüner Veltliner\">Grüner Veltliner</option><option value=\"Italian Red\">Italian Red</option><option value=\"Italian White\">Italian White</option><option value=\"Lemberger\">Lemberger</option><option value=\"Madeira\">Madeira</option><option value=\"Malbec\">Malbec</option><option value=\"Marsanne\">Marsanne</option><option value=\"Merlot\">Merlot</option><option value=\"Mourvèdre\">Mourvèdre</option><option value=\"Muscat\">Muscat</option><option value=\"Nebbiolo\">Nebbiolo</option><option value=\"Other\">Other</option><option value=\"Other Red\">Other Red</option><option value=\"Other White\">Other White</option><option value=\"Petit Verdot\">Petit Verdot</option><option value=\"Petite Sirah\">Petite Sirah</option><option value=\"Pinot Blanc\">Pinot Blanc</option><option value=\"Pinot Blanc/Pinot Gris\">Pinot Blanc/Pinot Gris</option><option value=\"Pinot Grigio/Gris\">Pinot Grigio/Gris</option><option value=\"Pinot Noir\">Pinot Noir</option><option value=\"Pinotage\">Pinotage</option><option value=\"Port Blend\">Port Blend</option><option value=\"Portuguese Red\">Portuguese Red</option><option value=\"Portuguese White\">Portuguese White</option><option value=\"Red Blends\">Red Blends</option><option value=\"Rhône-style Red Blend\">Rhône-style Red Blend</option><option value=\"Rhône-style White Blend\">Rhône-style White Blend</option><option value=\"Riesling\">Riesling</option><option value=\"Rosé\">Rosé</option><option value=\"Roussanne\">Roussanne</option><option value=\"Sangiovese\">Sangiovese</option><option value=\"Sauvignon Blanc\">Sauvignon Blanc</option><option value=\"Sémillon\">Sémillon</option><option value=\"Sherry\">Sherry</option><option value=\"Shiraz/Syrah\">Shiraz/Syrah</option><option value=\"Spanish Red\">Spanish Red</option><option value=\"Spanish White\">Spanish White</option><option value=\"Sparkling\">Sparkling</option><option value=\"Tempranillo\">Tempranillo</option><option value=\"Tinta Cao\">Tinta Cao</option><option value=\"Torrontés\">Torrontés</option><option value=\"Trollinger\">Trollinger</option><option value=\"Viognier\">Viognier</option><option value=\"White Blend\">White Blend</option><option value=\"Zinfandel\">Zinfandel</option>\"\"\"\n",
    "varietals= re.findall(r'\\\">(.*?)</option>',v,re.DOTALL)\n",
    "len(varietals)\n",
    "done_vars=[\"Barbera\",\"Albariño\",\"Cabernet Sauvignon\", \"Sauvignon Blanc\", \"Chardonnay\",\"Bordeaux-style Red Blend\",\"Bordeaux-style Red Blend\",\"Cabernet Franc\"]\n",
    "for i in done_vars:\n",
    "    try:\n",
    "        varietals.remove(i)\n",
    "    except:\n",
    "        continue"
   ]
  },
  {
   "cell_type": "code",
   "execution_count": 18,
   "metadata": {},
   "outputs": [],
   "source": [
    "# varietals.remove(\"Sauvignon Blanc\")\n",
    "# varietals.remove(\"Albariño\")\n",
    "# varietals.remove(\"Chardonnay\")"
   ]
  },
  {
   "cell_type": "code",
   "execution_count": 19,
   "metadata": {},
   "outputs": [
    {
     "data": {
      "text/plain": [
       "['Carignan',\n",
       " 'Carmenère',\n",
       " 'Chenin Blanc',\n",
       " 'Frühburgunder',\n",
       " 'Gamay',\n",
       " 'Gewürztraminer',\n",
       " 'Greek Red',\n",
       " 'Greek White',\n",
       " 'Grenache',\n",
       " 'Grüner Veltliner',\n",
       " 'Italian Red',\n",
       " 'Italian White',\n",
       " 'Lemberger',\n",
       " 'Madeira',\n",
       " 'Malbec',\n",
       " 'Marsanne',\n",
       " 'Merlot',\n",
       " 'Mourvèdre',\n",
       " 'Muscat',\n",
       " 'Nebbiolo',\n",
       " 'Other',\n",
       " 'Other Red',\n",
       " 'Other White',\n",
       " 'Petit Verdot',\n",
       " 'Petite Sirah',\n",
       " 'Pinot Blanc',\n",
       " 'Pinot Blanc/Pinot Gris',\n",
       " 'Pinot Grigio/Gris',\n",
       " 'Pinot Noir',\n",
       " 'Pinotage',\n",
       " 'Port Blend',\n",
       " 'Portuguese Red',\n",
       " 'Portuguese White',\n",
       " 'Red Blends',\n",
       " 'Rhône-style Red Blend',\n",
       " 'Rhône-style White Blend',\n",
       " 'Riesling',\n",
       " 'Rosé',\n",
       " 'Roussanne',\n",
       " 'Sangiovese',\n",
       " 'Sémillon',\n",
       " 'Sherry',\n",
       " 'Shiraz/Syrah',\n",
       " 'Spanish Red',\n",
       " 'Spanish White',\n",
       " 'Sparkling',\n",
       " 'Tempranillo',\n",
       " 'Tinta Cao',\n",
       " 'Torrontés',\n",
       " 'Trollinger',\n",
       " 'Viognier',\n",
       " 'White Blend',\n",
       " 'Zinfandel']"
      ]
     },
     "execution_count": 19,
     "metadata": {},
     "output_type": "execute_result"
    }
   ],
   "source": [
    "varietals"
   ]
  },
  {
   "cell_type": "code",
   "execution_count": 24,
   "metadata": {
    "scrolled": true
   },
   "outputs": [
    {
     "name": "stderr",
     "output_type": "stream",
     "text": [
      "/var/folders/sd/1vc_q83x5rn9jjrd0x47_cc00000gn/T/ipykernel_4931/1550404931.py:18: DeprecationWarning: find_element_by_* commands are deprecated. Please use find_element() instead\n",
      "  tables = driver.find_element_by_class_name(\"results\")\n",
      "/usr/local/lib/python3.9/site-packages/selenium/webdriver/remote/webelement.py:464: UserWarning: find_elements_by_* commands are deprecated. Please use find_elements() instead\n",
      "  warnings.warn(\"find_elements_by_* commands are deprecated. Please use find_elements() instead\")\n"
     ]
    },
    {
     "name": "stdout",
     "output_type": "stream",
     "text": [
      "20\n",
      "20\n"
     ]
    },
    {
     "name": "stderr",
     "output_type": "stream",
     "text": [
      "/var/folders/sd/1vc_q83x5rn9jjrd0x47_cc00000gn/T/ipykernel_4931/1550404931.py:18: DeprecationWarning: find_element_by_* commands are deprecated. Please use find_element() instead\n",
      "  tables = driver.find_element_by_class_name(\"results\")\n",
      "/usr/local/lib/python3.9/site-packages/selenium/webdriver/remote/webelement.py:464: UserWarning: find_elements_by_* commands are deprecated. Please use find_elements() instead\n",
      "  warnings.warn(\"find_elements_by_* commands are deprecated. Please use find_elements() instead\")\n"
     ]
    },
    {
     "name": "stdout",
     "output_type": "stream",
     "text": [
      "20\n",
      "40\n"
     ]
    },
    {
     "name": "stderr",
     "output_type": "stream",
     "text": [
      "/var/folders/sd/1vc_q83x5rn9jjrd0x47_cc00000gn/T/ipykernel_4931/1550404931.py:18: DeprecationWarning: find_element_by_* commands are deprecated. Please use find_element() instead\n",
      "  tables = driver.find_element_by_class_name(\"results\")\n",
      "/usr/local/lib/python3.9/site-packages/selenium/webdriver/remote/webelement.py:464: UserWarning: find_elements_by_* commands are deprecated. Please use find_elements() instead\n",
      "  warnings.warn(\"find_elements_by_* commands are deprecated. Please use find_elements() instead\")\n"
     ]
    },
    {
     "name": "stdout",
     "output_type": "stream",
     "text": [
      "20\n",
      "60\n"
     ]
    },
    {
     "name": "stderr",
     "output_type": "stream",
     "text": [
      "/var/folders/sd/1vc_q83x5rn9jjrd0x47_cc00000gn/T/ipykernel_4931/1550404931.py:18: DeprecationWarning: find_element_by_* commands are deprecated. Please use find_element() instead\n",
      "  tables = driver.find_element_by_class_name(\"results\")\n",
      "/usr/local/lib/python3.9/site-packages/selenium/webdriver/remote/webelement.py:464: UserWarning: find_elements_by_* commands are deprecated. Please use find_elements() instead\n",
      "  warnings.warn(\"find_elements_by_* commands are deprecated. Please use find_elements() instead\")\n"
     ]
    },
    {
     "name": "stdout",
     "output_type": "stream",
     "text": [
      "17\n",
      "77\n"
     ]
    },
    {
     "name": "stderr",
     "output_type": "stream",
     "text": [
      "/var/folders/sd/1vc_q83x5rn9jjrd0x47_cc00000gn/T/ipykernel_4931/1550404931.py:18: DeprecationWarning: find_element_by_* commands are deprecated. Please use find_element() instead\n",
      "  tables = driver.find_element_by_class_name(\"results\")\n"
     ]
    },
    {
     "ename": "KeyboardInterrupt",
     "evalue": "",
     "output_type": "error",
     "traceback": [
      "\u001b[0;31m---------------------------------------------------------------------------\u001b[0m",
      "\u001b[0;31mKeyboardInterrupt\u001b[0m                         Traceback (most recent call last)",
      "\u001b[0;32m/var/folders/sd/1vc_q83x5rn9jjrd0x47_cc00000gn/T/ipykernel_4931/1550404931.py\u001b[0m in \u001b[0;36m<module>\u001b[0;34m\u001b[0m\n\u001b[1;32m      5\u001b[0m         \u001b[0mdone_vars\u001b[0m\u001b[0;34m.\u001b[0m\u001b[0mappend\u001b[0m\u001b[0;34m(\u001b[0m\u001b[0mvar\u001b[0m\u001b[0;34m)\u001b[0m\u001b[0;34m\u001b[0m\u001b[0;34m\u001b[0m\u001b[0m\n\u001b[1;32m      6\u001b[0m         \u001b[0mpage1\u001b[0m\u001b[0;34m=\u001b[0m\u001b[0;36m1\u001b[0m\u001b[0;34m\u001b[0m\u001b[0;34m\u001b[0m\u001b[0m\n\u001b[0;32m----> 7\u001b[0;31m         \u001b[0mtime\u001b[0m\u001b[0;34m.\u001b[0m\u001b[0msleep\u001b[0m\u001b[0;34m(\u001b[0m\u001b[0;36m60\u001b[0m\u001b[0;34m)\u001b[0m\u001b[0;34m\u001b[0m\u001b[0;34m\u001b[0m\u001b[0m\n\u001b[0m\u001b[1;32m      8\u001b[0m         \u001b[0;32mwhile\u001b[0m \u001b[0;32mTrue\u001b[0m\u001b[0;34m:\u001b[0m\u001b[0;34m\u001b[0m\u001b[0;34m\u001b[0m\u001b[0m\n\u001b[1;32m      9\u001b[0m             \u001b[0mtablerowlist\u001b[0m\u001b[0;34m=\u001b[0m\u001b[0;34m[\u001b[0m\u001b[0;34m]\u001b[0m\u001b[0;34m\u001b[0m\u001b[0;34m\u001b[0m\u001b[0m\n",
      "\u001b[0;31mKeyboardInterrupt\u001b[0m: "
     ]
    }
   ],
   "source": [
    "count=95\n",
    "cnt=0\n",
    "for var in varietals:\n",
    "        #print(var)\n",
    "        done_vars.append(var)\n",
    "        page1=1\n",
    "        time.sleep(60)\n",
    "        while True:\n",
    "            tablerowlist=[]\n",
    "            time.sleep(5)\n",
    "            try:\n",
    "                pages=\"https://www.winemag.com/?s=&price=40&varietal=\"+\"%20\".join(var.split())+\"&drink_type=wine&page=\"+str(page1)+\"&search_type=reviews\"\n",
    "#                 driver.close()\n",
    "                driver = Firefox(executable_path=\"geckodriver\",options=options)\n",
    "                driver.get(pages)\n",
    "                page1+=1\n",
    "                time.sleep(5)\n",
    "                tables = driver.find_element_by_class_name(\"results\")\n",
    "                tables.find_elements_by_class_name(\"review-item \")\n",
    "\n",
    "                page_str =tables.get_attribute('innerHTML')\n",
    "                page_str= \" \".join(\" \".join(page_str.split(\"\\n\")).split()).replace(\"review-item \",\"review-item\")\n",
    "                soup = BeautifulSoup(page_str,\"html.parser\")\n",
    "                find_elemnds=soup.findAll(\"li\", {\"class\": \"review-item\"})\n",
    "                for i in find_elemnds:\n",
    "                    tablerowlist.append(i)\n",
    "                    cnt+=1\n",
    "                print(len(set(tablerowlist)))\n",
    "            except:\n",
    "                driver.quit()\n",
    "                time.sleep(5)\n",
    "                break\n",
    "            with open('winelist+'+ str(count)+'.txt','w') as file:\n",
    "                for i in tablerowlist:\n",
    "                    word = str(i)\n",
    "                    if type(word)!= str:\n",
    "                        word = word.get_attribute('innerHTML')\n",
    "                    file.write(word+\"\\n\")\n",
    "            driver.quit()\n",
    "            count+=1\n",
    "            print(cnt)"
   ]
  },
  {
   "cell_type": "code",
   "execution_count": null,
   "metadata": {},
   "outputs": [],
   "source": []
  },
  {
   "cell_type": "code",
   "execution_count": null,
   "metadata": {},
   "outputs": [],
   "source": []
  },
  {
   "cell_type": "code",
   "execution_count": null,
   "metadata": {},
   "outputs": [],
   "source": []
  }
 ],
 "metadata": {
  "anaconda-cloud": {},
  "kernelspec": {
   "display_name": "Python 3 (ipykernel)",
   "language": "python",
   "name": "python3"
  },
  "language_info": {
   "codemirror_mode": {
    "name": "ipython",
    "version": 3
   },
   "file_extension": ".py",
   "mimetype": "text/x-python",
   "name": "python",
   "nbconvert_exporter": "python",
   "pygments_lexer": "ipython3",
   "version": "3.9.10"
  }
 },
 "nbformat": 4,
 "nbformat_minor": 1
}
