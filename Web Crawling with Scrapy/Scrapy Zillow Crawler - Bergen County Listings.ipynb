{
 "cells": [
  {
   "cell_type": "code",
   "execution_count": 1,
   "id": "de161d39",
   "metadata": {},
   "outputs": [],
   "source": [
    "import os\n",
    "import time\n",
    "import sys\n",
    "import numpy as np\n",
    "import pandas as pd\n",
    "import regex as re\n",
    "import lxml\n",
    "import numbers\n",
    "from bs4 import BeautifulSoup\n",
    "import requests"
   ]
  },
  {
   "cell_type": "code",
   "execution_count": 2,
   "id": "24245e40",
   "metadata": {},
   "outputs": [],
   "source": [
    "headers1 = {\n",
    "    'accept': 'text/html,application/xhtml+xml,application/xml;q=0.9,image/webp,image/apng,*/*;q=0.8',\n",
    "    'accept-encoding': 'gzip, deflate, br',\n",
    "    'accept-language': 'en-US,en;q=0.8',\n",
    "    'upgrade-insecure-requests': '1',\n",
    "    'user-agent': 'Mozilla/5.0 (Windows NT 10.0; Win64; x64) AppleWebKit/537.36 (KHTML, like Gecko) Chrome/61.0.3163.100 Safari/537.36'\n",
    "}"
   ]
  },
  {
   "cell_type": "code",
   "execution_count": 3,
   "id": "55029a74",
   "metadata": {},
   "outputs": [],
   "source": [
    "base_url = \"https://www.zillow.com/homes/for_sale/\""
   ]
  },
  {
   "cell_type": "code",
   "execution_count": 47,
   "id": "a54c9aa3",
   "metadata": {},
   "outputs": [],
   "source": [
    "url_list = []\n",
    "\n",
    "city = 'bergen county'\n",
    "url1 = base_url +city+'/'\n",
    "url_list.append(url1)\n",
    "\n",
    "for i in range(2,50):\n",
    "    dom = base_url + city +'/'+str(i)+'_p/'\n",
    "    url_list.append(dom)"
   ]
  },
  {
   "cell_type": "code",
   "execution_count": 48,
   "id": "7a1bdf3b",
   "metadata": {
    "scrolled": true
   },
   "outputs": [
    {
     "data": {
      "text/plain": [
       "['https://www.zillow.com/homes/for_sale/bergen county/',\n",
       " 'https://www.zillow.com/homes/for_sale/bergen county/2_p/',\n",
       " 'https://www.zillow.com/homes/for_sale/bergen county/3_p/',\n",
       " 'https://www.zillow.com/homes/for_sale/bergen county/4_p/',\n",
       " 'https://www.zillow.com/homes/for_sale/bergen county/5_p/',\n",
       " 'https://www.zillow.com/homes/for_sale/bergen county/6_p/',\n",
       " 'https://www.zillow.com/homes/for_sale/bergen county/7_p/',\n",
       " 'https://www.zillow.com/homes/for_sale/bergen county/8_p/',\n",
       " 'https://www.zillow.com/homes/for_sale/bergen county/9_p/',\n",
       " 'https://www.zillow.com/homes/for_sale/bergen county/10_p/',\n",
       " 'https://www.zillow.com/homes/for_sale/bergen county/11_p/',\n",
       " 'https://www.zillow.com/homes/for_sale/bergen county/12_p/',\n",
       " 'https://www.zillow.com/homes/for_sale/bergen county/13_p/',\n",
       " 'https://www.zillow.com/homes/for_sale/bergen county/14_p/',\n",
       " 'https://www.zillow.com/homes/for_sale/bergen county/15_p/',\n",
       " 'https://www.zillow.com/homes/for_sale/bergen county/16_p/',\n",
       " 'https://www.zillow.com/homes/for_sale/bergen county/17_p/',\n",
       " 'https://www.zillow.com/homes/for_sale/bergen county/18_p/',\n",
       " 'https://www.zillow.com/homes/for_sale/bergen county/19_p/',\n",
       " 'https://www.zillow.com/homes/for_sale/bergen county/20_p/',\n",
       " 'https://www.zillow.com/homes/for_sale/bergen county/21_p/',\n",
       " 'https://www.zillow.com/homes/for_sale/bergen county/22_p/',\n",
       " 'https://www.zillow.com/homes/for_sale/bergen county/23_p/',\n",
       " 'https://www.zillow.com/homes/for_sale/bergen county/24_p/',\n",
       " 'https://www.zillow.com/homes/for_sale/bergen county/25_p/',\n",
       " 'https://www.zillow.com/homes/for_sale/bergen county/26_p/',\n",
       " 'https://www.zillow.com/homes/for_sale/bergen county/27_p/',\n",
       " 'https://www.zillow.com/homes/for_sale/bergen county/28_p/',\n",
       " 'https://www.zillow.com/homes/for_sale/bergen county/29_p/',\n",
       " 'https://www.zillow.com/homes/for_sale/bergen county/30_p/',\n",
       " 'https://www.zillow.com/homes/for_sale/bergen county/31_p/',\n",
       " 'https://www.zillow.com/homes/for_sale/bergen county/32_p/',\n",
       " 'https://www.zillow.com/homes/for_sale/bergen county/33_p/',\n",
       " 'https://www.zillow.com/homes/for_sale/bergen county/34_p/',\n",
       " 'https://www.zillow.com/homes/for_sale/bergen county/35_p/',\n",
       " 'https://www.zillow.com/homes/for_sale/bergen county/36_p/',\n",
       " 'https://www.zillow.com/homes/for_sale/bergen county/37_p/',\n",
       " 'https://www.zillow.com/homes/for_sale/bergen county/38_p/',\n",
       " 'https://www.zillow.com/homes/for_sale/bergen county/39_p/',\n",
       " 'https://www.zillow.com/homes/for_sale/bergen county/40_p/',\n",
       " 'https://www.zillow.com/homes/for_sale/bergen county/41_p/',\n",
       " 'https://www.zillow.com/homes/for_sale/bergen county/42_p/',\n",
       " 'https://www.zillow.com/homes/for_sale/bergen county/43_p/',\n",
       " 'https://www.zillow.com/homes/for_sale/bergen county/44_p/',\n",
       " 'https://www.zillow.com/homes/for_sale/bergen county/45_p/',\n",
       " 'https://www.zillow.com/homes/for_sale/bergen county/46_p/',\n",
       " 'https://www.zillow.com/homes/for_sale/bergen county/47_p/',\n",
       " 'https://www.zillow.com/homes/for_sale/bergen county/48_p/',\n",
       " 'https://www.zillow.com/homes/for_sale/bergen county/49_p/']"
      ]
     },
     "execution_count": 48,
     "metadata": {},
     "output_type": "execute_result"
    }
   ],
   "source": [
    "url_list"
   ]
  },
  {
   "cell_type": "code",
   "execution_count": 49,
   "id": "a407cabe",
   "metadata": {},
   "outputs": [
    {
     "data": {
      "text/plain": [
       "'https://www.zillow.com/homes/for_sale/bergen county/49_p/'"
      ]
     },
     "execution_count": 49,
     "metadata": {},
     "output_type": "execute_result"
    }
   ],
   "source": [
    "dom"
   ]
  },
  {
   "cell_type": "code",
   "execution_count": 50,
   "id": "189a240d",
   "metadata": {},
   "outputs": [],
   "source": [
    "def soups(data):\n",
    "    with requests.Session() as s:\n",
    "        r = s.get(data, headers=headers1)\n",
    "        soup = BeautifulSoup(r.content, 'html.parser')\n",
    "    return soup"
   ]
  },
  {
   "cell_type": "code",
   "execution_count": 51,
   "id": "70d17dbe",
   "metadata": {},
   "outputs": [
    {
     "name": "stdout",
     "output_type": "stream",
     "text": [
      "49\n"
     ]
    }
   ],
   "source": [
    "list_links = []\n",
    "\n",
    "for url in url_list:\n",
    "    htmls = soups(url)\n",
    "    list_links.append(htmls)\n",
    "print(len(list_links))"
   ]
  },
  {
   "cell_type": "code",
   "execution_count": null,
   "id": "cacb8477",
   "metadata": {},
   "outputs": [],
   "source": []
  },
  {
   "cell_type": "code",
   "execution_count": 52,
   "id": "ddeca5a7",
   "metadata": {},
   "outputs": [],
   "source": [
    "df = pd.DataFrame()"
   ]
  },
  {
   "cell_type": "code",
   "execution_count": 53,
   "id": "be750101",
   "metadata": {},
   "outputs": [],
   "source": [
    "def z_soup(data):\n",
    "    address = data.find_all(class_= 'list-card-addr')\n",
    "    price = list(data.find_all(class_='list-card-price'))\n",
    "    beds = list(data.find_all(\"ul\", class_=\"list-card-details\"))\n",
    "    df['prices'] = price\n",
    "    df['address'] = address\n",
    "    df['beds'] = beds\n",
    "    \n",
    "    return df.copy()"
   ]
  },
  {
   "cell_type": "code",
   "execution_count": 54,
   "id": "3d5c995b",
   "metadata": {},
   "outputs": [],
   "source": [
    "zillow_df = pd.DataFrame()"
   ]
  },
  {
   "cell_type": "code",
   "execution_count": 55,
   "id": "4e3bc114",
   "metadata": {},
   "outputs": [],
   "source": [
    "df_list = []\n",
    "for soup in list_links:\n",
    "    try:\n",
    "        new_df = z_soup(soup)\n",
    "        df_list.append(new_df)\n",
    "    except:\n",
    "        continue"
   ]
  },
  {
   "cell_type": "code",
   "execution_count": null,
   "id": "69683eb5",
   "metadata": {},
   "outputs": [],
   "source": []
  },
  {
   "cell_type": "code",
   "execution_count": 56,
   "id": "81347b73",
   "metadata": {},
   "outputs": [],
   "source": [
    "# Combine the list of datasets into our new dataframe\n",
    "zillow_df = pd.concat(df_list)\n",
    "zillow_df.reset_index(inplace=True)\n",
    "zillow_df = zillow_df.drop('index', axis=1)"
   ]
  },
  {
   "cell_type": "code",
   "execution_count": 57,
   "id": "b5c85c3d",
   "metadata": {},
   "outputs": [
    {
     "name": "stdout",
     "output_type": "stream",
     "text": [
      "(225, 3)\n"
     ]
    },
    {
     "data": {
      "text/html": [
       "<div>\n",
       "<style scoped>\n",
       "    .dataframe tbody tr th:only-of-type {\n",
       "        vertical-align: middle;\n",
       "    }\n",
       "\n",
       "    .dataframe tbody tr th {\n",
       "        vertical-align: top;\n",
       "    }\n",
       "\n",
       "    .dataframe thead th {\n",
       "        text-align: right;\n",
       "    }\n",
       "</style>\n",
       "<table border=\"1\" class=\"dataframe\">\n",
       "  <thead>\n",
       "    <tr style=\"text-align: right;\">\n",
       "      <th></th>\n",
       "      <th>prices</th>\n",
       "      <th>address</th>\n",
       "      <th>beds</th>\n",
       "    </tr>\n",
       "  </thead>\n",
       "  <tbody>\n",
       "    <tr>\n",
       "      <th>0</th>\n",
       "      <td>[$725,000]</td>\n",
       "      <td>[231 Kociemba Dr, River Vale, NJ 07675]</td>\n",
       "      <td>[[4, [ ,  , bds]], [2, [ ,  , ba]], [--, [ ,  ...</td>\n",
       "    </tr>\n",
       "    <tr>\n",
       "      <th>1</th>\n",
       "      <td>[$199,000]</td>\n",
       "      <td>[2 Horizon UNIT G20, Fort Lee Boro, NJ 07024]</td>\n",
       "      <td>[[3, [ ,  , bds]], [3, [ ,  , ba]], [--, [ ,  ...</td>\n",
       "    </tr>\n",
       "    <tr>\n",
       "      <th>2</th>\n",
       "      <td>[$1,449,000]</td>\n",
       "      <td>[115 Demarest Ave, Englewood Cliffs, NJ 07632]</td>\n",
       "      <td>[[4, [ ,  , bds]], [3, [ ,  , ba]], [--, [ ,  ...</td>\n",
       "    </tr>\n",
       "    <tr>\n",
       "      <th>3</th>\n",
       "      <td>[$525,000]</td>\n",
       "      <td>[456 Linwood Ave, Ridgewood Village, NJ 07450-...</td>\n",
       "      <td>[[4, [ ,  , bds]], [2, [ ,  , ba]], [--, [ ,  ...</td>\n",
       "    </tr>\n",
       "    <tr>\n",
       "      <th>4</th>\n",
       "      <td>[$578,777]</td>\n",
       "      <td>[120 Harding Ave, Westwood, NJ 07675]</td>\n",
       "      <td>[[4, [ ,  , bds]], [2, [ ,  , ba]], [--, [ ,  ...</td>\n",
       "    </tr>\n",
       "  </tbody>\n",
       "</table>\n",
       "</div>"
      ],
      "text/plain": [
       "         prices                                            address  \\\n",
       "0    [$725,000]            [231 Kociemba Dr, River Vale, NJ 07675]   \n",
       "1    [$199,000]      [2 Horizon UNIT G20, Fort Lee Boro, NJ 07024]   \n",
       "2  [$1,449,000]     [115 Demarest Ave, Englewood Cliffs, NJ 07632]   \n",
       "3    [$525,000]  [456 Linwood Ave, Ridgewood Village, NJ 07450-...   \n",
       "4    [$578,777]              [120 Harding Ave, Westwood, NJ 07675]   \n",
       "\n",
       "                                                beds  \n",
       "0  [[4, [ ,  , bds]], [2, [ ,  , ba]], [--, [ ,  ...  \n",
       "1  [[3, [ ,  , bds]], [3, [ ,  , ba]], [--, [ ,  ...  \n",
       "2  [[4, [ ,  , bds]], [3, [ ,  , ba]], [--, [ ,  ...  \n",
       "3  [[4, [ ,  , bds]], [2, [ ,  , ba]], [--, [ ,  ...  \n",
       "4  [[4, [ ,  , bds]], [2, [ ,  , ba]], [--, [ ,  ...  "
      ]
     },
     "execution_count": 57,
     "metadata": {},
     "output_type": "execute_result"
    }
   ],
   "source": [
    "print(zillow_df.shape)\n",
    "zillow_df.head()"
   ]
  },
  {
   "cell_type": "code",
   "execution_count": 58,
   "id": "dfa71234",
   "metadata": {},
   "outputs": [],
   "source": [
    "zillow_df = zillow_df.applymap(str)"
   ]
  },
  {
   "cell_type": "code",
   "execution_count": 59,
   "id": "05b9e594",
   "metadata": {},
   "outputs": [
    {
     "data": {
      "text/plain": [
       "(225, 3)"
      ]
     },
     "execution_count": 59,
     "metadata": {},
     "output_type": "execute_result"
    }
   ],
   "source": [
    "zillow_df.shape"
   ]
  },
  {
   "cell_type": "code",
   "execution_count": 60,
   "id": "2cc0b443",
   "metadata": {},
   "outputs": [
    {
     "data": {
      "text/html": [
       "<div>\n",
       "<style scoped>\n",
       "    .dataframe tbody tr th:only-of-type {\n",
       "        vertical-align: middle;\n",
       "    }\n",
       "\n",
       "    .dataframe tbody tr th {\n",
       "        vertical-align: top;\n",
       "    }\n",
       "\n",
       "    .dataframe thead th {\n",
       "        text-align: right;\n",
       "    }\n",
       "</style>\n",
       "<table border=\"1\" class=\"dataframe\">\n",
       "  <thead>\n",
       "    <tr style=\"text-align: right;\">\n",
       "      <th></th>\n",
       "      <th>prices</th>\n",
       "      <th>address</th>\n",
       "      <th>beds</th>\n",
       "    </tr>\n",
       "  </thead>\n",
       "  <tbody>\n",
       "    <tr>\n",
       "      <th>0</th>\n",
       "      <td>$725,000</td>\n",
       "      <td>231 Kociemba Dr, River Vale, NJ 07675</td>\n",
       "      <td>4 bds2 ba-- sqft- House for sale</td>\n",
       "    </tr>\n",
       "    <tr>\n",
       "      <th>1</th>\n",
       "      <td>$199,000</td>\n",
       "      <td>2 Horizon UNIT G20, Fort Lee Boro, NJ 07024</td>\n",
       "      <td>3 bds3 ba-- sqft- Condo for sale</td>\n",
       "    </tr>\n",
       "    <tr>\n",
       "      <th>2</th>\n",
       "      <td>$1,449,000</td>\n",
       "      <td>115 Demarest Ave, Englewood Cliffs, NJ 07632</td>\n",
       "      <td>4 bds3 ba-- sqft- House for sale</td>\n",
       "    </tr>\n",
       "    <tr>\n",
       "      <th>3</th>\n",
       "      <td>$525,000</td>\n",
       "      <td>456 Linwood Ave, Ridgewood Village, NJ 07450-3420</td>\n",
       "      <td>4 bds2 ba-- sqft- House for sale</td>\n",
       "    </tr>\n",
       "    <tr>\n",
       "      <th>4</th>\n",
       "      <td>$578,777</td>\n",
       "      <td>120 Harding Ave, Westwood, NJ 07675</td>\n",
       "      <td>4 bds2 ba-- sqft- House for sale</td>\n",
       "    </tr>\n",
       "  </tbody>\n",
       "</table>\n",
       "</div>"
      ],
      "text/plain": [
       "       prices                                            address  \\\n",
       "0    $725,000              231 Kociemba Dr, River Vale, NJ 07675   \n",
       "1    $199,000        2 Horizon UNIT G20, Fort Lee Boro, NJ 07024   \n",
       "2  $1,449,000       115 Demarest Ave, Englewood Cliffs, NJ 07632   \n",
       "3    $525,000  456 Linwood Ave, Ridgewood Village, NJ 07450-3420   \n",
       "4    $578,777                120 Harding Ave, Westwood, NJ 07675   \n",
       "\n",
       "                               beds  \n",
       "0  4 bds2 ba-- sqft- House for sale  \n",
       "1  3 bds3 ba-- sqft- Condo for sale  \n",
       "2  4 bds3 ba-- sqft- House for sale  \n",
       "3  4 bds2 ba-- sqft- House for sale  \n",
       "4  4 bds2 ba-- sqft- House for sale  "
      ]
     },
     "execution_count": 60,
     "metadata": {},
     "output_type": "execute_result"
    }
   ],
   "source": [
    "zillow_df = zillow_df.applymap(lambda x: re.sub('<[^<]+?>', '',x))\n",
    "zillow_df.head()"
   ]
  },
  {
   "cell_type": "code",
   "execution_count": 61,
   "id": "1107ff0b",
   "metadata": {},
   "outputs": [
    {
     "data": {
      "text/html": [
       "<div>\n",
       "<style scoped>\n",
       "    .dataframe tbody tr th:only-of-type {\n",
       "        vertical-align: middle;\n",
       "    }\n",
       "\n",
       "    .dataframe tbody tr th {\n",
       "        vertical-align: top;\n",
       "    }\n",
       "\n",
       "    .dataframe thead th {\n",
       "        text-align: right;\n",
       "    }\n",
       "</style>\n",
       "<table border=\"1\" class=\"dataframe\">\n",
       "  <thead>\n",
       "    <tr style=\"text-align: right;\">\n",
       "      <th></th>\n",
       "      <th>prices</th>\n",
       "      <th>address</th>\n",
       "      <th>beds</th>\n",
       "      <th>home_type</th>\n",
       "    </tr>\n",
       "  </thead>\n",
       "  <tbody>\n",
       "    <tr>\n",
       "      <th>0</th>\n",
       "      <td>$725,000</td>\n",
       "      <td>231 Kociemba Dr, River Vale, NJ 07675</td>\n",
       "      <td>4 bds2 ba</td>\n",
       "      <td>- sqft- House for sale</td>\n",
       "    </tr>\n",
       "    <tr>\n",
       "      <th>1</th>\n",
       "      <td>$199,000</td>\n",
       "      <td>2 Horizon UNIT G20, Fort Lee Boro, NJ 07024</td>\n",
       "      <td>3 bds3 ba</td>\n",
       "      <td>- sqft- Condo for sale</td>\n",
       "    </tr>\n",
       "    <tr>\n",
       "      <th>2</th>\n",
       "      <td>$1,449,000</td>\n",
       "      <td>115 Demarest Ave, Englewood Cliffs, NJ 07632</td>\n",
       "      <td>4 bds3 ba</td>\n",
       "      <td>- sqft- House for sale</td>\n",
       "    </tr>\n",
       "    <tr>\n",
       "      <th>3</th>\n",
       "      <td>$525,000</td>\n",
       "      <td>456 Linwood Ave, Ridgewood Village, NJ 07450-3420</td>\n",
       "      <td>4 bds2 ba</td>\n",
       "      <td>- sqft- House for sale</td>\n",
       "    </tr>\n",
       "    <tr>\n",
       "      <th>4</th>\n",
       "      <td>$578,777</td>\n",
       "      <td>120 Harding Ave, Westwood, NJ 07675</td>\n",
       "      <td>4 bds2 ba</td>\n",
       "      <td>- sqft- House for sale</td>\n",
       "    </tr>\n",
       "  </tbody>\n",
       "</table>\n",
       "</div>"
      ],
      "text/plain": [
       "       prices                                            address       beds  \\\n",
       "0    $725,000              231 Kociemba Dr, River Vale, NJ 07675  4 bds2 ba   \n",
       "1    $199,000        2 Horizon UNIT G20, Fort Lee Boro, NJ 07024  3 bds3 ba   \n",
       "2  $1,449,000       115 Demarest Ave, Englewood Cliffs, NJ 07632  4 bds3 ba   \n",
       "3    $525,000  456 Linwood Ave, Ridgewood Village, NJ 07450-3420  4 bds2 ba   \n",
       "4    $578,777                120 Harding Ave, Westwood, NJ 07675  4 bds2 ba   \n",
       "\n",
       "                home_type  \n",
       "0  - sqft- House for sale  \n",
       "1  - sqft- Condo for sale  \n",
       "2  - sqft- House for sale  \n",
       "3  - sqft- House for sale  \n",
       "4  - sqft- House for sale  "
      ]
     },
     "execution_count": 61,
     "metadata": {},
     "output_type": "execute_result"
    }
   ],
   "source": [
    "zillow_df[['beds', 'home_type']] = zillow_df.beds.str.split('-',n=1, expand=True)\n",
    "zillow_df.head()"
   ]
  },
  {
   "cell_type": "code",
   "execution_count": 62,
   "id": "cb4a0f0c",
   "metadata": {},
   "outputs": [
    {
     "data": {
      "text/html": [
       "<div>\n",
       "<style scoped>\n",
       "    .dataframe tbody tr th:only-of-type {\n",
       "        vertical-align: middle;\n",
       "    }\n",
       "\n",
       "    .dataframe tbody tr th {\n",
       "        vertical-align: top;\n",
       "    }\n",
       "\n",
       "    .dataframe thead th {\n",
       "        text-align: right;\n",
       "    }\n",
       "</style>\n",
       "<table border=\"1\" class=\"dataframe\">\n",
       "  <thead>\n",
       "    <tr style=\"text-align: right;\">\n",
       "      <th></th>\n",
       "      <th>prices</th>\n",
       "      <th>address</th>\n",
       "      <th>beds</th>\n",
       "      <th>home_type</th>\n",
       "      <th>borough</th>\n",
       "      <th>zip_code</th>\n",
       "    </tr>\n",
       "  </thead>\n",
       "  <tbody>\n",
       "    <tr>\n",
       "      <th>0</th>\n",
       "      <td>$725,000</td>\n",
       "      <td>231 Kociemba Dr</td>\n",
       "      <td>4 bds2 ba</td>\n",
       "      <td>- sqft- House for sale</td>\n",
       "      <td>River Vale</td>\n",
       "      <td>NJ 07675</td>\n",
       "    </tr>\n",
       "    <tr>\n",
       "      <th>1</th>\n",
       "      <td>$199,000</td>\n",
       "      <td>2 Horizon UNIT G20</td>\n",
       "      <td>3 bds3 ba</td>\n",
       "      <td>- sqft- Condo for sale</td>\n",
       "      <td>Fort Lee Boro</td>\n",
       "      <td>NJ 07024</td>\n",
       "    </tr>\n",
       "    <tr>\n",
       "      <th>2</th>\n",
       "      <td>$1,449,000</td>\n",
       "      <td>115 Demarest Ave</td>\n",
       "      <td>4 bds3 ba</td>\n",
       "      <td>- sqft- House for sale</td>\n",
       "      <td>Englewood Cliffs</td>\n",
       "      <td>NJ 07632</td>\n",
       "    </tr>\n",
       "    <tr>\n",
       "      <th>3</th>\n",
       "      <td>$525,000</td>\n",
       "      <td>456 Linwood Ave</td>\n",
       "      <td>4 bds2 ba</td>\n",
       "      <td>- sqft- House for sale</td>\n",
       "      <td>Ridgewood Village</td>\n",
       "      <td>NJ 07450-3420</td>\n",
       "    </tr>\n",
       "    <tr>\n",
       "      <th>4</th>\n",
       "      <td>$578,777</td>\n",
       "      <td>120 Harding Ave</td>\n",
       "      <td>4 bds2 ba</td>\n",
       "      <td>- sqft- House for sale</td>\n",
       "      <td>Westwood</td>\n",
       "      <td>NJ 07675</td>\n",
       "    </tr>\n",
       "  </tbody>\n",
       "</table>\n",
       "</div>"
      ],
      "text/plain": [
       "       prices             address       beds               home_type  \\\n",
       "0    $725,000     231 Kociemba Dr  4 bds2 ba  - sqft- House for sale   \n",
       "1    $199,000  2 Horizon UNIT G20  3 bds3 ba  - sqft- Condo for sale   \n",
       "2  $1,449,000    115 Demarest Ave  4 bds3 ba  - sqft- House for sale   \n",
       "3    $525,000     456 Linwood Ave  4 bds2 ba  - sqft- House for sale   \n",
       "4    $578,777     120 Harding Ave  4 bds2 ba  - sqft- House for sale   \n",
       "\n",
       "              borough        zip_code  \n",
       "0          River Vale        NJ 07675  \n",
       "1       Fort Lee Boro        NJ 07024  \n",
       "2    Englewood Cliffs        NJ 07632  \n",
       "3   Ridgewood Village   NJ 07450-3420  \n",
       "4            Westwood        NJ 07675  "
      ]
     },
     "execution_count": 62,
     "metadata": {},
     "output_type": "execute_result"
    }
   ],
   "source": [
    "zillow_df[['address', 'borough','zip_code']] = zillow_df.address.str.split(\",\", expand=True)\n",
    "zillow_df.head()"
   ]
  },
  {
   "cell_type": "code",
   "execution_count": 63,
   "id": "491d1c20",
   "metadata": {},
   "outputs": [],
   "source": [
    "# separate beds column into bed, bath, and sq_feet\n",
    "\n",
    "zillow_df[['beds', 'baths', 'sqft']] = zillow_df.beds.str.split(' ',n=2, expand=True)\n",
    "zillow_df['sqft'] = zillow_df.sqft.str.replace(\",\", \"\")"
   ]
  },
  {
   "cell_type": "code",
   "execution_count": 64,
   "id": "9bf653e9",
   "metadata": {},
   "outputs": [],
   "source": [
    "# extract only the digits from the columns\n",
    "zillow_df['beds'] = zillow_df.beds.str.extract('(\\d+)')\n",
    "zillow_df['baths'] = zillow_df.baths.str.extract('(\\d+)')\n",
    "zillow_df['sqft'] = zillow_df.sqft.str.extract('(\\d+)')"
   ]
  },
  {
   "cell_type": "code",
   "execution_count": 65,
   "id": "512d2604",
   "metadata": {},
   "outputs": [],
   "source": [
    "# convert columns to float\n",
    "zillow_df['beds'] = zillow_df['beds'].astype('float')\n",
    "zillow_df['baths'] = zillow_df['baths'].astype('float')\n",
    "zillow_df['sqft'] = zillow_df['sqft'].astype('float')"
   ]
  },
  {
   "cell_type": "code",
   "execution_count": 66,
   "id": "802b1884",
   "metadata": {},
   "outputs": [
    {
     "data": {
      "text/html": [
       "<div>\n",
       "<style scoped>\n",
       "    .dataframe tbody tr th:only-of-type {\n",
       "        vertical-align: middle;\n",
       "    }\n",
       "\n",
       "    .dataframe tbody tr th {\n",
       "        vertical-align: top;\n",
       "    }\n",
       "\n",
       "    .dataframe thead th {\n",
       "        text-align: right;\n",
       "    }\n",
       "</style>\n",
       "<table border=\"1\" class=\"dataframe\">\n",
       "  <thead>\n",
       "    <tr style=\"text-align: right;\">\n",
       "      <th></th>\n",
       "      <th>prices</th>\n",
       "      <th>address</th>\n",
       "      <th>beds</th>\n",
       "      <th>home_type</th>\n",
       "      <th>borough</th>\n",
       "      <th>zip_code</th>\n",
       "      <th>baths</th>\n",
       "      <th>sqft</th>\n",
       "    </tr>\n",
       "  </thead>\n",
       "  <tbody>\n",
       "    <tr>\n",
       "      <th>220</th>\n",
       "      <td>$578,777</td>\n",
       "      <td>120 Harding Ave</td>\n",
       "      <td>4.0</td>\n",
       "      <td>- sqft- House for sale</td>\n",
       "      <td>Westwood</td>\n",
       "      <td>NJ 07675</td>\n",
       "      <td>2.0</td>\n",
       "      <td>NaN</td>\n",
       "    </tr>\n",
       "    <tr>\n",
       "      <th>221</th>\n",
       "      <td>$260,000</td>\n",
       "      <td>44 S Main St APT 3C</td>\n",
       "      <td>2.0</td>\n",
       "      <td>- sqft- Condo for sale</td>\n",
       "      <td>Lodi</td>\n",
       "      <td>NJ 07644</td>\n",
       "      <td>2.0</td>\n",
       "      <td>NaN</td>\n",
       "    </tr>\n",
       "    <tr>\n",
       "      <th>222</th>\n",
       "      <td>$269,000</td>\n",
       "      <td>1085 Stasia St</td>\n",
       "      <td>3.0</td>\n",
       "      <td>- sqft- House for sale</td>\n",
       "      <td>Teaneck</td>\n",
       "      <td>NJ 07666</td>\n",
       "      <td>2.0</td>\n",
       "      <td>NaN</td>\n",
       "    </tr>\n",
       "    <tr>\n",
       "      <th>223</th>\n",
       "      <td>$499,000</td>\n",
       "      <td>80 Iroquois Ave</td>\n",
       "      <td>3.0</td>\n",
       "      <td>- sqft- House for sale</td>\n",
       "      <td>Oakland Boro</td>\n",
       "      <td>NJ 07436-3744</td>\n",
       "      <td>3.0</td>\n",
       "      <td>NaN</td>\n",
       "    </tr>\n",
       "    <tr>\n",
       "      <th>224</th>\n",
       "      <td>$1,195,000</td>\n",
       "      <td>366 Beveridge Rd</td>\n",
       "      <td>5.0</td>\n",
       "      <td>- sqft- House for sale</td>\n",
       "      <td>Ridgewood Village</td>\n",
       "      <td>NJ 07450-1012</td>\n",
       "      <td>3.0</td>\n",
       "      <td>NaN</td>\n",
       "    </tr>\n",
       "  </tbody>\n",
       "</table>\n",
       "</div>"
      ],
      "text/plain": [
       "         prices              address  beds               home_type  \\\n",
       "220    $578,777      120 Harding Ave   4.0  - sqft- House for sale   \n",
       "221    $260,000  44 S Main St APT 3C   2.0  - sqft- Condo for sale   \n",
       "222    $269,000       1085 Stasia St   3.0  - sqft- House for sale   \n",
       "223    $499,000      80 Iroquois Ave   3.0  - sqft- House for sale   \n",
       "224  $1,195,000     366 Beveridge Rd   5.0  - sqft- House for sale   \n",
       "\n",
       "                borough        zip_code  baths  sqft  \n",
       "220            Westwood        NJ 07675    2.0   NaN  \n",
       "221                Lodi        NJ 07644    2.0   NaN  \n",
       "222             Teaneck        NJ 07666    2.0   NaN  \n",
       "223        Oakland Boro   NJ 07436-3744    3.0   NaN  \n",
       "224   Ridgewood Village   NJ 07450-1012    3.0   NaN  "
      ]
     },
     "execution_count": 66,
     "metadata": {},
     "output_type": "execute_result"
    }
   ],
   "source": [
    "zillow_df.tail()"
   ]
  },
  {
   "cell_type": "code",
   "execution_count": 67,
   "id": "a65f713d",
   "metadata": {},
   "outputs": [],
   "source": [
    "zillow_df.to_csv(\"bergen_county_zillow.csv\")"
   ]
  },
  {
   "cell_type": "code",
   "execution_count": null,
   "id": "8006389c",
   "metadata": {},
   "outputs": [],
   "source": []
  }
 ],
 "metadata": {
  "kernelspec": {
   "display_name": "Python 3 (ipykernel)",
   "language": "python",
   "name": "python3"
  },
  "language_info": {
   "codemirror_mode": {
    "name": "ipython",
    "version": 3
   },
   "file_extension": ".py",
   "mimetype": "text/x-python",
   "name": "python",
   "nbconvert_exporter": "python",
   "pygments_lexer": "ipython3",
   "version": "3.9.10"
  }
 },
 "nbformat": 4,
 "nbformat_minor": 5
}
