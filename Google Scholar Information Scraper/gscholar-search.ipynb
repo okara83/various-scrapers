{
 "cells": [
  {
   "cell_type": "code",
   "execution_count": 1,
   "id": "83752e0e",
   "metadata": {},
   "outputs": [],
   "source": [
    "from bs4 import BeautifulSoup\n",
    "import requests\n",
    "import re\n",
    "from datetime import datetime\n",
    "import json\n",
    "from serpapi import GoogleSearch, GoogleScholarSearch\n",
    "import os\n",
    "from urllib.parse import urlsplit, parse_qsl\n",
    "import pandas as pd"
   ]
  },
  {
   "cell_type": "code",
   "execution_count": 2,
   "id": "1803ee38",
   "metadata": {},
   "outputs": [],
   "source": [
    "class ScholarListener:\n",
    "    query_list=None\n",
    "    save_to_json=True\n",
    "    save_to_csv=False\n",
    "    return_output_object=False\n",
    "    mauthors=None\n",
    "    affiliations=None\n",
    "    author_id=None\n",
    "    query=None\n",
    "    \n",
    "    def __init__(self):\n",
    "        pass\n",
    "        \n",
    "\n",
    "    def serpapi_scrape_organic_results(self):\n",
    "        params = {\n",
    "        \"api_key\": \"api_key\",\n",
    "        \"engine\": \"google_scholar\",\n",
    "        \"q\": self.query,\n",
    "        }\n",
    "\n",
    "        search = GoogleScholarSearch(params)\n",
    "        results = search.get_dict()\n",
    "        outward= {}\n",
    "        # It looks a bit akward but the point is that you can grab everything you need in 2-3 lines of code as below.\n",
    "        for result in results['organic_results']:\n",
    "            try:\n",
    "                title= result['title']\n",
    "            except:\n",
    "                continue\n",
    "            try:\n",
    "                publication_info=result['publication_info']['summary']\n",
    "            except:\n",
    "                 publication_info=\"NA\"\n",
    "            try:\n",
    "                snippet=result['snippet']\n",
    "            except:\n",
    "                snippet=\"NA\"\n",
    "            try:\n",
    "                cited_by=result['inline_links']['cited_by']['link']\n",
    "            except:\n",
    "                cited_by=\"NA\"\n",
    "            try:\n",
    "                related_versions=result['inline_links']['related_pages_link']\n",
    "            except:\n",
    "                related_versions=\"NA\"\n",
    "\n",
    "\n",
    "            outward[title]={\n",
    "                  'title': title,\n",
    "                  'publication_info':publication_info,\n",
    "                  'snippet': snippet,\n",
    "                  'cited_by': cited_by,\n",
    "                  'related_versions': related_versions\n",
    "                    }\n",
    "        return outward\n",
    "\n",
    "    def serpapi_scrape_author_result(self):\n",
    "        params = {\n",
    "            \"api_key\": \"\",\n",
    "            \"engine\": \"google_scholar_author\",\n",
    "            \"author_id\": self.author_id,\n",
    "            \"hl\": \"en\",\n",
    "        }\n",
    "        interests1=\"NA\"\n",
    "        interests2=\"NA\"\n",
    "        search = GoogleScholarSearch(params)\n",
    "        results = search.get_dict()\n",
    "        print(results)\n",
    "        # Author info\n",
    "        try:\n",
    "            name = results['author']['name']\n",
    "            affiliations = results['author']['affiliations']\n",
    "            email = results['author']['email']\n",
    "            interests1=results['author']['interests'][0]['title']\n",
    "            interests2 = results['author']['interests'][1]['title']\n",
    "        except:\n",
    "            name = \"NA\"\n",
    "            affiliations= \"NA\"\n",
    "            email=\"NA\"\n",
    "            interests1=\"NA\"\n",
    "            interest2=\"NA\"\n",
    "        print('Author Info:')\n",
    "        print(f'{name}\\n{affiliations}\\n{email}\\n{interests1}\\n{interests2}\\n')\n",
    "\n",
    "              # Articles Results\n",
    "        for article in results['articles']:\n",
    "            article_title = article['title']\n",
    "            article_link = article['link']\n",
    "            article_authors = article['authors']\n",
    "            article_publication = article['publication']\n",
    "            cited_by = article['cited_by']['value']\n",
    "            cited_by_link = article['cited_by']['link']\n",
    "            article_year = article['year']\n",
    "            print('Articles Info:')\n",
    "            print(f\"Title: {article_title}\\nLink: {article_link}\\nAuthors: {article_authors}\\nPublication: {article_publication}\\nCited by: {cited_by}\\nCited by link: {cited_by_link}\\nPublication year: {article_year}\\n\")\n",
    "\n",
    "        # Cited By and Public Access Results\n",
    "        citations_all = results['cited_by']['table'][0]['citations']['all']\n",
    "        h_inedx_all = results['cited_by']['table'][1]['h_index']['all']\n",
    "        i10_index_all = results['cited_by']['table'][2]['i10_index']['all']\n",
    "\n",
    "        print('Citations Info:')\n",
    "        print(f'{citations_all}\\n{h_inedx_all}\\n{i10_index_all}\\n')\n",
    "        try:\n",
    "            public_access_link = results['public_access']['link']\n",
    "        except:\n",
    "            public_access_link = \"NA\"\n",
    "        try:\n",
    "            public_access_available_articles = results['public_access']['available']\n",
    "        except:\n",
    "            public_access_available_articles = \"NA\"\n",
    "\n",
    "\n",
    "        print('Public Access Info:')\n",
    "        print(f'{public_access_link}\\n{public_access_available_articles}\\n')\n",
    "\n",
    "        # Co-Authors Results\n",
    "        for authors in results['co_authors']:\n",
    "            print(authors)\n",
    "            author_name = authors['name']\n",
    "            try:\n",
    "                author_affiliations = authors['affiliations']\n",
    "            except:\n",
    "                author_affiliations = \"NA\"\n",
    "            try:\n",
    "                author_link = authors['link']\n",
    "            except:\n",
    "                author_link = \"NA\"\n",
    "\n",
    "            print('Co-Authour(s):')\n",
    "            print(f'{author_name}\\n{author_affiliations}\\n{author_link}\\n')\n",
    "        \n",
    "    def serpapi_author_profile(self):\n",
    "        params = {\n",
    "            \"api_key\": \"\",\n",
    "            \"engine\": \"google_scholar_profiles\",\n",
    "            \"hl\": \"en\",\n",
    "            \"mauthors\": self.mauthors,\n",
    "            \"affiliations\":self.affiliations\n",
    "        }\n",
    "\n",
    "        search = GoogleScholarSearch(params)\n",
    "    #     results = search.get_response()\n",
    "        results = search.get_dict()\n",
    "        outputs = {}\n",
    "        author_profiles=results[\"profiles\"]\n",
    "        for result in author_profiles:\n",
    "            try:\n",
    "                self.affiliations.strip()\n",
    "                if result[\"affiliations\"].strip().lower() ==f\"{self.affiliations}\".lower():\n",
    "                    outputs[result[\"name\"]]=result\n",
    "                else:\n",
    "                    continue\n",
    "            except:\n",
    "                outputs[result[\"name\"]]=result   \n",
    "        return outputs\n",
    "    \n",
    "    def scholar_search(self):\n",
    "        '''\n",
    "        query_list = [\"Sehanobish Corzo Kara\", \"Learning potentials of \n",
    "        quantum systems using deep neural networks\", \"2006.13297\" ] \n",
    "        '''\n",
    "        \n",
    "        scraped_time = datetime.now().strftime(\"%h-%d-%Y\")\n",
    "        output = {}\n",
    "        headers = {\"user-agent\": \"Mozilla/5.0 (Macintosh; Intel Mac OS X 12_3_1) AppleWebKit/601.3.9 (KHTML, like Gecko) Chrome/74.0.3729.169 Safari/537.36\" ,'referer':'https://www.google.com/'}\n",
    "#         headers = {'User-Agent':'Mozilla/5.0 (Macintosh; Intel Mac OS X 12_3_1) AppleWebKit/601.3.9 (KHTML, like Gecko) Version/9.0.2 Safari/601.3.9'}\n",
    "        ql = self.query_list\n",
    "        for query in ql:\n",
    "            output_list = []\n",
    "            url_1 = f'https://scholar.google.com/scholar?hl=en&as_sdt=0%2C5&q={query}&btnG='\n",
    "            url_2 = f'https://scholar.google.com/scholar?start=10&q={query}&hl=en&as_sdt=0,31'\n",
    "            url_3 = f'https://scholar.google.com/scholar?start=20&q={query}&hl=en&as_sdt=0,31'\n",
    "            urls = [url_1,url_2,url_3] # first three search result pages\n",
    "            for url in urls:\n",
    "                response=requests.get(url,headers=headers)\n",
    "                statuscode=response.status_code\n",
    "                if statuscode != 200:\n",
    "                    raise Exception(f\"requests response for url query: {url} returned {statuscode} response -- check google hasn't blocked your IP\")\n",
    "                    return\n",
    "                soup=BeautifulSoup(response.content,'lxml')\n",
    "                links = soup.find_all(\"h3\", class_=\"gs_rt\")\n",
    "                print(links)\n",
    "                for j in links:\n",
    "                    the_url = re.search(\"href=\\\"(.*?)\\\"\\s\",str(j),re.DOTALL)[1]\n",
    "                    output_list.append(the_url)\n",
    "                    print(the_url)\n",
    "            output[query] = output_list\n",
    "        \n",
    "        #object output and saving results\n",
    "        if self.save_to_json == True:\n",
    "            name_concat_queries = \"_\".join(self.query_list)\n",
    "            with open(f\"{name_concat_queries}--{scraped_time}\",\"w\") as file:\n",
    "                json.dump(output,file)\n",
    "        \n",
    "        if self.save_to_csv == True:\n",
    "            import pandas as pd\n",
    "            for l in output.keys():\n",
    "                df = pd.DataFrame.from_dict(output[l])\n",
    "                df.to_csv(f\"{l}.csv\")\n",
    "                \n",
    "        if self.return_output_object == True:\n",
    "            return output\n",
    "        else:\n",
    "            return            \n",
    "\n"
   ]
  },
  {
   "cell_type": "code",
   "execution_count": 3,
   "id": "3598aed9",
   "metadata": {},
   "outputs": [
    {
     "name": "stdout",
     "output_type": "stream",
     "text": [
      "https://serpapi.com/search\n",
      "{'error': 'Invalid API key. Your API key should be here: https://serpapi.com/manage-api-key'}\n",
      "Author Info:\n",
      "NA\n",
      "NA\n",
      "NA\n",
      "NA\n",
      "NA\n",
      "\n"
     ]
    },
    {
     "ename": "KeyError",
     "evalue": "'articles'",
     "output_type": "error",
     "traceback": [
      "\u001b[0;31m---------------------------------------------------------------------------\u001b[0m",
      "\u001b[0;31mKeyError\u001b[0m                                  Traceback (most recent call last)",
      "\u001b[0;32m/var/folders/sd/1vc_q83x5rn9jjrd0x47_cc00000gn/T/ipykernel_16805/3852355462.py\u001b[0m in \u001b[0;36m<module>\u001b[0;34m\u001b[0m\n\u001b[1;32m      2\u001b[0m \u001b[0mp\u001b[0m\u001b[0;34m.\u001b[0m\u001b[0mauthor_id\u001b[0m\u001b[0;34m=\u001b[0m\u001b[0;34m\"IzsyeRAAAAAJ\"\u001b[0m\u001b[0;34m\u001b[0m\u001b[0;34m\u001b[0m\u001b[0m\n\u001b[1;32m      3\u001b[0m \u001b[0mp\u001b[0m\u001b[0;34m.\u001b[0m\u001b[0mmauthor\u001b[0m\u001b[0;34m=\u001b[0m \u001b[0;34m\"kara, onur\"\u001b[0m\u001b[0;34m\u001b[0m\u001b[0;34m\u001b[0m\u001b[0m\n\u001b[0;32m----> 4\u001b[0;31m \u001b[0mp\u001b[0m\u001b[0;34m.\u001b[0m\u001b[0mserpapi_scrape_author_result\u001b[0m\u001b[0;34m(\u001b[0m\u001b[0;34m)\u001b[0m\u001b[0;34m\u001b[0m\u001b[0;34m\u001b[0m\u001b[0m\n\u001b[0m",
      "\u001b[0;32m/var/folders/sd/1vc_q83x5rn9jjrd0x47_cc00000gn/T/ipykernel_16805/2932280269.py\u001b[0m in \u001b[0;36mserpapi_scrape_author_result\u001b[0;34m(self)\u001b[0m\n\u001b[1;32m     85\u001b[0m \u001b[0;34m\u001b[0m\u001b[0m\n\u001b[1;32m     86\u001b[0m               \u001b[0;31m# Articles Results\u001b[0m\u001b[0;34m\u001b[0m\u001b[0;34m\u001b[0m\u001b[0m\n\u001b[0;32m---> 87\u001b[0;31m         \u001b[0;32mfor\u001b[0m \u001b[0marticle\u001b[0m \u001b[0;32min\u001b[0m \u001b[0mresults\u001b[0m\u001b[0;34m[\u001b[0m\u001b[0;34m'articles'\u001b[0m\u001b[0;34m]\u001b[0m\u001b[0;34m:\u001b[0m\u001b[0;34m\u001b[0m\u001b[0;34m\u001b[0m\u001b[0m\n\u001b[0m\u001b[1;32m     88\u001b[0m             \u001b[0marticle_title\u001b[0m \u001b[0;34m=\u001b[0m \u001b[0marticle\u001b[0m\u001b[0;34m[\u001b[0m\u001b[0;34m'title'\u001b[0m\u001b[0;34m]\u001b[0m\u001b[0;34m\u001b[0m\u001b[0;34m\u001b[0m\u001b[0m\n\u001b[1;32m     89\u001b[0m             \u001b[0marticle_link\u001b[0m \u001b[0;34m=\u001b[0m \u001b[0marticle\u001b[0m\u001b[0;34m[\u001b[0m\u001b[0;34m'link'\u001b[0m\u001b[0;34m]\u001b[0m\u001b[0;34m\u001b[0m\u001b[0;34m\u001b[0m\u001b[0m\n",
      "\u001b[0;31mKeyError\u001b[0m: 'articles'"
     ]
    }
   ],
   "source": [
    "p=ScholarListener()\n",
    "p.author_id=\"IzsyeRAAAAAJ\"\n",
    "p.mauthor= \"kara, onur\"\n",
    "p.serpapi_scrape_author_result()\n"
   ]
  },
  {
   "cell_type": "code",
   "execution_count": 4,
   "id": "6e3a32d7",
   "metadata": {},
   "outputs": [
    {
     "name": "stdout",
     "output_type": "stream",
     "text": [
      "https://serpapi.com/search\n"
     ]
    },
    {
     "data": {
      "text/plain": [
       "{'Learning potentials of quantum systems using deep neural networks': {'title': 'Learning potentials of quantum systems using deep neural networks',\n",
       "  'publication_info': 'A Sehanobish, HH Corzo, O Kara… - arXiv preprint arXiv …, 2020 - arxiv.org',\n",
       "  'snippet': 'Attempts to apply Neural Networks (NN) to a wide range of research problems have been ubiquitous and plentiful in recent literature. Particularly, the use of deep NNs for understanding …',\n",
       "  'cited_by': 'https://scholar.google.com/scholar?cites=11804469877329258063&as_sdt=8000005&sciodt=0,19&hl=en',\n",
       "  'related_versions': 'https://scholar.google.com/scholar?q=related:T2YCiM_m0aMJ:scholar.google.com/&scioq=Sehanobish+Corzo+Kara&hl=en&as_sdt=0,19'},\n",
       " 'Fine-tuning Vision Transformers for the Prediction of State Variables in Ising Models': {'title': 'Fine-tuning Vision Transformers for the Prediction of State Variables in Ising Models',\n",
       "  'publication_info': 'O Kara, A Sehanobish, HH Corzo - arXiv preprint arXiv:2109.13925, 2021 - arxiv.org',\n",
       "  'snippet': 'Transformers are state-of-the-art deep learning models that are composed of stacked attention and point-wise, fully connected layers designed for handling sequential data. …',\n",
       "  'cited_by': 'https://scholar.google.com/scholar?cites=14144613611479670813&as_sdt=8000005&sciodt=0,19&hl=en',\n",
       "  'related_versions': 'https://scholar.google.com/scholar?q=related:HaBmZSPDS8QJ:scholar.google.com/&scioq=Sehanobish+Corzo+Kara&hl=en&as_sdt=0,19'},\n",
       " 'Application of the Quantum Potential Neural Network to multi-electronic atoms': {'title': 'Application of the Quantum Potential Neural Network to multi-electronic atoms',\n",
       "  'publication_info': 'HH Corzo, A Sehanobish, O Kara - arXiv preprint arXiv:2106.08138, 2021 - arxiv.org',\n",
       "  'snippet': 'In this report, the application of the Quantum Potential Neural Network (QPNN) framework to many electron atomic systems is presented. For this study, full configuration interaction (FCI) …',\n",
       "  'cited_by': 'NA',\n",
       "  'related_versions': 'https://scholar.google.com/scholar?q=related:BbCbqVJC0rQJ:scholar.google.com/&scioq=Sehanobish+Corzo+Kara&hl=en&as_sdt=0,19'},\n",
       " 'Learning Full Configuration Interaction Electron Correlations with Deep Learning': {'title': 'Learning Full Configuration Interaction Electron Correlations with Deep Learning',\n",
       "  'publication_info': 'HH Corzo, A Sehanobish, O Kara - ml4physicalsciences.github.io',\n",
       "  'snippet': 'In this report, we present a deep learning framework termed the Electron Correlation Potential Neural Network (eCPNN) that can learn succinct and compact potential functions. These …',\n",
       "  'cited_by': 'NA',\n",
       "  'related_versions': 'https://scholar.google.com/scholar?q=related:mh2XCm7p1YYJ:scholar.google.com/&scioq=Sehanobish+Corzo+Kara&hl=en&as_sdt=0,19'},\n",
       " 'Deep Learning Quantum States for Hamiltonian Estimation': {'title': 'Deep Learning Quantum States for Hamiltonian Estimation',\n",
       "  'publication_info': 'X Ma, ZC Tu, SJ Ran - Chinese Physics Letters, 2021 - iopscience.iop.org',\n",
       "  'snippet': 'Human experts cannot efficiently access physical information of a quantum many-body states by simply\" reading\" its coefficients, but have to reply on the previous knowledge such as …',\n",
       "  'cited_by': 'https://scholar.google.com/scholar?cites=13935163193403524492&as_sdt=8000005&sciodt=0,19&hl=en',\n",
       "  'related_versions': 'https://scholar.google.com/scholar?q=related:jEXqvRelY8EJ:scholar.google.com/&scioq=Sehanobish+Corzo+Kara&hl=en&as_sdt=0,19'},\n",
       " 'Predicting quantum potentials by deep neural network and metropolis sampling': {'title': 'Predicting quantum potentials by deep neural network and metropolis sampling',\n",
       "  'publication_info': 'R Hong, PF Zhou, B Xi, J Hu, AC Ji, SJ Ran - SciPost Physics Core, 2021 - scipost.org',\n",
       "  'snippet': 'The hybridizations of machine learning and quantum physics have caused essential impacts to the methodology in both fields. Inspired by quantum potential neural network, we here …',\n",
       "  'cited_by': 'https://scholar.google.com/scholar?cites=267322141856673560&as_sdt=8000005&sciodt=0,19&hl=en',\n",
       "  'related_versions': 'https://scholar.google.com/scholar?q=related:GK_2WRK4tQMJ:scholar.google.com/&scioq=Sehanobish+Corzo+Kara&hl=en&as_sdt=0,19'},\n",
       " 'Emojich--zero-shot emoji generation using Russian language: a technical report': {'title': 'Emojich--zero-shot emoji generation using Russian language: a technical report',\n",
       "  'publication_info': 'A Shonenkov, D Bakshandaeva, D Dimitrov… - arXiv preprint arXiv …, 2021 - arxiv.org',\n",
       "  'snippet': 'This technical report presents a text-to-image neural network \"Emojich\" that generates emojis using captions in Russian language as a condition. We aim to keep the generalization …',\n",
       "  'cited_by': 'NA',\n",
       "  'related_versions': 'https://scholar.google.com/scholar?q=related:2l6atLb7x-oJ:scholar.google.com/&scioq=Sehanobish+Corzo+Kara&hl=en&as_sdt=0,19'},\n",
       " 'Deep learning Local Reduced Density Matrices for Many-body Hamiltonian Estimation': {'title': 'Deep learning Local Reduced Density Matrices for Many-body Hamiltonian Estimation',\n",
       "  'publication_info': 'X Ma, ZC Tu, SJ Ran - arXiv preprint arXiv:2012.03019, 2020 - arxiv.org',\n",
       "  'snippet': '… Sehanobish et al proposed the quantum potential neural networks to reconstruct the … Kara, and D. van Dijk, Learning potentials of quantum systems using deep neural networks, arXiv …',\n",
       "  'cited_by': 'NA',\n",
       "  'related_versions': 'https://scholar.google.com/scholar?q=related:LpzVvKoMAf8J:scholar.google.com/&scioq=Sehanobish+Corzo+Kara&hl=en&as_sdt=0,19'},\n",
       " 'Neural Network Approach to Construction of Classical Integrable Systems': {'title': 'Neural Network Approach to Construction of Classical Integrable Systems',\n",
       "  'publication_info': 'F Ishikawa, H Suwa, S Todo - Journal of the Physical Society of …, 2021 - journals.jps.jp',\n",
       "  'snippet': 'Integrable systems have provided various insights into physical phenomena and mathematics. The way of constructing many-body integrable systems is limited to few ansatzes for the …',\n",
       "  'cited_by': 'NA',\n",
       "  'related_versions': 'https://scholar.google.com/scholar?q=related:1dYi3dooLkwJ:scholar.google.com/&scioq=Sehanobish+Corzo+Kara&hl=en&as_sdt=0,19'},\n",
       " 'Functional tensor network solving many-body Schrödinger equation': {'title': 'Functional tensor network solving many-body Schrödinger equation',\n",
       "  'publication_info': 'R Hong, YX Xiao, J Hu, AC Ji, SJ Ran - Physical Review B, 2022 - APS',\n",
       "  'snippet': 'Solving the many-body Schrödinger equation in continuous spaces with the presence of strong correlations is an extremely important and challenging issue in quantum physics. In this …',\n",
       "  'cited_by': 'NA',\n",
       "  'related_versions': 'NA'}}"
      ]
     },
     "execution_count": 4,
     "metadata": {},
     "output_type": "execute_result"
    }
   ],
   "source": [
    "p.query=\"Sehanobish Corzo Kara\"\n",
    "p.serpapi_scrape_organic_results()"
   ]
  },
  {
   "cell_type": "code",
   "execution_count": 5,
   "id": "511c59cc",
   "metadata": {},
   "outputs": [
    {
     "name": "stdout",
     "output_type": "stream",
     "text": [
      "https://serpapi.com/search\n"
     ]
    },
    {
     "ename": "KeyError",
     "evalue": "'profiles'",
     "output_type": "error",
     "traceback": [
      "\u001b[0;31m---------------------------------------------------------------------------\u001b[0m",
      "\u001b[0;31mKeyError\u001b[0m                                  Traceback (most recent call last)",
      "\u001b[0;32m/var/folders/sd/1vc_q83x5rn9jjrd0x47_cc00000gn/T/ipykernel_16805/3489055305.py\u001b[0m in \u001b[0;36m<module>\u001b[0;34m\u001b[0m\n\u001b[1;32m      1\u001b[0m \u001b[0mp\u001b[0m\u001b[0;34m.\u001b[0m\u001b[0mmauthors\u001b[0m\u001b[0;34m=\u001b[0m\u001b[0;34m\"kara, onur\"\u001b[0m\u001b[0;34m\u001b[0m\u001b[0;34m\u001b[0m\u001b[0m\n\u001b[1;32m      2\u001b[0m \u001b[0mp\u001b[0m\u001b[0;34m.\u001b[0m\u001b[0maffiliations\u001b[0m\u001b[0;34m=\u001b[0m\u001b[0;34m\"Hindsight Technology Solutions\"\u001b[0m\u001b[0;34m\u001b[0m\u001b[0;34m\u001b[0m\u001b[0m\n\u001b[0;32m----> 3\u001b[0;31m \u001b[0mp\u001b[0m\u001b[0;34m.\u001b[0m\u001b[0mserpapi_author_profile\u001b[0m\u001b[0;34m(\u001b[0m\u001b[0;34m)\u001b[0m\u001b[0;34m\u001b[0m\u001b[0;34m\u001b[0m\u001b[0m\n\u001b[0m",
      "\u001b[0;32m/var/folders/sd/1vc_q83x5rn9jjrd0x47_cc00000gn/T/ipykernel_16805/2932280269.py\u001b[0m in \u001b[0;36mserpapi_author_profile\u001b[0;34m(self)\u001b[0m\n\u001b[1;32m    145\u001b[0m         \u001b[0mresults\u001b[0m \u001b[0;34m=\u001b[0m \u001b[0msearch\u001b[0m\u001b[0;34m.\u001b[0m\u001b[0mget_dict\u001b[0m\u001b[0;34m(\u001b[0m\u001b[0;34m)\u001b[0m\u001b[0;34m\u001b[0m\u001b[0;34m\u001b[0m\u001b[0m\n\u001b[1;32m    146\u001b[0m         \u001b[0moutputs\u001b[0m \u001b[0;34m=\u001b[0m \u001b[0;34m{\u001b[0m\u001b[0;34m}\u001b[0m\u001b[0;34m\u001b[0m\u001b[0;34m\u001b[0m\u001b[0m\n\u001b[0;32m--> 147\u001b[0;31m         \u001b[0mauthor_profiles\u001b[0m\u001b[0;34m=\u001b[0m\u001b[0mresults\u001b[0m\u001b[0;34m[\u001b[0m\u001b[0;34m\"profiles\"\u001b[0m\u001b[0;34m]\u001b[0m\u001b[0;34m\u001b[0m\u001b[0;34m\u001b[0m\u001b[0m\n\u001b[0m\u001b[1;32m    148\u001b[0m         \u001b[0;32mfor\u001b[0m \u001b[0mresult\u001b[0m \u001b[0;32min\u001b[0m \u001b[0mauthor_profiles\u001b[0m\u001b[0;34m:\u001b[0m\u001b[0;34m\u001b[0m\u001b[0;34m\u001b[0m\u001b[0m\n\u001b[1;32m    149\u001b[0m             \u001b[0;32mtry\u001b[0m\u001b[0;34m:\u001b[0m\u001b[0;34m\u001b[0m\u001b[0;34m\u001b[0m\u001b[0m\n",
      "\u001b[0;31mKeyError\u001b[0m: 'profiles'"
     ]
    }
   ],
   "source": [
    "p.mauthors=\"kara, onur\"\n",
    "p.affiliations=\"Hindsight Technology Solutions\"\n",
    "p.serpapi_author_profile()"
   ]
  },
  {
   "cell_type": "code",
   "execution_count": 6,
   "id": "91724552",
   "metadata": {},
   "outputs": [
    {
     "name": "stdout",
     "output_type": "stream",
     "text": [
      "https://serpapi.com/search\n"
     ]
    }
   ],
   "source": [
    "p.query=\"Sehanobish Corzo Kara\"\n",
    "all_info = p.serpapi_scrape_organic_results()"
   ]
  },
  {
   "cell_type": "code",
   "execution_count": 7,
   "id": "05bce9bf",
   "metadata": {},
   "outputs": [
    {
     "data": {
      "text/plain": [
       "{'Learning potentials of quantum systems using deep neural networks': {'title': 'Learning potentials of quantum systems using deep neural networks',\n",
       "  'publication_info': 'A Sehanobish, HH Corzo, O Kara… - arXiv preprint arXiv …, 2020 - arxiv.org',\n",
       "  'snippet': 'Attempts to apply Neural Networks (NN) to a wide range of research problems have been ubiquitous and plentiful in recent literature. Particularly, the use of deep NNs for understanding …',\n",
       "  'cited_by': 'https://scholar.google.com/scholar?cites=11804469877329258063&as_sdt=8000005&sciodt=0,19&hl=en',\n",
       "  'related_versions': 'https://scholar.google.com/scholar?q=related:T2YCiM_m0aMJ:scholar.google.com/&scioq=Sehanobish+Corzo+Kara&hl=en&as_sdt=0,19'},\n",
       " 'Fine-tuning Vision Transformers for the Prediction of State Variables in Ising Models': {'title': 'Fine-tuning Vision Transformers for the Prediction of State Variables in Ising Models',\n",
       "  'publication_info': 'O Kara, A Sehanobish, HH Corzo - arXiv preprint arXiv:2109.13925, 2021 - arxiv.org',\n",
       "  'snippet': 'Transformers are state-of-the-art deep learning models that are composed of stacked attention and point-wise, fully connected layers designed for handling sequential data. …',\n",
       "  'cited_by': 'https://scholar.google.com/scholar?cites=14144613611479670813&as_sdt=8000005&sciodt=0,19&hl=en',\n",
       "  'related_versions': 'https://scholar.google.com/scholar?q=related:HaBmZSPDS8QJ:scholar.google.com/&scioq=Sehanobish+Corzo+Kara&hl=en&as_sdt=0,19'},\n",
       " 'Application of the Quantum Potential Neural Network to multi-electronic atoms': {'title': 'Application of the Quantum Potential Neural Network to multi-electronic atoms',\n",
       "  'publication_info': 'HH Corzo, A Sehanobish, O Kara - arXiv preprint arXiv:2106.08138, 2021 - arxiv.org',\n",
       "  'snippet': 'In this report, the application of the Quantum Potential Neural Network (QPNN) framework to many electron atomic systems is presented. For this study, full configuration interaction (FCI) …',\n",
       "  'cited_by': 'NA',\n",
       "  'related_versions': 'https://scholar.google.com/scholar?q=related:BbCbqVJC0rQJ:scholar.google.com/&scioq=Sehanobish+Corzo+Kara&hl=en&as_sdt=0,19'},\n",
       " 'Learning Full Configuration Interaction Electron Correlations with Deep Learning': {'title': 'Learning Full Configuration Interaction Electron Correlations with Deep Learning',\n",
       "  'publication_info': 'HH Corzo, A Sehanobish, O Kara - ml4physicalsciences.github.io',\n",
       "  'snippet': 'In this report, we present a deep learning framework termed the Electron Correlation Potential Neural Network (eCPNN) that can learn succinct and compact potential functions. These …',\n",
       "  'cited_by': 'NA',\n",
       "  'related_versions': 'https://scholar.google.com/scholar?q=related:mh2XCm7p1YYJ:scholar.google.com/&scioq=Sehanobish+Corzo+Kara&hl=en&as_sdt=0,19'},\n",
       " 'Deep Learning Quantum States for Hamiltonian Estimation': {'title': 'Deep Learning Quantum States for Hamiltonian Estimation',\n",
       "  'publication_info': 'X Ma, ZC Tu, SJ Ran - Chinese Physics Letters, 2021 - iopscience.iop.org',\n",
       "  'snippet': 'Human experts cannot efficiently access physical information of a quantum many-body states by simply\" reading\" its coefficients, but have to reply on the previous knowledge such as …',\n",
       "  'cited_by': 'https://scholar.google.com/scholar?cites=13935163193403524492&as_sdt=8000005&sciodt=0,19&hl=en',\n",
       "  'related_versions': 'https://scholar.google.com/scholar?q=related:jEXqvRelY8EJ:scholar.google.com/&scioq=Sehanobish+Corzo+Kara&hl=en&as_sdt=0,19'},\n",
       " 'Predicting quantum potentials by deep neural network and metropolis sampling': {'title': 'Predicting quantum potentials by deep neural network and metropolis sampling',\n",
       "  'publication_info': 'R Hong, PF Zhou, B Xi, J Hu, AC Ji, SJ Ran - SciPost Physics Core, 2021 - scipost.org',\n",
       "  'snippet': 'The hybridizations of machine learning and quantum physics have caused essential impacts to the methodology in both fields. Inspired by quantum potential neural network, we here …',\n",
       "  'cited_by': 'https://scholar.google.com/scholar?cites=267322141856673560&as_sdt=8000005&sciodt=0,19&hl=en',\n",
       "  'related_versions': 'https://scholar.google.com/scholar?q=related:GK_2WRK4tQMJ:scholar.google.com/&scioq=Sehanobish+Corzo+Kara&hl=en&as_sdt=0,19'},\n",
       " 'Emojich--zero-shot emoji generation using Russian language: a technical report': {'title': 'Emojich--zero-shot emoji generation using Russian language: a technical report',\n",
       "  'publication_info': 'A Shonenkov, D Bakshandaeva, D Dimitrov… - arXiv preprint arXiv …, 2021 - arxiv.org',\n",
       "  'snippet': 'This technical report presents a text-to-image neural network \"Emojich\" that generates emojis using captions in Russian language as a condition. We aim to keep the generalization …',\n",
       "  'cited_by': 'NA',\n",
       "  'related_versions': 'https://scholar.google.com/scholar?q=related:2l6atLb7x-oJ:scholar.google.com/&scioq=Sehanobish+Corzo+Kara&hl=en&as_sdt=0,19'},\n",
       " 'Deep learning Local Reduced Density Matrices for Many-body Hamiltonian Estimation': {'title': 'Deep learning Local Reduced Density Matrices for Many-body Hamiltonian Estimation',\n",
       "  'publication_info': 'X Ma, ZC Tu, SJ Ran - arXiv preprint arXiv:2012.03019, 2020 - arxiv.org',\n",
       "  'snippet': '… Sehanobish et al proposed the quantum potential neural networks to reconstruct the … Kara, and D. van Dijk, Learning potentials of quantum systems using deep neural networks, arXiv …',\n",
       "  'cited_by': 'NA',\n",
       "  'related_versions': 'https://scholar.google.com/scholar?q=related:LpzVvKoMAf8J:scholar.google.com/&scioq=Sehanobish+Corzo+Kara&hl=en&as_sdt=0,19'},\n",
       " 'Neural Network Approach to Construction of Classical Integrable Systems': {'title': 'Neural Network Approach to Construction of Classical Integrable Systems',\n",
       "  'publication_info': 'F Ishikawa, H Suwa, S Todo - Journal of the Physical Society of …, 2021 - journals.jps.jp',\n",
       "  'snippet': 'Integrable systems have provided various insights into physical phenomena and mathematics. The way of constructing many-body integrable systems is limited to few ansatzes for the …',\n",
       "  'cited_by': 'NA',\n",
       "  'related_versions': 'https://scholar.google.com/scholar?q=related:1dYi3dooLkwJ:scholar.google.com/&scioq=Sehanobish+Corzo+Kara&hl=en&as_sdt=0,19'},\n",
       " 'Functional tensor network solving many-body Schrödinger equation': {'title': 'Functional tensor network solving many-body Schrödinger equation',\n",
       "  'publication_info': 'R Hong, YX Xiao, J Hu, AC Ji, SJ Ran - Physical Review B, 2022 - APS',\n",
       "  'snippet': 'Solving the many-body Schrödinger equation in continuous spaces with the presence of strong correlations is an extremely important and challenging issue in quantum physics. In this …',\n",
       "  'cited_by': 'NA',\n",
       "  'related_versions': 'NA'}}"
      ]
     },
     "execution_count": 7,
     "metadata": {},
     "output_type": "execute_result"
    }
   ],
   "source": [
    "all_info\n"
   ]
  },
  {
   "cell_type": "code",
   "execution_count": 8,
   "id": "056f7632",
   "metadata": {},
   "outputs": [],
   "source": [
    "p.query_list = [\"Sehanobish Corzo Kara\", \"Learning potentials of quantum systems using deep neural networks\", \"2006.13297\"]"
   ]
  },
  {
   "cell_type": "code",
   "execution_count": 9,
   "id": "9bd2a177",
   "metadata": {},
   "outputs": [
    {
     "data": {
      "text/plain": [
       "['Sehanobish Corzo Kara',\n",
       " 'Learning potentials of quantum systems using deep neural networks',\n",
       " '2006.13297']"
      ]
     },
     "execution_count": 9,
     "metadata": {},
     "output_type": "execute_result"
    }
   ],
   "source": [
    "p.query_list"
   ]
  },
  {
   "cell_type": "code",
   "execution_count": 10,
   "id": "f675df9b",
   "metadata": {},
   "outputs": [],
   "source": [
    "p.save_to_csv = True"
   ]
  },
  {
   "cell_type": "code",
   "execution_count": 11,
   "id": "5af9d924",
   "metadata": {},
   "outputs": [
    {
     "name": "stdout",
     "output_type": "stream",
     "text": [
      "[<h3 class=\"gs_rt\" ontouchstart=\"gs_evt_dsp(event)\"><a data-clk=\"hl=en&amp;sa=T&amp;ct=res&amp;cd=0&amp;d=11804469877329258063&amp;ei=dCB0YrHbH5r4yASUx6PIAg\" data-clk-atid=\"T2YCiM_m0aMJ\" href=\"https://arxiv.org/abs/2006.13297\" id=\"T2YCiM_m0aMJ\">Learning potentials of quantum systems using deep neural networks</a></h3>, <h3 class=\"gs_rt\" ontouchstart=\"gs_evt_dsp(event)\"><a data-clk=\"hl=en&amp;sa=T&amp;ct=res&amp;cd=1&amp;d=14144613611479670813&amp;ei=dCB0YrHbH5r4yASUx6PIAg\" data-clk-atid=\"HaBmZSPDS8QJ\" href=\"https://arxiv.org/abs/2109.13925\" id=\"HaBmZSPDS8QJ\">Fine-tuning Vision Transformers for the Prediction of State Variables in Ising Models</a></h3>, <h3 class=\"gs_rt\" ontouchstart=\"gs_evt_dsp(event)\"><a data-clk=\"hl=en&amp;sa=T&amp;ct=res&amp;cd=2&amp;d=13029549594736570373&amp;ei=dCB0YrHbH5r4yASUx6PIAg\" data-clk-atid=\"BbCbqVJC0rQJ\" href=\"https://arxiv.org/abs/2106.08138\" id=\"BbCbqVJC0rQJ\">Application of the Quantum Potential Neural Network to multi-electronic atoms</a></h3>, <h3 class=\"gs_rt\" ontouchstart=\"gs_evt_dsp(event)\"><span class=\"gs_ctc\"><span class=\"gs_ct1\">[PDF]</span><span class=\"gs_ct2\">[PDF]</span></span> <a data-clk=\"hl=en&amp;sa=T&amp;oi=ggp&amp;ct=res&amp;cd=3&amp;d=9715928429955063194&amp;ei=dCB0YrHbH5r4yASUx6PIAg\" data-clk-atid=\"mh2XCm7p1YYJ\" href=\"https://ml4physicalsciences.github.io/2021/files/NeurIPS_ML4PS_2021_38.pdf\" id=\"mh2XCm7p1YYJ\">Learning Full Configuration Interaction Electron Correlations with Deep Learning</a></h3>, <h3 class=\"gs_rt\" ontouchstart=\"gs_evt_dsp(event)\"><a data-clk=\"hl=en&amp;sa=T&amp;ct=res&amp;cd=4&amp;d=13935163193403524492&amp;ei=dCB0YrHbH5r4yASUx6PIAg\" data-clk-atid=\"jEXqvRelY8EJ\" href=\"https://iopscience.iop.org/article/10.1088/0256-307X/38/11/110301/meta\" id=\"jEXqvRelY8EJ\">Deep Learning Quantum States for Hamiltonian Estimation</a></h3>, <h3 class=\"gs_rt\" ontouchstart=\"gs_evt_dsp(event)\"><a data-clk=\"hl=en&amp;sa=T&amp;ct=res&amp;cd=5&amp;d=267322141856673560&amp;ei=dCB0YrHbH5r4yASUx6PIAg\" data-clk-atid=\"GK_2WRK4tQMJ\" href=\"https://www.scipost.org/SciPostPhysCore.4.3.022\" id=\"GK_2WRK4tQMJ\">Predicting quantum potentials by deep neural network and metropolis sampling</a></h3>, <h3 class=\"gs_rt\" ontouchstart=\"gs_evt_dsp(event)\"><a data-clk=\"hl=en&amp;sa=T&amp;ct=res&amp;cd=6&amp;d=16917767287373192922&amp;ei=dCB0YrHbH5r4yASUx6PIAg\" data-clk-atid=\"2l6atLb7x-oJ\" href=\"https://arxiv.org/abs/2112.02448\" id=\"2l6atLb7x-oJ\">Emojich--zero-shot emoji generation using Russian language: a technical report</a></h3>, <h3 class=\"gs_rt\" ontouchstart=\"gs_evt_dsp(event)\"><a data-clk=\"hl=en&amp;sa=T&amp;ct=res&amp;cd=7&amp;d=18374981882100423726&amp;ei=dCB0YrHbH5r4yASUx6PIAg\" data-clk-atid=\"LpzVvKoMAf8J\" href=\"https://arxiv.org/abs/2012.03019\" id=\"LpzVvKoMAf8J\">Deep learning Local Reduced Density Matrices for Many-body Hamiltonian Estimation</a></h3>, <h3 class=\"gs_rt\" ontouchstart=\"gs_evt_dsp(event)\"><a data-clk=\"hl=en&amp;sa=T&amp;ct=res&amp;cd=8&amp;d=5489369916289242837&amp;ei=dCB0YrHbH5r4yASUx6PIAg\" data-clk-atid=\"1dYi3dooLkwJ\" href=\"https://journals.jps.jp/doi/abs/10.7566/JPSJ.90.093001\" id=\"1dYi3dooLkwJ\">Neural Network Approach to Construction of Classical Integrable Systems</a></h3>, <h3 class=\"gs_rt\" ontouchstart=\"gs_evt_dsp(event)\"><a data-clk=\"hl=en&amp;sa=T&amp;ct=res&amp;cd=9&amp;d=5983356153606152590&amp;ei=dCB0YrHbH5r4yASUx6PIAg\" data-clk-atid=\"jqFXdLgmCVMJ\" href=\"https://journals.aps.org/prb/abstract/10.1103/PhysRevB.105.165116\" id=\"jqFXdLgmCVMJ\">Functional tensor network solving many-body Schrödinger equation</a></h3>]\n",
      "https://arxiv.org/abs/2006.13297\n",
      "https://arxiv.org/abs/2109.13925\n",
      "https://arxiv.org/abs/2106.08138\n",
      "https://ml4physicalsciences.github.io/2021/files/NeurIPS_ML4PS_2021_38.pdf\n",
      "https://iopscience.iop.org/article/10.1088/0256-307X/38/11/110301/meta\n",
      "https://www.scipost.org/SciPostPhysCore.4.3.022\n",
      "https://arxiv.org/abs/2112.02448\n",
      "https://arxiv.org/abs/2012.03019\n",
      "https://journals.jps.jp/doi/abs/10.7566/JPSJ.90.093001\n",
      "https://journals.aps.org/prb/abstract/10.1103/PhysRevB.105.165116\n",
      "[<h3 class=\"gs_rt\" ontouchstart=\"gs_evt_dsp(event)\"><a data-clk=\"hl=en&amp;sa=T&amp;ct=res&amp;cd=10&amp;d=12835409865394057264&amp;ei=dCB0YpKeK7KQ6rQPgd-J8Aw\" data-clk-atid=\"MHBbhUSJILIJ\" href=\"https://arxiv.org/abs/2203.15243\" id=\"MHBbhUSJILIJ\">Fine-tuning Image Transformers using Learnable Memory</a></h3>, <h3 class=\"gs_rt\" ontouchstart=\"gs_evt_dsp(event)\"><a data-clk=\"hl=en&amp;sa=T&amp;ct=res&amp;cd=11&amp;d=3736530080689324734&amp;ei=dCB0YpKeK7KQ6rQPgd-J8Aw\" data-clk-atid=\"voIMuE_S2jMJ\" href=\"https://arxiv.org/abs/2201.06676\" id=\"voIMuE_S2jMJ\">Observing how deep neural networks understand physics through the energy spectrum of one-dimensional quantum mechanics</a></h3>, <h3 class=\"gs_rt\" ontouchstart=\"gs_evt_dsp(event)\"><a data-clk=\"hl=en&amp;sa=T&amp;ct=res&amp;cd=12&amp;d=3723952965543221189&amp;ei=dCB0YpKeK7KQ6rQPgd-J8Aw\" data-clk-atid=\"xVd3530jrjMJ\" href=\"https://www.sciencedirect.com/science/article/pii/S1007570421003014\" id=\"xVd3530jrjMJ\">Deep learning methods for the computation of vibrational wavefunctions</a></h3>]\n",
      "https://arxiv.org/abs/2203.15243\n",
      "https://arxiv.org/abs/2201.06676\n",
      "https://www.sciencedirect.com/science/article/pii/S1007570421003014\n",
      "[]\n",
      "[<h3 class=\"gs_rt\" ontouchstart=\"gs_evt_dsp(event)\"><a data-clk=\"hl=en&amp;sa=T&amp;ct=res&amp;cd=0&amp;d=11804469877329258063&amp;ei=dSB0YsDnBYuM6rQPydmX4Ak\" data-clk-atid=\"T2YCiM_m0aMJ\" href=\"https://arxiv.org/abs/2006.13297\" id=\"T2YCiM_m0aMJ\">Learning potentials of quantum systems using deep neural networks</a></h3>]\n",
      "https://arxiv.org/abs/2006.13297\n",
      "[]\n",
      "[]\n",
      "[<h3 class=\"gs_rt\" ontouchstart=\"gs_evt_dsp(event)\"><a data-clk=\"hl=en&amp;sa=T&amp;ct=res&amp;cd=0&amp;d=11804469877329258063&amp;ei=dSB0YpyJKbKQ6rQPgd-J8Aw\" data-clk-atid=\"T2YCiM_m0aMJ\" href=\"https://arxiv.org/abs/2006.13297\" id=\"T2YCiM_m0aMJ\">Learning potentials of quantum systems using deep neural networks</a></h3>, <h3 class=\"gs_rt\" ontouchstart=\"gs_evt_dsp(event)\"><a data-clk=\"hl=en&amp;sa=T&amp;ct=res&amp;cd=1&amp;d=9996881621705932605&amp;ei=dSB0YpyJKbKQ6rQPgd-J8Aw\" data-clk-atid=\"Pb9pg94OvIoJ\" href=\"https://arxiv.org/abs/2102.08471\" id=\"Pb9pg94OvIoJ\">Deep Neural Network Based Differential Equation Solver for HIV Enzyme Kinetics</a></h3>, <h3 class=\"gs_rt\" ontouchstart=\"gs_evt_dsp(event)\"><a data-clk=\"hl=en&amp;sa=T&amp;ct=res&amp;cd=2&amp;d=13935163193403524492&amp;ei=dSB0YpyJKbKQ6rQPgd-J8Aw\" data-clk-atid=\"jEXqvRelY8EJ\" href=\"https://iopscience.iop.org/article/10.1088/0256-307X/38/11/110301/meta\" id=\"jEXqvRelY8EJ\">Deep Learning Quantum States for Hamiltonian Estimation</a></h3>, <h3 class=\"gs_rt\" ontouchstart=\"gs_evt_dsp(event)\"><a data-clk=\"hl=en&amp;sa=T&amp;ct=res&amp;cd=3&amp;d=267322141856673560&amp;ei=dSB0YpyJKbKQ6rQPgd-J8Aw\" data-clk-atid=\"GK_2WRK4tQMJ\" href=\"https://www.scipost.org/SciPostPhysCore.4.3.022\" id=\"GK_2WRK4tQMJ\">Predicting quantum potentials by deep neural network and metropolis sampling</a></h3>, <h3 class=\"gs_rt\" ontouchstart=\"gs_evt_dsp(event)\"><a data-clk=\"hl=en&amp;sa=T&amp;ct=res&amp;cd=4&amp;d=5489369916289242837&amp;ei=dSB0YpyJKbKQ6rQPgd-J8Aw\" data-clk-atid=\"1dYi3dooLkwJ\" href=\"https://journals.jps.jp/doi/abs/10.7566/JPSJ.90.093001\" id=\"1dYi3dooLkwJ\">Neural Network Approach to Construction of Classical Integrable Systems</a></h3>, <h3 class=\"gs_rt\" ontouchstart=\"gs_evt_dsp(event)\"><a data-clk=\"hl=en&amp;sa=T&amp;ct=res&amp;cd=5&amp;d=18374981882100423726&amp;ei=dSB0YpyJKbKQ6rQPgd-J8Aw\" data-clk-atid=\"LpzVvKoMAf8J\" href=\"https://arxiv.org/abs/2012.03019\" id=\"LpzVvKoMAf8J\">Deep learning Local Reduced Density Matrices for Many-body Hamiltonian Estimation</a></h3>, <h3 class=\"gs_rt\" ontouchstart=\"gs_evt_dsp(event)\"><a data-clk=\"hl=en&amp;sa=T&amp;ct=res&amp;cd=6&amp;d=3736530080689324734&amp;ei=dSB0YpyJKbKQ6rQPgd-J8Aw\" data-clk-atid=\"voIMuE_S2jMJ\" href=\"https://arxiv.org/abs/2201.06676\" id=\"voIMuE_S2jMJ\">Observing how deep neural networks understand physics through the energy spectrum of one-dimensional quantum mechanics</a></h3>, <h3 class=\"gs_rt\" ontouchstart=\"gs_evt_dsp(event)\"><a data-clk=\"hl=en&amp;sa=T&amp;ct=res&amp;cd=7&amp;d=3723952965543221189&amp;ei=dSB0YpyJKbKQ6rQPgd-J8Aw\" data-clk-atid=\"xVd3530jrjMJ\" href=\"https://www.sciencedirect.com/science/article/pii/S1007570421003014\" id=\"xVd3530jrjMJ\">Deep learning methods for the computation of vibrational wavefunctions</a></h3>]\n",
      "https://arxiv.org/abs/2006.13297\n",
      "https://arxiv.org/abs/2102.08471\n",
      "https://iopscience.iop.org/article/10.1088/0256-307X/38/11/110301/meta\n",
      "https://www.scipost.org/SciPostPhysCore.4.3.022\n",
      "https://journals.jps.jp/doi/abs/10.7566/JPSJ.90.093001\n",
      "https://arxiv.org/abs/2012.03019\n",
      "https://arxiv.org/abs/2201.06676\n",
      "https://www.sciencedirect.com/science/article/pii/S1007570421003014\n"
     ]
    },
    {
     "name": "stdout",
     "output_type": "stream",
     "text": [
      "[]\n",
      "[]\n"
     ]
    }
   ],
   "source": [
    "p.scholar_search()"
   ]
  },
  {
   "cell_type": "code",
   "execution_count": 12,
   "id": "4fff92af",
   "metadata": {},
   "outputs": [],
   "source": [
    "p.return_output_object= True"
   ]
  },
  {
   "cell_type": "code",
   "execution_count": 14,
   "id": "d23ed32e",
   "metadata": {},
   "outputs": [],
   "source": [
    "results = p.scholar_search()"
   ]
  },
  {
   "cell_type": "code",
   "execution_count": null,
   "id": "c205ff58",
   "metadata": {},
   "outputs": [],
   "source": []
  }
 ],
 "metadata": {
  "kernelspec": {
   "display_name": "Python 3 (ipykernel)",
   "language": "python",
   "name": "python3"
  },
  "language_info": {
   "codemirror_mode": {
    "name": "ipython",
    "version": 3
   },
   "file_extension": ".py",
   "mimetype": "text/x-python",
   "name": "python",
   "nbconvert_exporter": "python",
   "pygments_lexer": "ipython3",
   "version": "3.9.10"
  }
 },
 "nbformat": 4,
 "nbformat_minor": 5
}
