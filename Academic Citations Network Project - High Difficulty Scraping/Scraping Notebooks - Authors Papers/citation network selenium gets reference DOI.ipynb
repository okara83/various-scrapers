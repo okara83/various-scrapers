{
 "cells": [
  {
   "cell_type": "code",
   "execution_count": 1,
   "metadata": {},
   "outputs": [],
   "source": [
    "from selenium import webdriver\n",
    "from selenium.webdriver.common.keys import Keys\n",
    "from bs4 import BeautifulSoup\n",
    "import re\n",
    "import pandas as pd\n",
    "import os\n",
    "import time\n",
    "import urllib\n",
    "from selenium.webdriver.chrome.options import Options"
   ]
  },
  {
   "cell_type": "code",
   "execution_count": null,
   "metadata": {},
   "outputs": [],
   "source": [
    "options = Options()\n",
    "options.add_argument('--headless')\n",
    "options.add_argument('--disable-gpu') "
   ]
  },
  {
   "cell_type": "code",
   "execution_count": 2,
   "metadata": {},
   "outputs": [],
   "source": [
    "driver = webdriver.Chrome(executable_path=\"chromedriver\")\n",
    "#driver = webdriver.Chrome(executable_path=\"chromedriver\", options=options)"
   ]
  },
  {
   "cell_type": "code",
   "execution_count": 3,
   "metadata": {},
   "outputs": [],
   "source": [
    "doi = '10.1103/PhysRevA.2.1034'"
   ]
  },
  {
   "cell_type": "code",
   "execution_count": 4,
   "metadata": {},
   "outputs": [],
   "source": [
    "articleUrl = 'https://badge.dimensions.ai/details/doi/' + doi\n",
    "driver.get(articleUrl)"
   ]
  },
  {
   "cell_type": "code",
   "execution_count": 5,
   "metadata": {},
   "outputs": [],
   "source": [
    "url = urllib.request.urlopen(articleUrl)\n",
    "urlString=driver.current_url\n",
    "pub = urlString.split(\"/\")[-1]"
   ]
  },
  {
   "cell_type": "code",
   "execution_count": 6,
   "metadata": {},
   "outputs": [],
   "source": [
    "driver.get('https://app.dimensions.ai/discover/publication?or_subset_publication_references=' + pub)"
   ]
  },
  {
   "cell_type": "code",
   "execution_count": 9,
   "metadata": {},
   "outputs": [],
   "source": [
    "SCROLL_PAUSE_TIME = 3\n",
    "\n",
    "# Get scroll height\n",
    "last_height = driver.execute_script(\"return document.body.scrollHeight\")\n",
    "\n",
    "while True:\n",
    "    # Scroll down to bottom\n",
    "    driver.execute_script(\"window.scrollTo(0, document.body.scrollHeight);\")\n",
    "    #print(last_height)\n",
    "    # Wait to load page\n",
    "    time.sleep(SCROLL_PAUSE_TIME)\n",
    "\n",
    "    # Calculate new scroll height and compare with last scroll height\n",
    "    new_height = driver.execute_script(\"return document.body.scrollHeight\")\n",
    "    #print(new_height)\n",
    "    if new_height == last_height:\n",
    "        break\n",
    "    last_height = new_height"
   ]
  },
  {
   "cell_type": "code",
   "execution_count": 11,
   "metadata": {},
   "outputs": [
    {
     "name": "stdout",
     "output_type": "stream",
     "text": [
      "31\n"
     ]
    }
   ],
   "source": [
    "#list of the reference URLs \n",
    "references = [] \n",
    "elems = driver.find_elements_by_tag_name(\"a\")\n",
    "for elem in elems:\n",
    "    href = elem.get_attribute('href')\n",
    "    if href is not None:\n",
    "        #print(href)\n",
    "        match_candidate = re.search(\"https://app\\.dimensions\\.ai/details/publication/pub\\.\\d+\\?or_subset_publication_references=pub\\.\\d+\", href, re.DOTALL)\n",
    "        if match_candidate:\n",
    "            references.append(match_candidate[0])\n",
    "references = list(set(references))\n",
    "print(len(references))"
   ]
  },
  {
   "cell_type": "code",
   "execution_count": 12,
   "metadata": {},
   "outputs": [
    {
     "name": "stdout",
     "output_type": "stream",
     "text": [
      "6.049558162689209\n",
      "6.070425987243652\n",
      "10.523780822753906\n",
      "10.543282985687256\n",
      "13.646496057510376\n",
      "13.672168970108032\n",
      "17.012167930603027\n",
      "17.033771991729736\n",
      "21.35085892677307\n",
      "21.37245011329651\n",
      "24.960864067077637\n",
      "24.985755920410156\n",
      "28.371920824050903\n",
      "28.38858914375305\n",
      "32.57386803627014\n",
      "32.65449595451355\n",
      "37.36673092842102\n",
      "37.40256214141846\n",
      "40.58045506477356\n",
      "40.6365180015564\n",
      "44.033326864242554\n",
      "44.05666899681091\n",
      "47.872833013534546\n",
      "47.929659843444824\n",
      "53.33538103103638\n",
      "53.35639405250549\n",
      "56.71526789665222\n",
      "56.737565994262695\n",
      "60.66659998893738\n",
      "60.690648794174194\n",
      "64.79342007637024\n",
      "64.86483311653137\n",
      "68.62342882156372\n",
      "68.74719905853271\n",
      "72.78596091270447\n",
      "72.80248713493347\n",
      "75.66235089302063\n",
      "75.69364190101624\n",
      "78.47646689414978\n",
      "78.5184850692749\n",
      "82.3696961402893\n",
      "82.43849182128906\n",
      "92.10550093650818\n",
      "92.12584710121155\n",
      "95.35921382904053\n",
      "95.38660192489624\n",
      "99.41765689849854\n",
      "99.45183277130127\n",
      "103.47474312782288\n",
      "103.49744892120361\n",
      "107.67261505126953\n",
      "107.71802997589111\n",
      "111.62697887420654\n",
      "111.6657190322876\n",
      "115.54021406173706\n",
      "115.57243490219116\n",
      "119.30270504951477\n",
      "119.32842898368835\n",
      "123.43442106246948\n",
      "123.46561312675476\n",
      "127.072350025177\n",
      "127.14271903038025\n",
      "31\n"
     ]
    }
   ],
   "source": [
    "#list of reference DOIs\n",
    "time_start = time.time()\n",
    "references_DOI = []\n",
    "for i in references:\n",
    "    driver.get(i)\n",
    "    #url_references = urllib.request.urlopen(references[i]);\n",
    "    #urlString=driver.current_url\n",
    "    elems = driver.find_elements_by_tag_name(\"a\")\n",
    "    for elem in elems:\n",
    "        href = elem.get_attribute('href')\n",
    "        if href is not None:\n",
    "            match_candidate = re.search(\"https://doi\\.org/.*\", href, re.DOTALL)\n",
    "            #match_candidate = re.search(\"https://doi\\.org/\\d+\\.\\d+/\\d+\\.\\d+\", href, re.DOTALL)\n",
    "            if match_candidate:\n",
    "                references_DOI.append(match_candidate[0])\n",
    "                print(time.time()-time_start)\n",
    "        \n",
    "references_DOI = list(set(references_DOI))\n",
    "#print(references_DOI)\n",
    "\n",
    "print(len(references_DOI))\n",
    "\n",
    "\n"
   ]
  },
  {
   "cell_type": "code",
   "execution_count": null,
   "metadata": {},
   "outputs": [],
   "source": [
    "time.time()"
   ]
  },
  {
   "cell_type": "code",
   "execution_count": null,
   "metadata": {},
   "outputs": [],
   "source": [
    "print(len(references_DOI))"
   ]
  },
  {
   "cell_type": "code",
   "execution_count": null,
   "metadata": {},
   "outputs": [],
   "source": [
    "l"
   ]
  }
 ],
 "metadata": {
  "kernelspec": {
   "display_name": "Python 3",
   "language": "python",
   "name": "python3"
  },
  "language_info": {
   "codemirror_mode": {
    "name": "ipython",
    "version": 3
   },
   "file_extension": ".py",
   "mimetype": "text/x-python",
   "name": "python",
   "nbconvert_exporter": "python",
   "pygments_lexer": "ipython3",
   "version": "3.8.5"
  }
 },
 "nbformat": 4,
 "nbformat_minor": 4
}
