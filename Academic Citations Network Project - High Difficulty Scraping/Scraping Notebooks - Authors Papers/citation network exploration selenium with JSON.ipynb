{
 "cells": [
  {
   "cell_type": "code",
   "execution_count": 1,
   "metadata": {},
   "outputs": [],
   "source": [
    "from selenium import webdriver\n",
    "from selenium.webdriver.common.keys import Keys\n",
    "from bs4 import BeautifulSoup\n",
    "import re\n",
    "import pandas as pd\n",
    "import os\n",
    "import time\n",
    "import urllib\n",
    "import json"
   ]
  },
  {
   "cell_type": "code",
   "execution_count": 2,
   "metadata": {},
   "outputs": [],
   "source": [
    "with open('/Users/alexissoulias/Desktop/network_science/DATA/core_author_pubs/jack_simons/publications/publications_jack_simons.json') as f:\n",
    "  data = json.load(f)\n",
    "DOI = []\n",
    "for i in data['publications']:\n",
    "    DOI.append(i['doi'])"
   ]
  },
  {
   "cell_type": "code",
   "execution_count": 3,
   "metadata": {},
   "outputs": [],
   "source": [
    "driver = webdriver.Chrome(executable_path=\"chromedriver\")"
   ]
  },
  {
   "cell_type": "code",
   "execution_count": 4,
   "metadata": {
    "scrolled": true
   },
   "outputs": [
    {
     "name": "stdout",
     "output_type": "stream",
     "text": [
      "['pub.1128224465', 'pub.1124912523', 'pub.1114527913', 'pub.1112218565', 'pub.1105766607', 'pub.1106085769', 'pub.1043543699', 'pub.1055098457', 'pub.1056098694', 'pub.1056099461', 'pub.1039767722', 'pub.1056094636', 'pub.1032650716', 'details/doi/NA', 'pub.1056090199', 'pub.1019179950', 'pub.1056086796', 'pub.1047564141', 'pub.1056075430', 'pub.1055846758', 'pub.1056116411', 'pub.1016716594', '1002/qua.22230', 'pub.1036179577', 'pub.1056112197', 'pub.1056112599', 'pub.1015301022', 'pub.1011302101', 'pub.1005649247', 'pub.1039622225', 'pub.1013483663', 'pub.1015794287', 'pub.1056068819', 'pub.1023773676', 'details/doi/NA', 'pub.1036126053', 'pub.1055149943', 'pub.1056064426', 'pub.1045665103', 'pub.1056065984', 'pub.1030216068', 'pub.1056065085', 'details/doi/NA', 'pub.1056061610', 'pub.1012683253', 'pub.1056061218', 'pub.1056062535', 'pub.1056062964', 'details/doi/NA', 'pub.1056059910', 'pub.1036905226', 'pub.1056056901', 'pub.1056057768', 'pub.1056057767', 'pub.1056057392', 'pub.1005233436', 'pub.1021579766', 'pub.1062757935', 'pub.1033975730', 'pub.1056058066', 'pub.1055838241', 'pub.1056052783', 'pub.1056059608', 'pub.1056054152', 'pub.1056054764', 'pub.1055832410', 'pub.1056053970', 'pub.1056054002', 'pub.1056050227', 'pub.1057722549', 'pub.1056017477', 'pub.1003420737', 'pub.1015134162', 'pub.1055826598', 'pub.1019903362', 'pub.1056049578', 'pub.1056049283', 'pub.1019230895', 'pub.1056048011', 'pub.1057708869', 'pub.1057704794', 'pub.1057704732', 'pub.1055771969', 'pub.1055771970', 'pub.1057703949', 'pub.1057698669', 'pub.1038284162', 'pub.1055713042', 'pub.1056043051', 'pub.1055710670', 'pub.1055872892', 'pub.1019295877', 'pub.1055701061', 'pub.1056132205', 'pub.1055872841', 'pub.1037739977', 'pub.1058074754', 'pub.1056131011', 'pub.1055872471', 'pub.1056129325', 'pub.1056130567', 'pub.1056129963', 'pub.1058067551', 'pub.1056128950', 'pub.1056129165', 'pub.1037164501', 'pub.1058067382', 'pub.1058067346', 'pub.1055869852', 'pub.1056127578', 'pub.1056126966', 'pub.1058061837', 'pub.1039206432', 'pub.1058275847', 'details/doi/NA', 'details/doi/NA', 'pub.1055866473', 'pub.1056123092', 'pub.1056123246', 'pub.1056122334', 'pub.1058052956', 'pub.1014017665', 'pub.1055152143', 'pub.1060491779', 'pub.1022583142', 'pub.1056121138', 'pub.1055863560', 'pub.1055650508', 'pub.1011772231', 'details/doi/NA', 'pub.1042820271', 'pub.1058045888', 'pub.1055652495', 'pub.1055706851', 'pub.1058045413', 'pub.1055652252', '.1063/1.467141', 'pub.1055651164', 'pub.1034857362', 'pub.1058043608', 'pub.1051936615', 'pub.1058043904', 'pub.1058044134', 'pub.1058043231', 'pub.1028509394', 'pub.1058044251', 'pub.1055654047', 'pub.1055654000', 'pub.1058042499', 'pub.1058042754', 'pub.1058042986', 'pub.1055653305', 'pub.1055653293', 'pub.1058042142', 'pub.1032705810', 'pub.1055702487', 'pub.1058041416', 'pub.1058041676', 'pub.1055658804', 'pub.1037514598', 'pub.1024089434', 'pub.1058041939', 'pub.1058041036', 'pub.1035592290', 'pub.1055460322', 'pub.1058040339', 'pub.1058040605', 'pub.1025493070', 'details/doi/NA', 'pub.1039806141', 'pub.1058040000', 'pub.1055657306', 'pub.1055657122', 'pub.1026021968', 'pub.1054043699', 'pub.1055655467', 'pub.1055459447', 'pub.1058036784', 'pub.1058036904', 'details/doi/NA', 'pub.1050022716', 'pub.1058035642', 'pub.1055666278', 'pub.1058033836', 'pub.1055665526', 'pub.1055665423', 'pub.1055665197', 'details/doi/NA', 'details/doi/NA', 'pub.1055664595', 'pub.1044411194', 'pub.1055663884', 'pub.1017158415', 'details/doi/NA', 'pub.1058030361', 'pub.1053903806', 'pub.1055663221', 'pub.1058029561', 'details/doi/NA', 'pub.1058028211', 'pub.1043146506', 'pub.1055662247', 'details/doi/NA', 'pub.1058027173', 'pub.1058027119', 'pub.1058026882', 'pub.1058026733', 'pub.1055661053', 'pub.1055661075', 'details/doi/NA', 'pub.1021706199', 'pub.1026660885', 'pub.1058024495', 'pub.1055696847', 'pub.1055723441', 'pub.1001893173', 'pub.1024510009', 'pub.1058023811', 'pub.1013275447', 'pub.1039362535', 'details/doi/NA', 'pub.1058021692', 'pub.1055668907', 'pub.1055659618', 'pub.1000302141', 'pub.1046067944', 'pub.1052403663', 'pub.1058020298', 'pub.1055695635', 'pub.1055729342', 'pub.1055729781', 'pub.1048634556', 'pub.1037529017', 'details/doi/NA', 'details/doi/NA', 'details/doi/NA', 'details/doi/NA', 'pub.1058018781', 'pub.1058018346', 'pub.1058018484', 'pub.1058016896', 'pub.1058017425', 'pub.1060468426', 'pub.1053486769', 'pub.1058016176', 'pub.1058015419', 'pub.1055738603', 'pub.1013281084', 'pub.1017587544', 'details/doi/NA', 'pub.1058014784', 'pub.1058014749', 'pub.1058014579', 'pub.1058013805', 'pub.1058013968', 'pub.1055736785', 'pub.1053389267', 'pub.1032703252', 'pub.1045319759', 'pub.1000796299', 'pub.1058012930', 'details/doi/NA', 'pub.1058012094', 'pub.1058012311', 'pub.1058947322', 'pub.1051161739', 'pub.1022715399', 'pub.1058011254', 'pub.1058010442', 'pub.1058010116', 'pub.1058010118', 'pub.1058010091', 'pub.1055672609', 'pub.1058009751', 'pub.1058009364', 'pub.1058008540', 'pub.1058008491', 'pub.1028527578', 'pub.1052149790', 'pub.1033069397', 'details/doi/NA', 'pub.1057758365', 'pub.1018247302', 'details/doi/NA', 'details/doi/NA', 'pub.1057756440', 'pub.1057755159', 'details/doi/NA', 'pub.1046351220', 'pub.1032313657', 'pub.1026117347', 'pub.1057754930', 'pub.1014942007', 'pub.1057752383', 'pub.1060467737', 'pub.1057748183']\n"
     ]
    }
   ],
   "source": [
    "pubNumbers = []\n",
    "urlStrings = []\n",
    "for i in DOI:\n",
    "    doi = i\n",
    "    articleUrl = 'https://badge.dimensions.ai/details/doi/' + doi\n",
    "    driver.get(articleUrl)\n",
    "    url = urllib.request.urlopen(articleUrl)\n",
    "    time.sleep(2)\n",
    "    urlString=driver.current_url\n",
    "    #urlStrings.append(urlString)\n",
    "    pubNumbers.append(urlString[-14:])\n",
    "print(pubNumbers)"
   ]
  },
  {
   "cell_type": "code",
   "execution_count": 1,
   "metadata": {},
   "outputs": [
    {
     "ename": "NameError",
     "evalue": "name 'pubNumbers' is not defined",
     "output_type": "error",
     "traceback": [
      "\u001b[0;31m---------------------------------------------------------------------------\u001b[0m",
      "\u001b[0;31mNameError\u001b[0m                                 Traceback (most recent call last)",
      "\u001b[0;32m<ipython-input-1-dc0f1d40f26d>\u001b[0m in \u001b[0;36m<module>\u001b[0;34m\u001b[0m\n\u001b[0;32m----> 1\u001b[0;31m \u001b[0mprint\u001b[0m\u001b[0;34m(\u001b[0m\u001b[0mlen\u001b[0m\u001b[0;34m(\u001b[0m\u001b[0mpubNumbers\u001b[0m\u001b[0;34m)\u001b[0m\u001b[0;34m)\u001b[0m\u001b[0;34m\u001b[0m\u001b[0;34m\u001b[0m\u001b[0m\n\u001b[0m",
      "\u001b[0;31mNameError\u001b[0m: name 'pubNumbers' is not defined"
     ]
    }
   ],
   "source": [
    "print(len(pubNumbers))"
   ]
  },
  {
   "cell_type": "code",
   "execution_count": null,
   "metadata": {},
   "outputs": [],
   "source": [
    "articleUrl = 'https://badge.dimensions.ai/details/doi/10.1021/acs.jpca.0c03432'"
   ]
  },
  {
   "cell_type": "code",
   "execution_count": null,
   "metadata": {},
   "outputs": [],
   "source": []
  },
  {
   "cell_type": "code",
   "execution_count": null,
   "metadata": {},
   "outputs": [],
   "source": [
    "driver.get(articleUrl)"
   ]
  },
  {
   "cell_type": "code",
   "execution_count": null,
   "metadata": {},
   "outputs": [],
   "source": [
    "driver.current_url"
   ]
  },
  {
   "cell_type": "code",
   "execution_count": null,
   "metadata": {},
   "outputs": [],
   "source": [
    "url = urllib.request.urlopen(articleUrl)"
   ]
  },
  {
   "cell_type": "code",
   "execution_count": null,
   "metadata": {},
   "outputs": [],
   "source": [
    "urlString=driver.current_url\n",
    "#print(urlString)"
   ]
  },
  {
   "cell_type": "code",
   "execution_count": null,
   "metadata": {},
   "outputs": [],
   "source": [
    "pub = urlString[-14:]\n",
    "#print(pub)"
   ]
  },
  {
   "cell_type": "code",
   "execution_count": 6,
   "metadata": {},
   "outputs": [],
   "source": [
    "driver.get('https://app.dimensions.ai/discover/publication?or_subset_publication_references=' + pubNumbers[10])\n",
    "#print(pubNumbers[1])"
   ]
  },
  {
   "cell_type": "code",
   "execution_count": null,
   "metadata": {},
   "outputs": [],
   "source": [
    "driver.get('https://app.dimensions.ai/discover/publication?or_subset_publication_references=' + pub)"
   ]
  },
  {
   "cell_type": "code",
   "execution_count": null,
   "metadata": {},
   "outputs": [],
   "source": [
    "driver.get('https://app.dimensions.ai/discover/publication?or_subset_publication_citations=' + pub)"
   ]
  },
  {
   "cell_type": "code",
   "execution_count": null,
   "metadata": {},
   "outputs": [],
   "source": []
  }
 ],
 "metadata": {
  "kernelspec": {
   "display_name": "Python 3 (ipykernel)",
   "language": "python",
   "name": "python3"
  },
  "language_info": {
   "codemirror_mode": {
    "name": "ipython",
    "version": 3
   },
   "file_extension": ".py",
   "mimetype": "text/x-python",
   "name": "python",
   "nbconvert_exporter": "python",
   "pygments_lexer": "ipython3",
   "version": "3.8.5"
  }
 },
 "nbformat": 4,
 "nbformat_minor": 4
}
