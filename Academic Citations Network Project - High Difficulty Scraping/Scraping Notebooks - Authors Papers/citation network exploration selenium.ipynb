{
 "cells": [
  {
   "cell_type": "code",
   "execution_count": 1,
   "metadata": {},
   "outputs": [],
   "source": [
    "from selenium import webdriver\n",
    "from selenium.webdriver.common.keys import Keys\n",
    "from bs4 import BeautifulSoup\n",
    "import re\n",
    "import pandas as pd\n",
    "import os\n",
    "import time\n",
    "import urllib"
   ]
  },
  {
   "cell_type": "code",
   "execution_count": 2,
   "metadata": {},
   "outputs": [],
   "source": [
    "driver = webdriver.Chrome(executable_path=\"chromedriver\")\n"
   ]
  },
  {
   "cell_type": "code",
   "execution_count": 3,
   "metadata": {},
   "outputs": [],
   "source": [
    "doi = '10.1103/PhysRevA.2.1034'"
   ]
  },
  {
   "cell_type": "code",
   "execution_count": 4,
   "metadata": {},
   "outputs": [],
   "source": [
    "articleUrl = 'https://badge.dimensions.ai/details/doi/' + doi"
   ]
  },
  {
   "cell_type": "code",
   "execution_count": 5,
   "metadata": {},
   "outputs": [],
   "source": [
    "driver.get(articleUrl)"
   ]
  },
  {
   "cell_type": "code",
   "execution_count": 6,
   "metadata": {},
   "outputs": [],
   "source": [
    "url = urllib.request.urlopen(articleUrl)"
   ]
  },
  {
   "cell_type": "code",
   "execution_count": 7,
   "metadata": {},
   "outputs": [
    {
     "name": "stdout",
     "output_type": "stream",
     "text": [
      "https://badge.dimensions.ai/details/id/pub.1060467737\n"
     ]
    }
   ],
   "source": [
    "urlString=driver.current_url\n",
    "print(urlString)"
   ]
  },
  {
   "cell_type": "code",
   "execution_count": 8,
   "metadata": {},
   "outputs": [
    {
     "name": "stdout",
     "output_type": "stream",
     "text": [
      "pub.1060467737\n"
     ]
    }
   ],
   "source": [
    "pub = urlString.split(\"/\")[-1]\n",
    "print(pub)"
   ]
  },
  {
   "cell_type": "code",
   "execution_count": 9,
   "metadata": {},
   "outputs": [],
   "source": [
    "driver.get('https://app.dimensions.ai/discover/publication?or_subset_publication_references=' + pub)"
   ]
  },
  {
   "cell_type": "code",
   "execution_count": 10,
   "metadata": {},
   "outputs": [],
   "source": [
    "SCROLL_PAUSE_TIME = 3\n",
    "\n",
    "# Get scroll height\n",
    "last_height = driver.execute_script(\"return document.body.scrollHeight\")\n",
    "\n",
    "while True:\n",
    "    # Scroll down to bottom\n",
    "    driver.execute_script(\"window.scrollTo(0, document.body.scrollHeight);\")\n",
    "    #print(last_height)\n",
    "    # Wait to load page\n",
    "    time.sleep(SCROLL_PAUSE_TIME)\n",
    "\n",
    "    # Calculate new scroll height and compare with last scroll height\n",
    "    new_height = driver.execute_script(\"return document.body.scrollHeight\")\n",
    "    #print(new_height)\n",
    "    if new_height == last_height:\n",
    "        break\n",
    "    last_height = new_height"
   ]
  },
  {
   "cell_type": "code",
   "execution_count": 11,
   "metadata": {
    "scrolled": true
   },
   "outputs": [],
   "source": [
    "#list of the reference URLs \n",
    "references = [] \n",
    "elems = driver.find_elements_by_tag_name(\"a\")\n",
    "for elem in elems:\n",
    "    href = elem.get_attribute('href')\n",
    "    if href is not None:\n",
    "        #print(href)\n",
    "        match_candidate = re.search(\"https://app\\.dimensions\\.ai/details/publication/pub\\.\\d+\\?or_subset_publication_references=pub\\.\\d+\", href, re.DOTALL)\n",
    "        if match_candidate:\n",
    "            references.append(match_candidate[0])\n",
    "            #match_candidate = match_candidate[0]\n",
    "            #references.append(match_candidate)\n",
    "            #print(references)\n",
    "            #print(match_candidate)\n",
    "            #print(type(match_candidate))\n",
    "        \n",
    "            #references = match_candidate.NextMatch\n",
    "            #print(references)\n",
    "            #print(len(match_candidate))\n",
    "references = list(set(references))\n",
    "#print(references)"
   ]
  },
  {
   "cell_type": "code",
   "execution_count": 12,
   "metadata": {},
   "outputs": [
    {
     "name": "stdout",
     "output_type": "stream",
     "text": [
      "['https://doi.org/10.1103/physrev.173.69', 'https://doi.org/10.1098/rspa.1961.0008', 'https://doi.org/10.1063/1.1725783', 'https://doi.org/10.1063/1.1703311', 'https://doi.org/10.1063/1.1841109', 'https://doi.org/10.1103/physrev.169.101', 'https://doi.org/10.1063/1.1731641', 'https://doi.org/10.1063/1.1705122', 'https://doi.org/10.1063/1.1664877', 'https://doi.org/10.1103/revmodphys.32.335', 'https://doi.org/10.1103/revmodphys.35.629', 'https://doi.org/10.1103/physrev.97.1474', 'https://doi.org/10.1063/1.1730953', 'https://doi.org/10.1103/physrev.183.129', 'https://doi.org/10.1088/0370-1328/86/2/301', 'https://doi.org/10.1103/physrev.111.1453', 'https://doi.org/10.1103/revmodphys.35.687', 'https://doi.org/10.1063/1.1664899', 'https://doi.org/10.1098/rspa.1953.0198', 'https://doi.org/10.1063/1.1664896', 'https://doi.org/10.1007/bf01461233', 'https://doi.org/10.1063/1.1732388', 'https://doi.org/10.1016/0009-2614(69)85009-8', 'https://doi.org/10.1103/revmodphys.35.690', 'https://doi.org/10.1063/1.1701504', 'https://doi.org/10.1063/1.1701553', 'https://doi.org/10.1002/qua.560020203', 'https://doi.org/10.1103/physrev.100.1579', 'https://doi.org/10.1103/physrev.172.173', 'https://doi.org/10.1103/revmodphys.35.668', 'https://doi.org/10.1063/1.1704098']\n"
     ]
    }
   ],
   "source": [
    "#list of reference DOIs\n",
    "references_DOI = []\n",
    "for i in references:\n",
    "    driver.get(i)\n",
    "    #url_references = urllib.request.urlopen(references[i]);\n",
    "    #urlString=driver.current_url\n",
    "    elems = driver.find_elements_by_tag_name(\"a\")\n",
    "    for elem in elems:\n",
    "        href = elem.get_attribute('href')\n",
    "        if href is not None:\n",
    "            match_candidate = re.search(\"https://doi\\.org/.*\", href, re.DOTALL)\n",
    "            #match_candidate = re.search(\"https://doi\\.org/\\d+\\.\\d+/\\d+\\.\\d+\", href, re.DOTALL)\n",
    "            if match_candidate:\n",
    "                references_DOI.append(match_candidate[0])\n",
    "references_DOI = list(set(references_DOI))\n",
    "print(references_DOI)"
   ]
  },
  {
   "cell_type": "code",
   "execution_count": 13,
   "metadata": {},
   "outputs": [
    {
     "name": "stdout",
     "output_type": "stream",
     "text": [
      "31\n"
     ]
    }
   ],
   "source": [
    "print(len(references_DOI))"
   ]
  },
  {
   "cell_type": "code",
   "execution_count": null,
   "metadata": {},
   "outputs": [],
   "source": [
    "url_references = urllib.request.urlopen(references[0]);\n",
    "urlString=driver.current_url\n",
    "print(urlString)\n"
   ]
  },
  {
   "cell_type": "code",
   "execution_count": null,
   "metadata": {
    "scrolled": true
   },
   "outputs": [],
   "source": [
    "#testing code to pick up on one DOI\n",
    "references_DOI = []\n",
    "elems = driver.find_elements_by_tag_name(\"a\")\n",
    "for elem in elems:\n",
    "    href = elem.get_attribute('href')\n",
    "    if href is not None:\n",
    "        #print(href)\n",
    "        #match_candidate = re.search(\"https://app\\.dimensions\\.ai/details/publication/pub\\.\\d+\\?or_subset_publication_references=pub\\.\\d+\", href, re.DOTALL)\n",
    "        match_candidate = re.search(\"https://doi\\.org/\\d+\\.\\d+/\\d+\\.\\d+\", href, re.DOTALL)\n",
    "        if match_candidate:\n",
    "            references_DOI.append(match_candidate[0])\n",
    "            #match_candidate = match_candidate[0]\n",
    "            #references.append(match_candidate)\n",
    "            #print(references)\n",
    "            #print(match_candidate)\n",
    "            #print(type(match_candidate))\n",
    "        \n",
    "            #references = match_candidate.NextMatch\n",
    "            #print(references_DOI)\n",
    "            #print(len(match_candidate))\n",
    "references_DOI = list(set(references_DOI))\n",
    "print(references_DOI)"
   ]
  },
  {
   "cell_type": "code",
   "execution_count": null,
   "metadata": {},
   "outputs": [],
   "source": [
    "#articleUrl = 'https://badge.dimensions.ai/details/id/pub.1107663955'"
   ]
  },
  {
   "cell_type": "code",
   "execution_count": null,
   "metadata": {},
   "outputs": [],
   "source": [
    "#articleUrl = 'https://badge.dimensions.ai/details/doi/10.1021/acs.jctc.5b00005'"
   ]
  },
  {
   "cell_type": "code",
   "execution_count": null,
   "metadata": {},
   "outputs": [],
   "source": [
    "#driver.get(articleDOI)"
   ]
  },
  {
   "cell_type": "code",
   "execution_count": null,
   "metadata": {},
   "outputs": [],
   "source": [
    "#driver.get('https://badge.dimensions.ai/details/doi/10.1021/acs.jctc.5b00005')\n"
   ]
  },
  {
   "cell_type": "code",
   "execution_count": null,
   "metadata": {},
   "outputs": [],
   "source": [
    "#driver.get('https://badge.dimensions.ai/details/id/pub.1107380616')"
   ]
  },
  {
   "cell_type": "code",
   "execution_count": null,
   "metadata": {},
   "outputs": [],
   "source": [
    "#url = urllib.request.urlopen(\"https://badge.dimensions.ai/details/doi/10.1021/acs.jctc.5b00005\")\n"
   ]
  },
  {
   "cell_type": "code",
   "execution_count": null,
   "metadata": {},
   "outputs": [],
   "source": [
    "driver.get('https://app.dimensions.ai/discover/publication?or_subset_publication_references=' + pub)\n",
    "new_page = driver.page_source\n",
    "#print(new_page)"
   ]
  },
  {
   "cell_type": "code",
   "execution_count": null,
   "metadata": {},
   "outputs": [],
   "source": [
    "import requests\n",
    "#pub_num = requests.get(\"https://app.dimensions.ai/discover/publication?or_subset_publication_references=\" + pub)\n",
    "#pub_num = re.search(r\"ecd8mg-5 hthmnx\\\">(\\d+)<\", pub_num.text, re.DOTALL)\n",
    "#print(pub_num.text)"
   ]
  },
  {
   "cell_type": "code",
   "execution_count": null,
   "metadata": {},
   "outputs": [],
   "source": [
    "# for i in range(10):\n",
    "#     #scroll_down()\n",
    "#    # last_height = driver.execute_script(\"return document.body.scrollHeight\")\n",
    "#     print(last_height)\n",
    "#     driver.execute_script(\"window.scrollTo(0, document.body.scrollHeight);\")\n",
    "#     time.sleep(3)\n",
    "#     new_height = driver.execute_script(\"return document.body.scrollHeight\")\n",
    "#     print(new_height)\n",
    "\n",
    "SCROLL_PAUSE_TIME = 3\n",
    "\n",
    "# Get scroll height\n",
    "last_height = driver.execute_script(\"return document.body.scrollHeight\")\n",
    "\n",
    "while True:\n",
    "    # Scroll down to bottom\n",
    "    driver.execute_script(\"window.scrollTo(0, document.body.scrollHeight);\")\n",
    "\n",
    "    # Wait to load page\n",
    "    time.sleep(SCROLL_PAUSE_TIME)\n",
    "\n",
    "    # Calculate new scroll height and compare with last scroll height\n",
    "    new_height = driver.execute_script(\"return document.body.scrollHeight\")\n",
    "    if new_height == last_height:\n",
    "        break\n",
    "    last_height = new_height"
   ]
  },
  {
   "cell_type": "code",
   "execution_count": null,
   "metadata": {},
   "outputs": [],
   "source": [
    "driver.get('https://app.dimensions.ai/discover/publication?or_subset_publication_citations=' + pub)"
   ]
  },
  {
   "cell_type": "code",
   "execution_count": null,
   "metadata": {},
   "outputs": [],
   "source": [
    "\n",
    "#elem = driver.find_element_by_class_name(\"n0bn8v-0 emVMQh\")\n",
    "#print(elem)"
   ]
  },
  {
   "cell_type": "code",
   "execution_count": null,
   "metadata": {},
   "outputs": [],
   "source": [
    "#elems = driver.find_elements_by_tag_name(\"a\")\n",
    "#print(elems)"
   ]
  },
  {
   "cell_type": "code",
   "execution_count": null,
   "metadata": {},
   "outputs": [],
   "source": [
    "elems = driver.find_elements_by_tag_name(\"a\")\n",
    "for elem in elems:\n",
    "    href = elem.get_attribute('href')\n",
    "    if href is not None:\n",
    "        #print(href)\n",
    "        match_candidate = re.search(\"https://app\\.dimensions\\.ai/details/publication/pub\\.\\d+\\?or_subset_publication_references=pub\\.\\d+\", href, re.DOTALL)\n",
    "        print(type(match_candidate))"
   ]
  },
  {
   "cell_type": "code",
   "execution_count": null,
   "metadata": {},
   "outputs": [],
   "source": []
  },
  {
   "cell_type": "code",
   "execution_count": null,
   "metadata": {
    "scrolled": false
   },
   "outputs": [],
   "source": []
  },
  {
   "cell_type": "code",
   "execution_count": null,
   "metadata": {},
   "outputs": [],
   "source": [
    "import requests\n",
    "#page = requests.get(match_candidate[0])\n",
    "    "
   ]
  },
  {
   "cell_type": "code",
   "execution_count": null,
   "metadata": {},
   "outputs": [],
   "source": [
    "import requests\n",
    "page = requests.get(\"https://app.dimensions.ai/details/publication/pub.1043279000?or_subset_publication_references=pub.1060467737\").text\n",
    "#print(page)"
   ]
  },
  {
   "cell_type": "code",
   "execution_count": null,
   "metadata": {},
   "outputs": [],
   "source": [
    "page_match = re.search(r\"\\{\\\"doi\\\":\\s\\\"(.*?)\\\",\", page, re.DOTALL)\n",
    "DOI = page_match[1]\n",
    "print(DOI)"
   ]
  },
  {
   "cell_type": "code",
   "execution_count": null,
   "metadata": {},
   "outputs": [],
   "source": [
    "#driver.find_element_by_link_text(\"Citations\").click()"
   ]
  },
  {
   "cell_type": "code",
   "execution_count": null,
   "metadata": {},
   "outputs": [],
   "source": [
    "#https://app.dimensions.ai/details/publication/"
   ]
  },
  {
   "cell_type": "code",
   "execution_count": null,
   "metadata": {},
   "outputs": [],
   "source": [
    "#https://app.dimensions.ai/discover/publication?or_subset_publication_references="
   ]
  },
  {
   "cell_type": "code",
   "execution_count": null,
   "metadata": {},
   "outputs": [],
   "source": [
    "driver = webdriver.Chrome(executable_path=\"chromedriver\")\n",
    "#webdriver.Chrome(\"chromedriver\")"
   ]
  },
  {
   "cell_type": "code",
   "execution_count": null,
   "metadata": {},
   "outputs": [],
   "source": [
    "driver.get('https://badge.dimensions.ai/details/doi/10.1021/acs.jctc.5b00005')"
   ]
  },
  {
   "cell_type": "code",
   "execution_count": null,
   "metadata": {},
   "outputs": [],
   "source": [
    "driver.find_element_by_link_text(\"Citations\").click()"
   ]
  },
  {
   "cell_type": "code",
   "execution_count": null,
   "metadata": {},
   "outputs": [],
   "source": [
    "scroll_down()"
   ]
  },
  {
   "cell_type": "code",
   "execution_count": null,
   "metadata": {},
   "outputs": [],
   "source": [
    "driver.find_element_by_link_text(\"View in Dimensions\").click()"
   ]
  },
  {
   "cell_type": "code",
   "execution_count": null,
   "metadata": {},
   "outputs": [],
   "source": [
    "driver.find_element_by_link_text(\"Show all\").click()"
   ]
  },
  {
   "cell_type": "code",
   "execution_count": null,
   "metadata": {},
   "outputs": [],
   "source": [
    "def scroll_down():\n",
    "    last_height = driver.execute_script(\"return document.body.scrollHeight\")\n",
    "    driver.execute_script(\"window.scrollTo(0, document.body.scrollHeight);\")\n",
    "    time.sleep(3)\n",
    "    new_height = driver.execute_script(\"return document.body.scrollHeight\")"
   ]
  },
  {
   "cell_type": "code",
   "execution_count": null,
   "metadata": {},
   "outputs": [],
   "source": []
  }
 ],
 "metadata": {
  "kernelspec": {
   "display_name": "Python 3",
   "language": "python",
   "name": "python3"
  },
  "language_info": {
   "codemirror_mode": {
    "name": "ipython",
    "version": 3
   },
   "file_extension": ".py",
   "mimetype": "text/x-python",
   "name": "python",
   "nbconvert_exporter": "python",
   "pygments_lexer": "ipython3",
   "version": "3.8.5"
  }
 },
 "nbformat": 4,
 "nbformat_minor": 4
}
