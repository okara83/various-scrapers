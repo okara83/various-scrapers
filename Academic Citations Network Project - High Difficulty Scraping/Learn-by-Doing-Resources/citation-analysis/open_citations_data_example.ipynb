{
 "cells": [
  {
   "cell_type": "code",
   "execution_count": 16,
   "metadata": {},
   "outputs": [],
   "source": [
    "from requests import get\n",
    "from requests.exceptions import Timeout, ConnectionError\n",
    "from json import loads, load, dump\n",
    "from re import sub\n",
    "from os.path import exists\n",
    "from os import makedirs, sep\n",
    "from csv import reader, writer\n",
    "import pandas as pd\n",
    "from tqdm import tqdm\n",
    "import logging\n",
    "from urllib.parse import quote\n",
    "\n",
    "headers = {\n",
    "    \"User-Agent\": \n",
    "    \"COVID-19 / OpenCitations \"\n",
    "    \"(http://opencitations.net; mailto:contact@opencitations.net)\"\n",
    "}\n",
    "\n",
    "# the base directory where to store the files with the full data\n",
    "data_dir = \"data\"\n",
    "\n",
    "# the CSV document containing the DOIs of the articles relevant for the analysis\n",
    "doi_file = data_dir + sep + \"dois.csv\"\n",
    "\n",
    "# the JSON document containing the citations of the articles relevant for the analysis\n",
    "cit_file = data_dir + sep + \"citations.json\"\n",
    "\n",
    "# the CSV document containing the DOIs of the articles relevant for the analysis that do not have references deposited in Crossref\n",
    "doi_no_ref_file = data_dir + sep + \"dois_no_ref.csv\"\n",
    "\n",
    "# the JSON document containing the metadata of the articles involved in the relevant citations\n",
    "met_file = data_dir + sep + \"metadata.json\"\n",
    "\n",
    "# the CSV document containing the DOIs of the articles for which Crossref does not return any information\n",
    "nod_file = data_dir + sep + \"metadata_not_found.csv\""
   ]
  },
  {
   "cell_type": "code",
   "execution_count": 40,
   "metadata": {},
   "outputs": [],
   "source": [
    "# change the following variable to logging.INFO for removing debug, or logging.DEBUG to add debug messages\n",
    "logging_level = logging.INFO\n",
    "\n",
    "logging.basicConfig(format='%(levelname)s: %(message)s.')\n",
    "log = logging.getLogger()\n",
    "log.setLevel(logging_level)"
   ]
  },
  {
   "cell_type": "code",
   "execution_count": 51,
   "metadata": {},
   "outputs": [],
   "source": [
    "opencitations_query = 'https://opencitations.net/index/api/v1/%s/%s?json=array(\"; \",citing).array(\"; \",cited).dict(\" => \",citing,source,doi).dict(\" => \",cited,source,doi)'   \n",
    "\n",
    "def extract_citations(res, cit_id):\n",
    "    result = list()\n",
    "    res.encoding = \"utf-8\"\n",
    "    for citation in loads(res.text):\n",
    "        cit_id += 1\n",
    "        citation_item = {\n",
    "            \"id\": str(cit_id), \n",
    "            \"source\": citation[\"citing\"][0][\"doi\"], \n",
    "            \"target\": citation[\"cited\"][0][\"doi\"]\n",
    "        }\n",
    "\n",
    "        result.append(citation_item)\n",
    "    \n",
    "    return result, cit_id\n",
    "\n",
    "def get_citations(cit_file, dois):\n",
    "    citations = list()\n",
    "    if not exists(cit_file):\n",
    "        log.debug(\"The file with citations does not exist: start querying OpenCitations \"\n",
    "                      \"for retrieving citation data\")\n",
    "        cit_id = 0\n",
    "        for doi in tqdm(dois):\n",
    "            logging.debug(f\"Process DOI '{doi}'\")\n",
    "            reference_data = get(opencitations_query % (\"references\", doi), headers=headers)\n",
    "            if reference_data.status_code == 200:\n",
    "                all_citations, cit_id = extract_citations(reference_data, cit_id)\n",
    "                for citation in all_citations:\n",
    "                    if citation not in citations:\n",
    "                        citations.append(citation)\n",
    "            else:\n",
    "                log.warning(f\"Status code '{reference_data.status_code}' when requesting references for \"\n",
    "                                \"DOI '{doi}'\")\n",
    "            citation_data = get(opencitations_query % (\"citations\", doi), headers=headers)\n",
    "            if citation_data.status_code == 200:\n",
    "                all_citations, cit_id = extract_citations(citation_data, cit_id)\n",
    "                for citation in all_citations:\n",
    "                    if citation not in citations:\n",
    "                        citations.append(citation)\n",
    "            else:\n",
    "                log.warning(f\"Status code '{citation_data.status_code}' when requesting citations for \"\n",
    "                                \"DOI '{doi}'\")\n",
    "\n",
    "        with open(cit_file, \"w\") as f:\n",
    "            dump(citations, f, ensure_ascii=False, indent=0)\n",
    "\n",
    "    else:\n",
    "        log.debug(\"The file with citations exist: load information directly from there.\")\n",
    "        with open(cit_file) as f:\n",
    "            citations.extend(load(f))\n",
    "\n",
    "    citing_dois = set()\n",
    "    for citation in citations:\n",
    "        citing_dois.add(citation[\"source\"])\n",
    "\n",
    "    articles_with_references = set()\n",
    "    articles_without_references = set()\n",
    "    for doi in dois:\n",
    "        if doi in citing_dois:\n",
    "            articles_with_references.add(doi)\n",
    "        else:\n",
    "            articles_without_references.add(doi)\n",
    "\n",
    "    if not exists(doi_no_ref_file):\n",
    "        with open(doi_no_ref_file, \"w\") as f:\n",
    "            csv_writer = writer(f)\n",
    "            for doi in articles_without_references:\n",
    "                csv_writer.writerow((doi, ))\n",
    "\n",
    "    log.info(f\"Total citations available: {len(citations)}. Number of articles with references \"\n",
    "             f\"deposited in Crossref and available in the OpenCitations Indexes: \"\n",
    "             f\"{len(articles_with_references)} out of {len(dois)} total articles retrieved in Crossref\")\n",
    "    return citations"
   ]
  },
  {
   "cell_type": "code",
   "execution_count": 52,
   "metadata": {
    "scrolled": true
   },
   "outputs": [],
   "source": [
    "crossref_query = \"https://api.crossref.org/works/\"\n",
    "\n",
    "def normalise(o):\n",
    "    if o is None:\n",
    "        s = \"\"\n",
    "    else:\n",
    "        s = str(o)\n",
    "    return sub(\"\\s+\", \" \", s).strip()\n",
    "\n",
    "def create_title_from_list(title_list):\n",
    "    cur_title = \"\"\n",
    "\n",
    "    for title in title_list:\n",
    "        strip_title = title.strip()\n",
    "        if strip_title != \"\":\n",
    "            if cur_title == \"\":\n",
    "                cur_title = strip_title\n",
    "            else:\n",
    "                cur_title += \" - \" + strip_title\n",
    "\n",
    "    return normalise(cur_title.title())\n",
    "\n",
    "def get_basic_metadata(body):\n",
    "    authors = []\n",
    "    for author in body.get(\"author\", []):\n",
    "        authors.append(normalise(author.get(\"family\", \"\").title()))\n",
    "\n",
    "    year = \"\"\n",
    "    if \"issued\" in body and \"date-parts\" in body[\"issued\"] and len(body[\"issued\"][\"date-parts\"]) and \\\n",
    "            len(body[\"issued\"][\"date-parts\"][0]):\n",
    "        year = normalise(body[\"issued\"][\"date-parts\"][0][0])\n",
    "\n",
    "    title = \"\"\n",
    "    if \"title\" in body:\n",
    "        title = create_title_from_list(body.get(\"title\", []))\n",
    "\n",
    "    source_title = \"\"\n",
    "    if \"container-title\" in body:\n",
    "        source_title = create_title_from_list(body.get(\"container-title\", []))\n",
    "\n",
    "    return \", \".join(authors), year, title, source_title\n",
    "\n",
    "def get_metadata_for_citations(met_file, citations):\n",
    "    dois_in_citations = set()\n",
    "    for citation in citations:\n",
    "        dois_in_citations.add(citation[\"source\"])\n",
    "        dois_in_citations.add(citation[\"target\"])\n",
    "\n",
    "    existing_doi = set()\n",
    "    metadata = []\n",
    "    if exists(met_file):\n",
    "        with open(met_file) as f:\n",
    "            for article in load(f):\n",
    "                existing_doi.add(article[\"id\"])\n",
    "                metadata.append(article)\n",
    "\n",
    "    if exists(nod_file):\n",
    "        with open(nod_file) as f:\n",
    "            csv_reader = reader(f)\n",
    "            for doi, in csv_reader:\n",
    "                existing_doi.add(doi)\n",
    "\n",
    "    dois_not_found = []\n",
    "    for doi in tqdm(dois_in_citations.difference(existing_doi)):\n",
    "        log.debug(f\"Requesting Crossref metadata for DOI '{doi}'\")\n",
    "        try:\n",
    "            article = get(crossref_query + doi, headers=headers, timeout=20)\n",
    "            if article.status_code == 200:\n",
    "                article.encoding = \"utf-8\"\n",
    "                article_json = loads(article.text).get(\"message\")\n",
    "                if article_json :\n",
    "                    author, year, title, source_title = get_basic_metadata(article_json)\n",
    "                    metadata.append({\n",
    "                        \"id\": doi,\n",
    "                        \"author\": author,\n",
    "                        \"year\": year,\n",
    "                        \"title\": title,\n",
    "                        \"source_title\": source_title\n",
    "                    })\n",
    "                else:\n",
    "                    log.warning(f\"No article metadata in Crossref for DOI '{doi}'\")\n",
    "                    dois_not_found.append(doi)\n",
    "            else:\n",
    "                dois_not_found.append(doi)\n",
    "                log.warning(f\"Status code '{article.status_code}' when requesting Crossref metadata \"\n",
    "                            f\"for DOI '{doi}'\")\n",
    "        except Timeout:\n",
    "            dois_not_found.append(doi)\n",
    "            log.warning(f\"Timeout when querying Crossref for DOI '{doi}'\")\n",
    "        except ConnectionError:\n",
    "            dois_not_found.append(doi)\n",
    "            log.warning(f\"Connection issues when querying Crossref for DOI '{doi}'\")\n",
    "\n",
    "    with open(met_file, \"w\") as f:\n",
    "        dump(metadata, f, ensure_ascii=False, indent=0)\n",
    "\n",
    "    if dois_not_found:\n",
    "        with open(nod_file, \"w\") as f:\n",
    "            csv_writer = writer(f)\n",
    "            for doi in dois_not_found:\n",
    "                csv_writer.writerow((doi, ))\n",
    "\n",
    "    log.info(f\"The total number of articles involved in the citations retrieved \"\n",
    "             f\"are {len(metadata) + len(dois_not_found)}. \"\n",
    "             f\"The total number of articles with available metadata is {len(metadata)}, \"\n",
    "             f\"and there are {len(dois_not_found)} articles with no metadata found\")\n",
    "    return metadata"
   ]
  },
  {
   "cell_type": "code",
   "execution_count": 94,
   "metadata": {},
   "outputs": [],
   "source": [
    "def get_citations_and_metadata(suffix, dois):\n",
    "    cit_file = f'data/citations_{suffix}.csv'\n",
    "    citations = get_citations(cit_file, dois)\n",
    "    df_citations = pd.DataFrame(citations)\n",
    "    \n",
    "    metadata_file = f'data/metadata_{suffix}.csv'\n",
    "    metadata = get_metadata_for_citations(metadata_file, citations)\n",
    "    df_metadata = pd.DataFrame(metadata)\n",
    "    \n",
    "    df = df_citations.join(df_metadata.set_index(['id']).add_suffix('_source'), on='source')\n",
    "    df = df.join(df_metadata.set_index(['id']).add_suffix('_target'), on='target')\n",
    "    return df"
   ]
  },
  {
   "cell_type": "code",
   "execution_count": 65,
   "metadata": {},
   "outputs": [],
   "source": [
    "dois = ['10.1029/92jb01206']"
   ]
  },
  {
   "cell_type": "code",
   "execution_count": 95,
   "metadata": {
    "scrolled": true
   },
   "outputs": [
    {
     "name": "stderr",
     "output_type": "stream",
     "text": [
      "INFO: Total citations available: 49. Number of articles with references deposited in Crossref and available in the OpenCitations Indexes: 1 out of 1 total articles retrieved in Crossref.\n",
      "\n",
      "  0%|          | 0/49 [00:00<?, ?it/s]\u001b[A\n",
      "  2%|▏         | 1/49 [00:01<00:48,  1.01s/it]\u001b[A\n",
      "  4%|▍         | 2/49 [00:01<00:46,  1.01it/s]\u001b[A\n",
      "  6%|▌         | 3/49 [00:02<00:44,  1.04it/s]\u001b[A\n",
      "  8%|▊         | 4/49 [00:03<00:41,  1.09it/s]\u001b[A\n",
      " 10%|█         | 5/49 [00:04<00:39,  1.13it/s]\u001b[A\n",
      " 12%|█▏        | 6/49 [00:05<00:37,  1.15it/s]\u001b[A\n",
      " 14%|█▍        | 7/49 [00:06<00:35,  1.17it/s]\u001b[A\n",
      " 16%|█▋        | 8/49 [00:06<00:34,  1.19it/s]\u001b[A\n",
      " 18%|█▊        | 9/49 [00:07<00:33,  1.20it/s]\u001b[A\n",
      " 20%|██        | 10/49 [00:08<00:32,  1.20it/s]\u001b[A\n",
      " 22%|██▏       | 11/49 [00:09<00:33,  1.13it/s]\u001b[A\n",
      " 24%|██▍       | 12/49 [00:10<00:36,  1.01it/s]\u001b[A\n",
      " 27%|██▋       | 13/49 [00:11<00:36,  1.00s/it]\u001b[A\n",
      " 29%|██▊       | 14/49 [00:12<00:35,  1.01s/it]\u001b[A\n",
      " 31%|███       | 15/49 [00:13<00:31,  1.09it/s]\u001b[A\n",
      " 33%|███▎      | 16/49 [00:14<00:34,  1.04s/it]\u001b[A\n",
      " 35%|███▍      | 17/49 [00:15<00:33,  1.04s/it]\u001b[A\n",
      " 37%|███▋      | 18/49 [00:16<00:31,  1.01s/it]\u001b[A\n",
      " 39%|███▉      | 19/49 [00:17<00:28,  1.06it/s]\u001b[A\n",
      " 41%|████      | 20/49 [00:18<00:26,  1.10it/s]\u001b[A\n",
      " 43%|████▎     | 21/49 [00:19<00:25,  1.10it/s]\u001b[A\n",
      " 45%|████▍     | 22/49 [00:20<00:25,  1.08it/s]\u001b[A\n",
      " 47%|████▋     | 23/49 [00:21<00:25,  1.03it/s]\u001b[A\n",
      " 49%|████▉     | 24/49 [00:22<00:23,  1.08it/s]\u001b[A\n",
      " 51%|█████     | 25/49 [00:23<00:22,  1.05it/s]\u001b[A\n",
      " 53%|█████▎    | 26/49 [00:24<00:21,  1.09it/s]\u001b[A\n",
      " 55%|█████▌    | 27/49 [00:25<00:20,  1.05it/s]\u001b[A\n",
      " 57%|█████▋    | 28/49 [00:25<00:19,  1.10it/s]\u001b[A\n",
      " 59%|█████▉    | 29/49 [00:26<00:17,  1.13it/s]\u001b[A\n",
      " 61%|██████    | 30/49 [00:27<00:16,  1.16it/s]\u001b[A\n",
      " 63%|██████▎   | 31/49 [00:28<00:16,  1.10it/s]\u001b[A\n",
      " 65%|██████▌   | 32/49 [00:29<00:15,  1.13it/s]\u001b[A\n",
      " 67%|██████▋   | 33/49 [00:30<00:13,  1.16it/s]\u001b[A\n",
      " 69%|██████▉   | 34/49 [00:31<00:12,  1.17it/s]\u001b[A\n",
      " 71%|███████▏  | 35/49 [00:31<00:11,  1.19it/s]\u001b[A\n",
      " 73%|███████▎  | 36/49 [00:32<00:10,  1.20it/s]\u001b[A\n",
      " 76%|███████▌  | 37/49 [00:33<00:09,  1.21it/s]\u001b[A\n",
      " 78%|███████▊  | 38/49 [00:34<00:09,  1.20it/s]\u001b[A\n",
      " 80%|███████▉  | 39/49 [00:35<00:08,  1.13it/s]\u001b[A\n",
      " 82%|████████▏ | 40/49 [00:36<00:08,  1.10it/s]\u001b[A\n",
      " 84%|████████▎ | 41/49 [00:37<00:07,  1.04it/s]\u001b[A\n",
      " 86%|████████▌ | 42/49 [00:38<00:06,  1.09it/s]\u001b[A\n",
      " 88%|████████▊ | 43/49 [00:39<00:05,  1.12it/s]\u001b[A\n",
      " 90%|████████▉ | 44/49 [00:40<00:04,  1.01it/s]\u001b[A\n",
      " 92%|█████████▏| 45/49 [00:41<00:03,  1.05it/s]\u001b[A\n",
      " 94%|█████████▍| 46/49 [00:41<00:02,  1.11it/s]\u001b[A\n",
      " 96%|█████████▌| 47/49 [00:42<00:01,  1.07it/s]\u001b[A\n",
      " 98%|█████████▊| 48/49 [00:44<00:00,  1.04it/s]\u001b[A\n",
      "100%|██████████| 49/49 [00:45<00:00,  1.09it/s]\u001b[A\n",
      "INFO: The total number of articles involved in the citations retrieved are 49. The total number of articles with available metadata is 49, and there are 0 articles with no metadata found.\n"
     ]
    }
   ],
   "source": [
    "df_poi = get_citations_and_metadata('first_paper', dois)"
   ]
  },
  {
   "cell_type": "markdown",
   "metadata": {},
   "source": [
    "## Get citations from papers citing the original paper"
   ]
  },
  {
   "cell_type": "code",
   "execution_count": 96,
   "metadata": {},
   "outputs": [],
   "source": [
    "poi_citers = df_citations[lambda x: x['target'].isin(dois)]['source'].unique()"
   ]
  },
  {
   "cell_type": "code",
   "execution_count": 97,
   "metadata": {},
   "outputs": [
    {
     "name": "stderr",
     "output_type": "stream",
     "text": [
      "INFO: Total citations available: 1428. Number of articles with references deposited in Crossref and available in the OpenCitations Indexes: 22 out of 22 total articles retrieved in Crossref.\n",
      "\n",
      "  0%|          | 0/2 [00:00<?, ?it/s]\u001b[AWARNING: Status code '404' when requesting Crossref metadata for DOI '10.1179/095066095790151197'.\n",
      "\n",
      " 50%|█████     | 1/2 [00:00<00:00,  1.19it/s]\u001b[A\n",
      "100%|██████████| 2/2 [00:01<00:00,  1.20it/s]\u001b[A\n",
      "INFO: The total number of articles involved in the citations retrieved are 1226. The total number of articles with available metadata is 1225, and there are 1 articles with no metadata found.\n"
     ]
    }
   ],
   "source": [
    "df_poi_citers = get_citations_and_metadata('poi_citers', poi_citers)"
   ]
  },
  {
   "cell_type": "code",
   "execution_count": 98,
   "metadata": {},
   "outputs": [
    {
     "data": {
      "text/plain": [
       "(1428, 11)"
      ]
     },
     "execution_count": 98,
     "metadata": {},
     "output_type": "execute_result"
    }
   ],
   "source": [
    "df_poi_citers.shape"
   ]
  },
  {
   "cell_type": "code",
   "execution_count": 102,
   "metadata": {},
   "outputs": [],
   "source": [
    "def get_local_citation_data(poi_doi):\n",
    "    df_poi = get_citations_and_metadata('first_paper', [poi_doi])\n",
    "    \n",
    "    poi_citers = df_citations[lambda x: x['target'].isin([poi_doi])]['source'].unique()\n",
    "    df_poi_citers = get_citations_and_metadata('poi_citers', poi_citers)\n",
    "    return pd.concat([df_poi, df_poi_citers])"
   ]
  },
  {
   "cell_type": "code",
   "execution_count": 109,
   "metadata": {},
   "outputs": [
    {
     "name": "stderr",
     "output_type": "stream",
     "text": [
      "INFO: Total citations available: 49. Number of articles with references deposited in Crossref and available in the OpenCitations Indexes: 1 out of 1 total articles retrieved in Crossref.\n",
      "\n",
      "  0%|          | 0/1 [00:00<?, ?it/s]\u001b[AWARNING: Status code '404' when requesting Crossref metadata for DOI '10.1179/095066083790411777'.\n",
      "\n",
      "100%|██████████| 1/1 [00:00<00:00,  1.25it/s]\u001b[A\n",
      "INFO: The total number of articles involved in the citations retrieved are 50. The total number of articles with available metadata is 49, and there are 1 articles with no metadata found.\n",
      "INFO: Total citations available: 1428. Number of articles with references deposited in Crossref and available in the OpenCitations Indexes: 22 out of 22 total articles retrieved in Crossref.\n",
      "\n",
      "  0%|          | 0/1 [00:00<?, ?it/s]\u001b[AWARNING: Status code '404' when requesting Crossref metadata for DOI '10.1179/095066095790151197'.\n",
      "\n",
      "100%|██████████| 1/1 [00:00<00:00,  1.14it/s]\u001b[A\n",
      "INFO: The total number of articles involved in the citations retrieved are 1226. The total number of articles with available metadata is 1225, and there are 1 articles with no metadata found.\n"
     ]
    }
   ],
   "source": [
    "df = get_local_citation_data(dois[0])"
   ]
  },
  {
   "cell_type": "code",
   "execution_count": 110,
   "metadata": {},
   "outputs": [
    {
     "data": {
      "text/plain": [
       "(1477, 11)"
      ]
     },
     "execution_count": 110,
     "metadata": {},
     "output_type": "execute_result"
    }
   ],
   "source": [
    "df.shape"
   ]
  },
  {
   "cell_type": "code",
   "execution_count": 111,
   "metadata": {},
   "outputs": [
    {
     "data": {
      "text/html": [
       "<div>\n",
       "<style scoped>\n",
       "    .dataframe tbody tr th:only-of-type {\n",
       "        vertical-align: middle;\n",
       "    }\n",
       "\n",
       "    .dataframe tbody tr th {\n",
       "        vertical-align: top;\n",
       "    }\n",
       "\n",
       "    .dataframe thead th {\n",
       "        text-align: right;\n",
       "    }\n",
       "</style>\n",
       "<table border=\"1\" class=\"dataframe\">\n",
       "  <thead>\n",
       "    <tr style=\"text-align: right;\">\n",
       "      <th></th>\n",
       "      <th>id</th>\n",
       "      <th>source</th>\n",
       "      <th>target</th>\n",
       "      <th>author_source</th>\n",
       "      <th>year_source</th>\n",
       "      <th>title_source</th>\n",
       "      <th>source_title_source</th>\n",
       "      <th>author_target</th>\n",
       "      <th>year_target</th>\n",
       "      <th>title_target</th>\n",
       "      <th>source_title_target</th>\n",
       "    </tr>\n",
       "  </thead>\n",
       "  <tbody>\n",
       "    <tr>\n",
       "      <td>0</td>\n",
       "      <td>1</td>\n",
       "      <td>10.1029/92jb01206</td>\n",
       "      <td>10.1007/978-1-4613-9019-0_11</td>\n",
       "      <td>Farver, Yund</td>\n",
       "      <td>1992</td>\n",
       "      <td>Oxygen Diffusion In A Fine-Grained Quartz Aggr...</td>\n",
       "      <td>Journal Of Geophysical Research</td>\n",
       "      <td>Joesten</td>\n",
       "      <td>1991</td>\n",
       "      <td>Grain-Boundary Diffusion Kinetics In Silicate ...</td>\n",
       "      <td>Advances In Physical Geochemistry - Diffusion,...</td>\n",
       "    </tr>\n",
       "    <tr>\n",
       "      <td>1</td>\n",
       "      <td>2</td>\n",
       "      <td>10.1029/92jb01206</td>\n",
       "      <td>10.1007/bf00310677</td>\n",
       "      <td>Farver, Yund</td>\n",
       "      <td>1992</td>\n",
       "      <td>Oxygen Diffusion In A Fine-Grained Quartz Aggr...</td>\n",
       "      <td>Journal Of Geophysical Research</td>\n",
       "      <td>Watson</td>\n",
       "      <td>1991</td>\n",
       "      <td>Diffusion In Fluid-Bearing And Slightly-Melted...</td>\n",
       "      <td>Contributions To Mineralogy And Petrology</td>\n",
       "    </tr>\n",
       "    <tr>\n",
       "      <td>2</td>\n",
       "      <td>3</td>\n",
       "      <td>10.1029/92jb01206</td>\n",
       "      <td>10.1007/bf00373303</td>\n",
       "      <td>Farver, Yund</td>\n",
       "      <td>1992</td>\n",
       "      <td>Oxygen Diffusion In A Fine-Grained Quartz Aggr...</td>\n",
       "      <td>Journal Of Geophysical Research</td>\n",
       "      <td>Shieh, Taylor</td>\n",
       "      <td>1969</td>\n",
       "      <td>Oxygen And Hydrogen Isotope Studies Of Contact...</td>\n",
       "      <td>Contributions To Mineralogy And Petrology</td>\n",
       "    </tr>\n",
       "    <tr>\n",
       "      <td>3</td>\n",
       "      <td>4</td>\n",
       "      <td>10.1029/92jb01206</td>\n",
       "      <td>10.1016/0001-6160(75)90078-4</td>\n",
       "      <td>Farver, Yund</td>\n",
       "      <td>1992</td>\n",
       "      <td>Oxygen Diffusion In A Fine-Grained Quartz Aggr...</td>\n",
       "      <td>Journal Of Geophysical Research</td>\n",
       "      <td>Beere</td>\n",
       "      <td>1975</td>\n",
       "      <td>A Unifying Theory Of The Stability Of Penetrat...</td>\n",
       "      <td>Acta Metallurgica</td>\n",
       "    </tr>\n",
       "    <tr>\n",
       "      <td>4</td>\n",
       "      <td>5</td>\n",
       "      <td>10.1029/92jb01206</td>\n",
       "      <td>10.1016/0009-2541(91)90033-n</td>\n",
       "      <td>Farver, Yund</td>\n",
       "      <td>1992</td>\n",
       "      <td>Oxygen Diffusion In A Fine-Grained Quartz Aggr...</td>\n",
       "      <td>Journal Of Geophysical Research</td>\n",
       "      <td>Farver, Yund</td>\n",
       "      <td>1991</td>\n",
       "      <td>Oxygen Diffusion In Quartz: Dependence On Temp...</td>\n",
       "      <td>Chemical Geology</td>\n",
       "    </tr>\n",
       "  </tbody>\n",
       "</table>\n",
       "</div>"
      ],
      "text/plain": [
       "  id             source                        target author_source  \\\n",
       "0  1  10.1029/92jb01206  10.1007/978-1-4613-9019-0_11  Farver, Yund   \n",
       "1  2  10.1029/92jb01206            10.1007/bf00310677  Farver, Yund   \n",
       "2  3  10.1029/92jb01206            10.1007/bf00373303  Farver, Yund   \n",
       "3  4  10.1029/92jb01206  10.1016/0001-6160(75)90078-4  Farver, Yund   \n",
       "4  5  10.1029/92jb01206  10.1016/0009-2541(91)90033-n  Farver, Yund   \n",
       "\n",
       "  year_source                                       title_source  \\\n",
       "0        1992  Oxygen Diffusion In A Fine-Grained Quartz Aggr...   \n",
       "1        1992  Oxygen Diffusion In A Fine-Grained Quartz Aggr...   \n",
       "2        1992  Oxygen Diffusion In A Fine-Grained Quartz Aggr...   \n",
       "3        1992  Oxygen Diffusion In A Fine-Grained Quartz Aggr...   \n",
       "4        1992  Oxygen Diffusion In A Fine-Grained Quartz Aggr...   \n",
       "\n",
       "               source_title_source  author_target year_target  \\\n",
       "0  Journal Of Geophysical Research        Joesten        1991   \n",
       "1  Journal Of Geophysical Research         Watson        1991   \n",
       "2  Journal Of Geophysical Research  Shieh, Taylor        1969   \n",
       "3  Journal Of Geophysical Research          Beere        1975   \n",
       "4  Journal Of Geophysical Research   Farver, Yund        1991   \n",
       "\n",
       "                                        title_target  \\\n",
       "0  Grain-Boundary Diffusion Kinetics In Silicate ...   \n",
       "1  Diffusion In Fluid-Bearing And Slightly-Melted...   \n",
       "2  Oxygen And Hydrogen Isotope Studies Of Contact...   \n",
       "3  A Unifying Theory Of The Stability Of Penetrat...   \n",
       "4  Oxygen Diffusion In Quartz: Dependence On Temp...   \n",
       "\n",
       "                                 source_title_target  \n",
       "0  Advances In Physical Geochemistry - Diffusion,...  \n",
       "1          Contributions To Mineralogy And Petrology  \n",
       "2          Contributions To Mineralogy And Petrology  \n",
       "3                                  Acta Metallurgica  \n",
       "4                                   Chemical Geology  "
      ]
     },
     "execution_count": 111,
     "metadata": {},
     "output_type": "execute_result"
    }
   ],
   "source": [
    "df.head()"
   ]
  },
  {
   "cell_type": "code",
   "execution_count": 112,
   "metadata": {},
   "outputs": [
    {
     "data": {
      "text/plain": [
       "False    1445\n",
       "True       32\n",
       "dtype: int64"
      ]
     },
     "execution_count": 112,
     "metadata": {},
     "output_type": "execute_result"
    }
   ],
   "source": [
    "df[['source', 'target']].duplicated().value_counts()"
   ]
  },
  {
   "cell_type": "markdown",
   "metadata": {},
   "source": [
    "### Remark:\n",
    "There can be two kinds of duplicates:\n",
    "- all the citations between the poi_citers and the poi, we already got these in the poi-step\n",
    "- citations between two poi_citers, for each of them the method will get the citation so they will appear twice"
   ]
  },
  {
   "cell_type": "code",
   "execution_count": 135,
   "metadata": {},
   "outputs": [],
   "source": [
    "df.drop_duplicates(['source', 'target'], inplace=True)"
   ]
  },
  {
   "cell_type": "code",
   "execution_count": 136,
   "metadata": {},
   "outputs": [
    {
     "data": {
      "text/plain": [
       "(1445, 11)"
      ]
     },
     "execution_count": 136,
     "metadata": {},
     "output_type": "execute_result"
    }
   ],
   "source": [
    "df.shape"
   ]
  },
  {
   "cell_type": "code",
   "execution_count": 162,
   "metadata": {},
   "outputs": [],
   "source": [
    "df['is_poi_ref'] = df['source'] == dois[0]\n",
    "df['is_poi_citer'] = df['target'] == dois[0]\n",
    "\n",
    "df['is_poi_citer_ref'] = df['source'].isin(poi_citers)\n",
    "df['is_poi_citer_citer'] = df['target'].isin(poi_citers)"
   ]
  },
  {
   "cell_type": "code",
   "execution_count": 184,
   "metadata": {},
   "outputs": [
    {
     "data": {
      "text/plain": [
       "array(['10.1029/2008jb005884', '10.1002/2015jb012274',\n",
       "       '10.1366/000370203321558173', '10.2465/jmps.071022a',\n",
       "       '10.2465/minerj.19.147', '10.1007/s00269-013-0573-9',\n",
       "       '10.1007/s00410-012-0822-9', '10.1007/s004100050019',\n",
       "       '10.1007/s004100050020', '10.1029/94jb01250', '10.1029/94jb02816',\n",
       "       '10.1007/978-94-011-1106-5_9', '10.1180/minmag.2009.073.5.825',\n",
       "       '10.1111/jmg.12052', '10.1111/j.1525-1314.2010.00886.x',\n",
       "       '10.1007/978-94-009-1533-6_9', '10.1002/2016gc006295',\n",
       "       '10.1029/rf002p0269', '10.1007/bf00321221', '10.1029/95rg00601',\n",
       "       '10.1029/97je03032', '10.1007/s00410-020-01676-2'], dtype=object)"
      ]
     },
     "execution_count": 184,
     "metadata": {},
     "output_type": "execute_result"
    }
   ],
   "source": [
    "poi_citers"
   ]
  },
  {
   "cell_type": "code",
   "execution_count": 185,
   "metadata": {},
   "outputs": [
    {
     "name": "stdout",
     "output_type": "stream",
     "text": [
      "['10.1029/92jb01206', '10.1111/j.1525-1314.2010.00886.x']\n"
     ]
    },
    {
     "data": {
      "text/plain": [
       "(110, 18)"
      ]
     },
     "execution_count": 185,
     "metadata": {},
     "output_type": "execute_result"
    }
   ],
   "source": [
    "test_dois = [dois[0], '10.1111/j.1525-1314.2010.00886.x']\n",
    "print(test_dois)\n",
    "df_test = df[lambda x: x['source'].isin(test_dois) | x['target'].isin(test_dois)]\n",
    "df_test.shape"
   ]
  },
  {
   "cell_type": "code",
   "execution_count": 188,
   "metadata": {},
   "outputs": [
    {
     "data": {
      "text/html": [
       "<div>\n",
       "<style scoped>\n",
       "    .dataframe tbody tr th:only-of-type {\n",
       "        vertical-align: middle;\n",
       "    }\n",
       "\n",
       "    .dataframe tbody tr th {\n",
       "        vertical-align: top;\n",
       "    }\n",
       "\n",
       "    .dataframe thead th {\n",
       "        text-align: right;\n",
       "    }\n",
       "</style>\n",
       "<table border=\"1\" class=\"dataframe\">\n",
       "  <thead>\n",
       "    <tr style=\"text-align: right;\">\n",
       "      <th></th>\n",
       "      <th>id</th>\n",
       "      <th>source</th>\n",
       "      <th>target</th>\n",
       "      <th>author_source</th>\n",
       "      <th>year_source</th>\n",
       "      <th>title_source</th>\n",
       "      <th>source_title_source</th>\n",
       "      <th>author_target</th>\n",
       "      <th>year_target</th>\n",
       "      <th>title_target</th>\n",
       "      <th>source_title_target</th>\n",
       "      <th>is_poi_ref</th>\n",
       "      <th>is_poi_citer</th>\n",
       "      <th>is_poi_citer_ref</th>\n",
       "      <th>is_poi_citer_citer</th>\n",
       "      <th>is_poi_and_poi_citer_ref</th>\n",
       "      <th>is_poi_citer_and_poi_citer_citer</th>\n",
       "      <th>is_poi_and_poi_citer_citer</th>\n",
       "    </tr>\n",
       "  </thead>\n",
       "  <tbody>\n",
       "    <tr>\n",
       "      <td>422</td>\n",
       "      <td>423</td>\n",
       "      <td>10.1111/j.1525-1314.2010.00886.x</td>\n",
       "      <td>10.1007/s004100050019</td>\n",
       "      <td>Carlson</td>\n",
       "      <td>2010</td>\n",
       "      <td>Dependence Of Reaction Kinetics On H2O Activit...</td>\n",
       "      <td>Journal Of Metamorphic Geology</td>\n",
       "      <td>Farver, Yund</td>\n",
       "      <td>1995</td>\n",
       "      <td>Grain Boundary Diffusion Of Oxygen, Potassium ...</td>\n",
       "      <td>Contributions To Mineralogy And Petrology</td>\n",
       "      <td>False</td>\n",
       "      <td>False</td>\n",
       "      <td>True</td>\n",
       "      <td>True</td>\n",
       "      <td>False</td>\n",
       "      <td>False</td>\n",
       "      <td>False</td>\n",
       "    </tr>\n",
       "    <tr>\n",
       "      <td>533</td>\n",
       "      <td>534</td>\n",
       "      <td>10.1111/j.1525-1314.2010.00886.x</td>\n",
       "      <td>10.1029/94jb01250</td>\n",
       "      <td>Carlson</td>\n",
       "      <td>2010</td>\n",
       "      <td>Dependence Of Reaction Kinetics On H2O Activit...</td>\n",
       "      <td>Journal Of Metamorphic Geology</td>\n",
       "      <td>Farver, Yund, Rubie</td>\n",
       "      <td>1994</td>\n",
       "      <td>Magnesium Grain Boundary Diffusion In Forsteri...</td>\n",
       "      <td>Journal Of Geophysical Research: Solid Earth</td>\n",
       "      <td>False</td>\n",
       "      <td>False</td>\n",
       "      <td>True</td>\n",
       "      <td>True</td>\n",
       "      <td>False</td>\n",
       "      <td>False</td>\n",
       "      <td>False</td>\n",
       "    </tr>\n",
       "    <tr>\n",
       "      <td>779</td>\n",
       "      <td>780</td>\n",
       "      <td>10.1111/j.1525-1314.2010.00886.x</td>\n",
       "      <td>10.1007/bf00321221</td>\n",
       "      <td>Carlson</td>\n",
       "      <td>2010</td>\n",
       "      <td>Dependence Of Reaction Kinetics On H2O Activit...</td>\n",
       "      <td>Journal Of Metamorphic Geology</td>\n",
       "      <td>Brenan</td>\n",
       "      <td>1993</td>\n",
       "      <td>Diffusion Of Chlorine In Fluid-Bearing Quartzi...</td>\n",
       "      <td>Contributions To Mineralogy And Petrology</td>\n",
       "      <td>False</td>\n",
       "      <td>False</td>\n",
       "      <td>True</td>\n",
       "      <td>True</td>\n",
       "      <td>False</td>\n",
       "      <td>False</td>\n",
       "      <td>False</td>\n",
       "    </tr>\n",
       "  </tbody>\n",
       "</table>\n",
       "</div>"
      ],
      "text/plain": [
       "      id                            source                 target  \\\n",
       "422  423  10.1111/j.1525-1314.2010.00886.x  10.1007/s004100050019   \n",
       "533  534  10.1111/j.1525-1314.2010.00886.x      10.1029/94jb01250   \n",
       "779  780  10.1111/j.1525-1314.2010.00886.x     10.1007/bf00321221   \n",
       "\n",
       "    author_source year_source  \\\n",
       "422       Carlson        2010   \n",
       "533       Carlson        2010   \n",
       "779       Carlson        2010   \n",
       "\n",
       "                                          title_source  \\\n",
       "422  Dependence Of Reaction Kinetics On H2O Activit...   \n",
       "533  Dependence Of Reaction Kinetics On H2O Activit...   \n",
       "779  Dependence Of Reaction Kinetics On H2O Activit...   \n",
       "\n",
       "                source_title_source        author_target year_target  \\\n",
       "422  Journal Of Metamorphic Geology         Farver, Yund        1995   \n",
       "533  Journal Of Metamorphic Geology  Farver, Yund, Rubie        1994   \n",
       "779  Journal Of Metamorphic Geology               Brenan        1993   \n",
       "\n",
       "                                          title_target  \\\n",
       "422  Grain Boundary Diffusion Of Oxygen, Potassium ...   \n",
       "533  Magnesium Grain Boundary Diffusion In Forsteri...   \n",
       "779  Diffusion Of Chlorine In Fluid-Bearing Quartzi...   \n",
       "\n",
       "                              source_title_target  is_poi_ref  is_poi_citer  \\\n",
       "422     Contributions To Mineralogy And Petrology       False         False   \n",
       "533  Journal Of Geophysical Research: Solid Earth       False         False   \n",
       "779     Contributions To Mineralogy And Petrology       False         False   \n",
       "\n",
       "     is_poi_citer_ref  is_poi_citer_citer  is_poi_and_poi_citer_ref  \\\n",
       "422              True                True                     False   \n",
       "533              True                True                     False   \n",
       "779              True                True                     False   \n",
       "\n",
       "     is_poi_citer_and_poi_citer_citer  is_poi_and_poi_citer_citer  \n",
       "422                             False                       False  \n",
       "533                             False                       False  \n",
       "779                             False                       False  "
      ]
     },
     "execution_count": 188,
     "metadata": {},
     "output_type": "execute_result"
    }
   ],
   "source": [
    "df_test[lambda x: x['source'].isin(poi_citers) & x['target'].isin(poi_citers)]"
   ]
  },
  {
   "cell_type": "code",
   "execution_count": 191,
   "metadata": {},
   "outputs": [],
   "source": [
    "def get_citation_stats(df, poi_refs, poi_citers):\n",
    "    nciter_refs = df['is_poi_citer_ref'].sum()\n",
    "    citer_refs = df[df['is_poi_citer_ref']]['target'].unique()\n",
    "    npoi_and_citer_refs = len(set(poi_refs).intersection(set(citer_refs)))\n",
    "\n",
    "    nciter_citers = df['is_poi_citer_citer'].sum()\n",
    "    citer_citers = df[df['is_poi_citer_citer']]['source'].unique()\n",
    "    npoi_and_citer_citers = len(set(poi_citers).intersection(set(citer_citers)))\n",
    "    return nciter_refs, npoi_and_citer_refs, nciter_citers, npoi_and_citer_citers"
   ]
  },
  {
   "cell_type": "code",
   "execution_count": 192,
   "metadata": {},
   "outputs": [
    {
     "data": {
      "text/plain": [
       "(82, 4, 4, 1)"
      ]
     },
     "execution_count": 192,
     "metadata": {},
     "output_type": "execute_result"
    }
   ],
   "source": [
    "poi_refs = df[df['is_poi_ref']]['target'].unique()\n",
    "get_citation_stats(df_test, poi_refs, poi_citers)"
   ]
  },
  {
   "cell_type": "code",
   "execution_count": 193,
   "metadata": {},
   "outputs": [
    {
     "name": "stderr",
     "output_type": "stream",
     "text": [
      "\n",
      "  0%|          | 0/22 [00:00<?, ?it/s]\u001b[A\n",
      "100%|██████████| 22/22 [00:00<00:00, 184.33it/s]\u001b[A\n"
     ]
    }
   ],
   "source": [
    "citation_stats = {'citer_doi': [],\n",
    "                  'nciter_refs': [],\n",
    "                  'nciter_citers': [],\n",
    "                  'npoi_and_citer_refs': [],\n",
    "                  'npoi_and_citer_citers': []}\n",
    "                   \n",
    "                   \n",
    "for citer in tqdm(poi_citers):\n",
    "    df_citer = df[lambda x: (x['source'] == citer) | (x['target'] == citer)].copy()\n",
    "    nciter_refs, npoi_and_citer_refs, nciter_citers, npoi_and_citer_citers = get_citation_stats(df_citer, poi_refs, poi_citers)\n",
    "    \n",
    "    citation_stats['citer_doi'].append(citer)\n",
    "    citation_stats['nciter_refs'].append(nciter_refs)\n",
    "    citation_stats['nciter_citers'].append(nciter_citers)\n",
    "    citation_stats['npoi_and_citer_refs'].append(npoi_and_citer_refs)\n",
    "    citation_stats['npoi_and_citer_citers'].append(npoi_and_citer_citers)"
   ]
  },
  {
   "cell_type": "code",
   "execution_count": 194,
   "metadata": {},
   "outputs": [],
   "source": [
    "df_citation_stats = pd.DataFrame(citation_stats)"
   ]
  },
  {
   "cell_type": "code",
   "execution_count": 195,
   "metadata": {},
   "outputs": [
    {
     "data": {
      "text/html": [
       "<div>\n",
       "<style scoped>\n",
       "    .dataframe tbody tr th:only-of-type {\n",
       "        vertical-align: middle;\n",
       "    }\n",
       "\n",
       "    .dataframe tbody tr th {\n",
       "        vertical-align: top;\n",
       "    }\n",
       "\n",
       "    .dataframe thead th {\n",
       "        text-align: right;\n",
       "    }\n",
       "</style>\n",
       "<table border=\"1\" class=\"dataframe\">\n",
       "  <thead>\n",
       "    <tr style=\"text-align: right;\">\n",
       "      <th></th>\n",
       "      <th>citer_doi</th>\n",
       "      <th>nciter_refs</th>\n",
       "      <th>nciter_citers</th>\n",
       "      <th>npoi_and_citer_refs</th>\n",
       "      <th>npoi_and_citer_citers</th>\n",
       "    </tr>\n",
       "  </thead>\n",
       "  <tbody>\n",
       "    <tr>\n",
       "      <td>0</td>\n",
       "      <td>10.1029/2008jb005884</td>\n",
       "      <td>57</td>\n",
       "      <td>24</td>\n",
       "      <td>2</td>\n",
       "      <td>0</td>\n",
       "    </tr>\n",
       "    <tr>\n",
       "      <td>1</td>\n",
       "      <td>10.1002/2015jb012274</td>\n",
       "      <td>63</td>\n",
       "      <td>6</td>\n",
       "      <td>0</td>\n",
       "      <td>0</td>\n",
       "    </tr>\n",
       "    <tr>\n",
       "      <td>2</td>\n",
       "      <td>10.1366/000370203321558173</td>\n",
       "      <td>22</td>\n",
       "      <td>19</td>\n",
       "      <td>0</td>\n",
       "      <td>0</td>\n",
       "    </tr>\n",
       "    <tr>\n",
       "      <td>3</td>\n",
       "      <td>10.2465/jmps.071022a</td>\n",
       "      <td>13</td>\n",
       "      <td>10</td>\n",
       "      <td>0</td>\n",
       "      <td>1</td>\n",
       "    </tr>\n",
       "    <tr>\n",
       "      <td>4</td>\n",
       "      <td>10.2465/minerj.19.147</td>\n",
       "      <td>14</td>\n",
       "      <td>2</td>\n",
       "      <td>0</td>\n",
       "      <td>0</td>\n",
       "    </tr>\n",
       "  </tbody>\n",
       "</table>\n",
       "</div>"
      ],
      "text/plain": [
       "                    citer_doi  nciter_refs  nciter_citers  \\\n",
       "0        10.1029/2008jb005884           57             24   \n",
       "1        10.1002/2015jb012274           63              6   \n",
       "2  10.1366/000370203321558173           22             19   \n",
       "3        10.2465/jmps.071022a           13             10   \n",
       "4       10.2465/minerj.19.147           14              2   \n",
       "\n",
       "   npoi_and_citer_refs  npoi_and_citer_citers  \n",
       "0                    2                      0  \n",
       "1                    0                      0  \n",
       "2                    0                      0  \n",
       "3                    0                      1  \n",
       "4                    0                      0  "
      ]
     },
     "execution_count": 195,
     "metadata": {},
     "output_type": "execute_result"
    }
   ],
   "source": [
    "df_citation_stats.head()"
   ]
  },
  {
   "cell_type": "code",
   "execution_count": 198,
   "metadata": {},
   "outputs": [
    {
     "name": "stderr",
     "output_type": "stream",
     "text": [
      "INFO: NumExpr defaulting to 4 threads..\n"
     ]
    }
   ],
   "source": [
    "npoi_refs = len(poi_refs)\n",
    "npoi_citers = len(poi_citers)\n",
    "df_citation_stats['poi_ncommon_refs'] = df_citation_stats['npoi_and_citer_refs']/npoi_refs\n",
    "df_citation_stats['citer_ncommon_refs'] = df_citation_stats['npoi_and_citer_refs']/df_citation_stats['nciter_refs']\n",
    "\n",
    "df_citation_stats['poi_ncommon_citers'] = df_citation_stats['npoi_and_citer_citers']/npoi_citers\n",
    "df_citation_stats['citer_ncommon_citers'] = df_citation_stats['npoi_and_citer_citers']/df_citation_stats['nciter_citers']"
   ]
  },
  {
   "cell_type": "code",
   "execution_count": 199,
   "metadata": {},
   "outputs": [
    {
     "data": {
      "text/html": [
       "<div>\n",
       "<style scoped>\n",
       "    .dataframe tbody tr th:only-of-type {\n",
       "        vertical-align: middle;\n",
       "    }\n",
       "\n",
       "    .dataframe tbody tr th {\n",
       "        vertical-align: top;\n",
       "    }\n",
       "\n",
       "    .dataframe thead th {\n",
       "        text-align: right;\n",
       "    }\n",
       "</style>\n",
       "<table border=\"1\" class=\"dataframe\">\n",
       "  <thead>\n",
       "    <tr style=\"text-align: right;\">\n",
       "      <th></th>\n",
       "      <th>nciter_refs</th>\n",
       "      <th>nciter_citers</th>\n",
       "      <th>npoi_and_citer_refs</th>\n",
       "      <th>npoi_and_citer_citers</th>\n",
       "      <th>poi_ncommon_refs</th>\n",
       "      <th>citer_ncommon_refs</th>\n",
       "      <th>poi_ncommon_citers</th>\n",
       "      <th>citer_ncommon_citers</th>\n",
       "    </tr>\n",
       "  </thead>\n",
       "  <tbody>\n",
       "    <tr>\n",
       "      <td>count</td>\n",
       "      <td>22.000000</td>\n",
       "      <td>22.000000</td>\n",
       "      <td>22.000000</td>\n",
       "      <td>22.000000</td>\n",
       "      <td>22.000000</td>\n",
       "      <td>22.000000</td>\n",
       "      <td>22.000000</td>\n",
       "      <td>21.000000</td>\n",
       "    </tr>\n",
       "    <tr>\n",
       "      <td>mean</td>\n",
       "      <td>50.545455</td>\n",
       "      <td>15.272727</td>\n",
       "      <td>2.500000</td>\n",
       "      <td>0.772727</td>\n",
       "      <td>0.092593</td>\n",
       "      <td>0.056264</td>\n",
       "      <td>0.035124</td>\n",
       "      <td>0.072249</td>\n",
       "    </tr>\n",
       "    <tr>\n",
       "      <td>std</td>\n",
       "      <td>29.151047</td>\n",
       "      <td>12.829214</td>\n",
       "      <td>3.233014</td>\n",
       "      <td>1.020356</td>\n",
       "      <td>0.119741</td>\n",
       "      <td>0.079957</td>\n",
       "      <td>0.046380</td>\n",
       "      <td>0.103336</td>\n",
       "    </tr>\n",
       "    <tr>\n",
       "      <td>min</td>\n",
       "      <td>13.000000</td>\n",
       "      <td>0.000000</td>\n",
       "      <td>0.000000</td>\n",
       "      <td>0.000000</td>\n",
       "      <td>0.000000</td>\n",
       "      <td>0.000000</td>\n",
       "      <td>0.000000</td>\n",
       "      <td>0.000000</td>\n",
       "    </tr>\n",
       "    <tr>\n",
       "      <td>25%</td>\n",
       "      <td>28.750000</td>\n",
       "      <td>6.500000</td>\n",
       "      <td>0.000000</td>\n",
       "      <td>0.000000</td>\n",
       "      <td>0.000000</td>\n",
       "      <td>0.000000</td>\n",
       "      <td>0.000000</td>\n",
       "      <td>0.000000</td>\n",
       "    </tr>\n",
       "    <tr>\n",
       "      <td>50%</td>\n",
       "      <td>45.500000</td>\n",
       "      <td>10.000000</td>\n",
       "      <td>1.000000</td>\n",
       "      <td>0.500000</td>\n",
       "      <td>0.037037</td>\n",
       "      <td>0.031830</td>\n",
       "      <td>0.022727</td>\n",
       "      <td>0.023256</td>\n",
       "    </tr>\n",
       "    <tr>\n",
       "      <td>75%</td>\n",
       "      <td>62.500000</td>\n",
       "      <td>22.000000</td>\n",
       "      <td>3.750000</td>\n",
       "      <td>1.000000</td>\n",
       "      <td>0.138889</td>\n",
       "      <td>0.064805</td>\n",
       "      <td>0.045455</td>\n",
       "      <td>0.100000</td>\n",
       "    </tr>\n",
       "    <tr>\n",
       "      <td>max</td>\n",
       "      <td>122.000000</td>\n",
       "      <td>43.000000</td>\n",
       "      <td>13.000000</td>\n",
       "      <td>4.000000</td>\n",
       "      <td>0.481481</td>\n",
       "      <td>0.288889</td>\n",
       "      <td>0.181818</td>\n",
       "      <td>0.333333</td>\n",
       "    </tr>\n",
       "  </tbody>\n",
       "</table>\n",
       "</div>"
      ],
      "text/plain": [
       "       nciter_refs  nciter_citers  npoi_and_citer_refs  npoi_and_citer_citers  \\\n",
       "count    22.000000      22.000000            22.000000              22.000000   \n",
       "mean     50.545455      15.272727             2.500000               0.772727   \n",
       "std      29.151047      12.829214             3.233014               1.020356   \n",
       "min      13.000000       0.000000             0.000000               0.000000   \n",
       "25%      28.750000       6.500000             0.000000               0.000000   \n",
       "50%      45.500000      10.000000             1.000000               0.500000   \n",
       "75%      62.500000      22.000000             3.750000               1.000000   \n",
       "max     122.000000      43.000000            13.000000               4.000000   \n",
       "\n",
       "       poi_ncommon_refs  citer_ncommon_refs  poi_ncommon_citers  \\\n",
       "count         22.000000           22.000000           22.000000   \n",
       "mean           0.092593            0.056264            0.035124   \n",
       "std            0.119741            0.079957            0.046380   \n",
       "min            0.000000            0.000000            0.000000   \n",
       "25%            0.000000            0.000000            0.000000   \n",
       "50%            0.037037            0.031830            0.022727   \n",
       "75%            0.138889            0.064805            0.045455   \n",
       "max            0.481481            0.288889            0.181818   \n",
       "\n",
       "       citer_ncommon_citers  \n",
       "count             21.000000  \n",
       "mean               0.072249  \n",
       "std                0.103336  \n",
       "min                0.000000  \n",
       "25%                0.000000  \n",
       "50%                0.023256  \n",
       "75%                0.100000  \n",
       "max                0.333333  "
      ]
     },
     "execution_count": 199,
     "metadata": {},
     "output_type": "execute_result"
    }
   ],
   "source": [
    "df_citation_stats.describe()"
   ]
  },
  {
   "cell_type": "code",
   "execution_count": 204,
   "metadata": {},
   "outputs": [],
   "source": [
    "import matplotlib.pyplot as plt"
   ]
  },
  {
   "cell_type": "code",
   "execution_count": 207,
   "metadata": {},
   "outputs": [
    {
     "data": {
      "text/plain": [
       "(0, 1)"
      ]
     },
     "execution_count": 207,
     "metadata": {},
     "output_type": "execute_result"
    },
    {
     "data": {
      "image/png": "[encoded data removed]",
      "text/plain": [
       "<Figure size 432x288 with 1 Axes>"
      ]
     },
     "metadata": {
      "needs_background": "light"
     },
     "output_type": "display_data"
    }
   ],
   "source": [
    "df_citation_stats['poi_ncommon_refs'].hist(bins=20)\n",
    "plt.xlim([0,1])"
   ]
  },
  {
   "cell_type": "code",
   "execution_count": 209,
   "metadata": {},
   "outputs": [
    {
     "data": {
      "text/plain": [
       "(0, 1)"
      ]
     },
     "execution_count": 209,
     "metadata": {},
     "output_type": "execute_result"
    },
    {
     "data": {
      "image/png": "[encoded data removed]",
      "text/plain": [
       "<Figure size 432x288 with 1 Axes>"
      ]
     },
     "metadata": {
      "needs_background": "light"
     },
     "output_type": "display_data"
    }
   ],
   "source": [
    "df_citation_stats['poi_ncommon_citers'].hist()\n",
    "plt.xlim([0,1])"
   ]
  },
  {
   "cell_type": "markdown",
   "metadata": {},
   "source": []
  }
 ],
 "metadata": {
  "kernelspec": {
   "display_name": "Python 3",
   "language": "python",
   "name": "python3"
  },
  "language_info": {
   "codemirror_mode": {
    "name": "ipython",
    "version": 3
   },
   "file_extension": ".py",
   "mimetype": "text/x-python",
   "name": "python",
   "nbconvert_exporter": "python",
   "pygments_lexer": "ipython3",
   "version": "3.8.0"
  }
 },
 "nbformat": 4,
 "nbformat_minor": 4
}
